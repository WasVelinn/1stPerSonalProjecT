{
 "cells": [
  {
   "cell_type": "code",
   "execution_count": 1,
   "id": "add5de79",
   "metadata": {
    "ExecuteTime": {
     "end_time": "2025-01-14T01:38:33.199759Z",
     "start_time": "2025-01-14T01:38:23.995938Z"
    }
   },
   "outputs": [],
   "source": [
    "import pandas as pd\n",
    "import numpy as np\n",
    "\n",
    "# 데이터 로드\n",
    "orders = pd.read_csv('data/orders.csv')\n",
    "order_products = pd.read_csv('data/order_products__prior.csv')\n",
    "products = pd.read_csv('data/products.csv')\n",
    "aisles = pd.read_csv('data/aisles.csv')\n",
    "departments = pd.read_csv('data/departments.csv')"
   ]
  },
  {
   "cell_type": "code",
   "execution_count": 2,
   "id": "bdeee2da",
   "metadata": {
    "ExecuteTime": {
     "end_time": "2025-01-14T01:38:34.637739Z",
     "start_time": "2025-01-14T01:38:34.338179Z"
    }
   },
   "outputs": [],
   "source": [
    "# 고객별 주문 횟수 계산\n",
    "user_order_counts = orders.groupby('user_id').size()\n",
    "\n",
    "# 상위 20% 고객 선택\n",
    "top_users = user_order_counts[user_order_counts >= user_order_counts.quantile(0.8)].index\n",
    "\n",
    "# 필터링 적용\n",
    "orders = orders[orders['user_id'].isin(top_users)]"
   ]
  },
  {
   "cell_type": "code",
   "execution_count": 3,
   "id": "9e90665a",
   "metadata": {
    "ExecuteTime": {
     "end_time": "2025-01-14T01:38:37.228039Z",
     "start_time": "2025-01-14T01:38:37.033559Z"
    }
   },
   "outputs": [
    {
     "data": {
      "text/plain": [
       "Int64Index([    27,     50,     54,     90,    140,    152,    195,    204,\n",
       "               210,    222,\n",
       "            ...\n",
       "            205917, 205968, 205972, 205983, 206035, 206053, 206096, 206105,\n",
       "            206124, 206206],\n",
       "           dtype='int64', name='user_id', length=8778)"
      ]
     },
     "execution_count": 3,
     "metadata": {},
     "output_type": "execute_result"
    }
   ],
   "source": [
    "orders.groupby('user_id').size()[orders.groupby('user_id').size() >= orders.groupby('user_id').size().quantile(0.8)].index"
   ]
  },
  {
   "cell_type": "code",
   "execution_count": 4,
   "id": "b4ded563",
   "metadata": {
    "ExecuteTime": {
     "end_time": "2025-01-14T01:38:42.561876Z",
     "start_time": "2025-01-14T01:38:42.537997Z"
    }
   },
   "outputs": [
    {
     "data": {
      "text/html": [
       "<div>\n",
       "<style scoped>\n",
       "    .dataframe tbody tr th:only-of-type {\n",
       "        vertical-align: middle;\n",
       "    }\n",
       "\n",
       "    .dataframe tbody tr th {\n",
       "        vertical-align: top;\n",
       "    }\n",
       "\n",
       "    .dataframe thead th {\n",
       "        text-align: right;\n",
       "    }\n",
       "</style>\n",
       "<table border=\"1\" class=\"dataframe\">\n",
       "  <thead>\n",
       "    <tr style=\"text-align: right;\">\n",
       "      <th></th>\n",
       "      <th>order_id</th>\n",
       "      <th>user_id</th>\n",
       "      <th>eval_set</th>\n",
       "      <th>order_number</th>\n",
       "      <th>order_dow</th>\n",
       "      <th>order_hour_of_day</th>\n",
       "      <th>days_since_prior_order</th>\n",
       "    </tr>\n",
       "  </thead>\n",
       "  <tbody>\n",
       "    <tr>\n",
       "      <th>160</th>\n",
       "      <td>1737705</td>\n",
       "      <td>17</td>\n",
       "      <td>prior</td>\n",
       "      <td>1</td>\n",
       "      <td>2</td>\n",
       "      <td>13</td>\n",
       "      <td>NaN</td>\n",
       "    </tr>\n",
       "    <tr>\n",
       "      <th>161</th>\n",
       "      <td>1681401</td>\n",
       "      <td>17</td>\n",
       "      <td>prior</td>\n",
       "      <td>2</td>\n",
       "      <td>5</td>\n",
       "      <td>10</td>\n",
       "      <td>3.0</td>\n",
       "    </tr>\n",
       "    <tr>\n",
       "      <th>162</th>\n",
       "      <td>2680214</td>\n",
       "      <td>17</td>\n",
       "      <td>prior</td>\n",
       "      <td>3</td>\n",
       "      <td>3</td>\n",
       "      <td>10</td>\n",
       "      <td>5.0</td>\n",
       "    </tr>\n",
       "    <tr>\n",
       "      <th>163</th>\n",
       "      <td>3197376</td>\n",
       "      <td>17</td>\n",
       "      <td>prior</td>\n",
       "      <td>4</td>\n",
       "      <td>1</td>\n",
       "      <td>14</td>\n",
       "      <td>5.0</td>\n",
       "    </tr>\n",
       "    <tr>\n",
       "      <th>164</th>\n",
       "      <td>3237467</td>\n",
       "      <td>17</td>\n",
       "      <td>prior</td>\n",
       "      <td>5</td>\n",
       "      <td>6</td>\n",
       "      <td>17</td>\n",
       "      <td>5.0</td>\n",
       "    </tr>\n",
       "  </tbody>\n",
       "</table>\n",
       "</div>"
      ],
      "text/plain": [
       "     order_id  user_id eval_set  order_number  order_dow  order_hour_of_day  \\\n",
       "160   1737705       17    prior             1          2                 13   \n",
       "161   1681401       17    prior             2          5                 10   \n",
       "162   2680214       17    prior             3          3                 10   \n",
       "163   3197376       17    prior             4          1                 14   \n",
       "164   3237467       17    prior             5          6                 17   \n",
       "\n",
       "     days_since_prior_order  \n",
       "160                     NaN  \n",
       "161                     3.0  \n",
       "162                     5.0  \n",
       "163                     5.0  \n",
       "164                     5.0  "
      ]
     },
     "execution_count": 4,
     "metadata": {},
     "output_type": "execute_result"
    }
   ],
   "source": [
    "orders.head()"
   ]
  },
  {
   "cell_type": "code",
   "execution_count": 5,
   "id": "1f9b9137",
   "metadata": {
    "ExecuteTime": {
     "end_time": "2025-01-14T01:38:50.221210Z",
     "start_time": "2025-01-14T01:38:47.474522Z"
    }
   },
   "outputs": [],
   "source": [
    "# 상품별 주문 횟수 계산\n",
    "product_order_counts = order_products.groupby('product_id').size()\n",
    "\n",
    "# 상위 20% 상품 선택\n",
    "top_products = product_order_counts[product_order_counts >= product_order_counts.quantile(0.8)].index\n",
    "\n",
    "# 필터링 적용\n",
    "order_products = order_products[order_products['product_id'].isin(top_products)]"
   ]
  },
  {
   "cell_type": "code",
   "execution_count": 13,
   "id": "5d686daf",
   "metadata": {
    "ExecuteTime": {
     "end_time": "2025-01-14T01:42:12.623195Z",
     "start_time": "2025-01-14T01:42:12.610202Z"
    }
   },
   "outputs": [
    {
     "data": {
      "text/html": [
       "<div>\n",
       "<style scoped>\n",
       "    .dataframe tbody tr th:only-of-type {\n",
       "        vertical-align: middle;\n",
       "    }\n",
       "\n",
       "    .dataframe tbody tr th {\n",
       "        vertical-align: top;\n",
       "    }\n",
       "\n",
       "    .dataframe thead th {\n",
       "        text-align: right;\n",
       "    }\n",
       "</style>\n",
       "<table border=\"1\" class=\"dataframe\">\n",
       "  <thead>\n",
       "    <tr style=\"text-align: right;\">\n",
       "      <th></th>\n",
       "      <th>product_id</th>\n",
       "      <th>0</th>\n",
       "    </tr>\n",
       "  </thead>\n",
       "  <tbody>\n",
       "    <tr>\n",
       "      <th>0</th>\n",
       "      <td>1</td>\n",
       "      <td>1852</td>\n",
       "    </tr>\n",
       "    <tr>\n",
       "      <th>1</th>\n",
       "      <td>2</td>\n",
       "      <td>90</td>\n",
       "    </tr>\n",
       "    <tr>\n",
       "      <th>2</th>\n",
       "      <td>3</td>\n",
       "      <td>277</td>\n",
       "    </tr>\n",
       "    <tr>\n",
       "      <th>3</th>\n",
       "      <td>4</td>\n",
       "      <td>329</td>\n",
       "    </tr>\n",
       "    <tr>\n",
       "      <th>4</th>\n",
       "      <td>5</td>\n",
       "      <td>15</td>\n",
       "    </tr>\n",
       "    <tr>\n",
       "      <th>...</th>\n",
       "      <td>...</td>\n",
       "      <td>...</td>\n",
       "    </tr>\n",
       "    <tr>\n",
       "      <th>49672</th>\n",
       "      <td>49684</td>\n",
       "      <td>9</td>\n",
       "    </tr>\n",
       "    <tr>\n",
       "      <th>49673</th>\n",
       "      <td>49685</td>\n",
       "      <td>49</td>\n",
       "    </tr>\n",
       "    <tr>\n",
       "      <th>49674</th>\n",
       "      <td>49686</td>\n",
       "      <td>120</td>\n",
       "    </tr>\n",
       "    <tr>\n",
       "      <th>49675</th>\n",
       "      <td>49687</td>\n",
       "      <td>13</td>\n",
       "    </tr>\n",
       "    <tr>\n",
       "      <th>49676</th>\n",
       "      <td>49688</td>\n",
       "      <td>89</td>\n",
       "    </tr>\n",
       "  </tbody>\n",
       "</table>\n",
       "<p>49677 rows × 2 columns</p>\n",
       "</div>"
      ],
      "text/plain": [
       "       product_id     0\n",
       "0               1  1852\n",
       "1               2    90\n",
       "2               3   277\n",
       "3               4   329\n",
       "4               5    15\n",
       "...           ...   ...\n",
       "49672       49684     9\n",
       "49673       49685    49\n",
       "49674       49686   120\n",
       "49675       49687    13\n",
       "49676       49688    89\n",
       "\n",
       "[49677 rows x 2 columns]"
      ]
     },
     "execution_count": 13,
     "metadata": {},
     "output_type": "execute_result"
    }
   ],
   "source": [
    "product_order_counts.reset_index()"
   ]
  },
  {
   "cell_type": "code",
   "execution_count": 9,
   "id": "d38fe191",
   "metadata": {
    "ExecuteTime": {
     "end_time": "2025-01-14T01:40:30.931335Z",
     "start_time": "2025-01-14T01:40:30.922358Z"
    }
   },
   "outputs": [
    {
     "data": {
      "text/html": [
       "<div>\n",
       "<style scoped>\n",
       "    .dataframe tbody tr th:only-of-type {\n",
       "        vertical-align: middle;\n",
       "    }\n",
       "\n",
       "    .dataframe tbody tr th {\n",
       "        vertical-align: top;\n",
       "    }\n",
       "\n",
       "    .dataframe thead th {\n",
       "        text-align: right;\n",
       "    }\n",
       "</style>\n",
       "<table border=\"1\" class=\"dataframe\">\n",
       "  <thead>\n",
       "    <tr style=\"text-align: right;\">\n",
       "      <th></th>\n",
       "      <th>order_id</th>\n",
       "      <th>product_id</th>\n",
       "      <th>add_to_cart_order</th>\n",
       "      <th>reordered</th>\n",
       "    </tr>\n",
       "  </thead>\n",
       "  <tbody>\n",
       "    <tr>\n",
       "      <th>0</th>\n",
       "      <td>2</td>\n",
       "      <td>33120</td>\n",
       "      <td>1</td>\n",
       "      <td>1</td>\n",
       "    </tr>\n",
       "    <tr>\n",
       "      <th>1</th>\n",
       "      <td>2</td>\n",
       "      <td>28985</td>\n",
       "      <td>2</td>\n",
       "      <td>1</td>\n",
       "    </tr>\n",
       "    <tr>\n",
       "      <th>2</th>\n",
       "      <td>2</td>\n",
       "      <td>9327</td>\n",
       "      <td>3</td>\n",
       "      <td>0</td>\n",
       "    </tr>\n",
       "    <tr>\n",
       "      <th>3</th>\n",
       "      <td>2</td>\n",
       "      <td>45918</td>\n",
       "      <td>4</td>\n",
       "      <td>1</td>\n",
       "    </tr>\n",
       "    <tr>\n",
       "      <th>4</th>\n",
       "      <td>2</td>\n",
       "      <td>30035</td>\n",
       "      <td>5</td>\n",
       "      <td>0</td>\n",
       "    </tr>\n",
       "  </tbody>\n",
       "</table>\n",
       "</div>"
      ],
      "text/plain": [
       "   order_id  product_id  add_to_cart_order  reordered\n",
       "0         2       33120                  1          1\n",
       "1         2       28985                  2          1\n",
       "2         2        9327                  3          0\n",
       "3         2       45918                  4          1\n",
       "4         2       30035                  5          0"
      ]
     },
     "execution_count": 9,
     "metadata": {},
     "output_type": "execute_result"
    }
   ],
   "source": [
    "order_products.head()"
   ]
  },
  {
   "cell_type": "code",
   "execution_count": 7,
   "id": "15c2909f",
   "metadata": {
    "ExecuteTime": {
     "end_time": "2025-01-14T01:39:14.632228Z",
     "start_time": "2025-01-14T01:38:57.042098Z"
    }
   },
   "outputs": [
    {
     "name": "stdout",
     "output_type": "stream",
     "text": [
      "(16730774, 13)\n"
     ]
    }
   ],
   "source": [
    "# 주문 정보와 상품 주문 정보 병합\n",
    "order_details = pd.merge(order_products, orders[['order_id', 'user_id', 'order_number', 'order_dow', 'order_hour_of_day']], \n",
    "                         on='order_id', how='inner')\n",
    "\n",
    "# 상품 정보 병합\n",
    "order_details = pd.merge(order_details, products[['product_id', 'product_name', 'aisle_id', 'department_id']], \n",
    "                         on='product_id', how='inner')\n",
    "\n",
    "# 상품의 카테고리 정보 병합\n",
    "order_details = pd.merge(order_details, aisles[['aisle_id', 'aisle']], on='aisle_id', how='left')\n",
    "order_details = pd.merge(order_details, departments[['department_id', 'department']], on='department_id', how='left')\n",
    "\n",
    "print(order_details.shape)  # 데이터 크기 확인"
   ]
  },
  {
   "cell_type": "code",
   "execution_count": 8,
   "id": "cbebbc4a",
   "metadata": {
    "ExecuteTime": {
     "end_time": "2025-01-14T01:39:22.712172Z",
     "start_time": "2025-01-14T01:39:22.699207Z"
    }
   },
   "outputs": [
    {
     "data": {
      "text/html": [
       "<div>\n",
       "<style scoped>\n",
       "    .dataframe tbody tr th:only-of-type {\n",
       "        vertical-align: middle;\n",
       "    }\n",
       "\n",
       "    .dataframe tbody tr th {\n",
       "        vertical-align: top;\n",
       "    }\n",
       "\n",
       "    .dataframe thead th {\n",
       "        text-align: right;\n",
       "    }\n",
       "</style>\n",
       "<table border=\"1\" class=\"dataframe\">\n",
       "  <thead>\n",
       "    <tr style=\"text-align: right;\">\n",
       "      <th></th>\n",
       "      <th>order_id</th>\n",
       "      <th>product_id</th>\n",
       "      <th>add_to_cart_order</th>\n",
       "      <th>reordered</th>\n",
       "      <th>user_id</th>\n",
       "      <th>order_number</th>\n",
       "      <th>order_dow</th>\n",
       "      <th>order_hour_of_day</th>\n",
       "      <th>product_name</th>\n",
       "      <th>aisle_id</th>\n",
       "      <th>department_id</th>\n",
       "      <th>aisle</th>\n",
       "      <th>department</th>\n",
       "    </tr>\n",
       "  </thead>\n",
       "  <tbody>\n",
       "    <tr>\n",
       "      <th>0</th>\n",
       "      <td>3</td>\n",
       "      <td>33754</td>\n",
       "      <td>1</td>\n",
       "      <td>1</td>\n",
       "      <td>205970</td>\n",
       "      <td>16</td>\n",
       "      <td>5</td>\n",
       "      <td>17</td>\n",
       "      <td>Total 2% with Strawberry Lowfat Greek Strained...</td>\n",
       "      <td>120</td>\n",
       "      <td>16</td>\n",
       "      <td>yogurt</td>\n",
       "      <td>dairy eggs</td>\n",
       "    </tr>\n",
       "    <tr>\n",
       "      <th>1</th>\n",
       "      <td>342</td>\n",
       "      <td>33754</td>\n",
       "      <td>11</td>\n",
       "      <td>1</td>\n",
       "      <td>183968</td>\n",
       "      <td>24</td>\n",
       "      <td>2</td>\n",
       "      <td>17</td>\n",
       "      <td>Total 2% with Strawberry Lowfat Greek Strained...</td>\n",
       "      <td>120</td>\n",
       "      <td>16</td>\n",
       "      <td>yogurt</td>\n",
       "      <td>dairy eggs</td>\n",
       "    </tr>\n",
       "    <tr>\n",
       "      <th>2</th>\n",
       "      <td>582</td>\n",
       "      <td>33754</td>\n",
       "      <td>18</td>\n",
       "      <td>0</td>\n",
       "      <td>193223</td>\n",
       "      <td>6</td>\n",
       "      <td>2</td>\n",
       "      <td>19</td>\n",
       "      <td>Total 2% with Strawberry Lowfat Greek Strained...</td>\n",
       "      <td>120</td>\n",
       "      <td>16</td>\n",
       "      <td>yogurt</td>\n",
       "      <td>dairy eggs</td>\n",
       "    </tr>\n",
       "    <tr>\n",
       "      <th>3</th>\n",
       "      <td>1171</td>\n",
       "      <td>33754</td>\n",
       "      <td>32</td>\n",
       "      <td>1</td>\n",
       "      <td>100330</td>\n",
       "      <td>20</td>\n",
       "      <td>1</td>\n",
       "      <td>13</td>\n",
       "      <td>Total 2% with Strawberry Lowfat Greek Strained...</td>\n",
       "      <td>120</td>\n",
       "      <td>16</td>\n",
       "      <td>yogurt</td>\n",
       "      <td>dairy eggs</td>\n",
       "    </tr>\n",
       "    <tr>\n",
       "      <th>4</th>\n",
       "      <td>1502</td>\n",
       "      <td>33754</td>\n",
       "      <td>1</td>\n",
       "      <td>0</td>\n",
       "      <td>175768</td>\n",
       "      <td>13</td>\n",
       "      <td>0</td>\n",
       "      <td>14</td>\n",
       "      <td>Total 2% with Strawberry Lowfat Greek Strained...</td>\n",
       "      <td>120</td>\n",
       "      <td>16</td>\n",
       "      <td>yogurt</td>\n",
       "      <td>dairy eggs</td>\n",
       "    </tr>\n",
       "  </tbody>\n",
       "</table>\n",
       "</div>"
      ],
      "text/plain": [
       "   order_id  product_id  add_to_cart_order  reordered  user_id  order_number  \\\n",
       "0         3       33754                  1          1   205970            16   \n",
       "1       342       33754                 11          1   183968            24   \n",
       "2       582       33754                 18          0   193223             6   \n",
       "3      1171       33754                 32          1   100330            20   \n",
       "4      1502       33754                  1          0   175768            13   \n",
       "\n",
       "   order_dow  order_hour_of_day  \\\n",
       "0          5                 17   \n",
       "1          2                 17   \n",
       "2          2                 19   \n",
       "3          1                 13   \n",
       "4          0                 14   \n",
       "\n",
       "                                        product_name  aisle_id  department_id  \\\n",
       "0  Total 2% with Strawberry Lowfat Greek Strained...       120             16   \n",
       "1  Total 2% with Strawberry Lowfat Greek Strained...       120             16   \n",
       "2  Total 2% with Strawberry Lowfat Greek Strained...       120             16   \n",
       "3  Total 2% with Strawberry Lowfat Greek Strained...       120             16   \n",
       "4  Total 2% with Strawberry Lowfat Greek Strained...       120             16   \n",
       "\n",
       "    aisle  department  \n",
       "0  yogurt  dairy eggs  \n",
       "1  yogurt  dairy eggs  \n",
       "2  yogurt  dairy eggs  \n",
       "3  yogurt  dairy eggs  \n",
       "4  yogurt  dairy eggs  "
      ]
     },
     "execution_count": 8,
     "metadata": {},
     "output_type": "execute_result"
    }
   ],
   "source": [
    "order_details.head()"
   ]
  },
  {
   "cell_type": "code",
   "execution_count": 14,
   "id": "74612840",
   "metadata": {
    "ExecuteTime": {
     "end_time": "2025-01-14T03:31:48.334960Z",
     "start_time": "2025-01-14T03:31:46.600820Z"
    }
   },
   "outputs": [
    {
     "name": "stdout",
     "output_type": "stream",
     "text": [
      "<class 'pandas.core.frame.DataFrame'>\n",
      "Int64Index: 16730774 entries, 0 to 16730773\n",
      "Data columns (total 13 columns):\n",
      " #   Column             Dtype \n",
      "---  ------             ----- \n",
      " 0   order_id           int32 \n",
      " 1   product_id         int32 \n",
      " 2   add_to_cart_order  int64 \n",
      " 3   reordered          int8  \n",
      " 4   user_id            int32 \n",
      " 5   order_number       int64 \n",
      " 6   order_dow          int64 \n",
      " 7   order_hour_of_day  int64 \n",
      " 8   product_name       object\n",
      " 9   aisle_id           int16 \n",
      " 10  department_id      int16 \n",
      " 11  aisle              object\n",
      " 12  department         object\n",
      "dtypes: int16(2), int32(3), int64(4), int8(1), object(3)\n",
      "memory usage: 1.3+ GB\n",
      "None\n"
     ]
    }
   ],
   "source": [
    "# 데이터 타입 최적화\n",
    "order_details['order_id'] = order_details['order_id'].astype('int32')\n",
    "order_details['product_id'] = order_details['product_id'].astype('int32')\n",
    "order_details['user_id'] = order_details['user_id'].astype('int32')\n",
    "order_details['aisle_id'] = order_details['aisle_id'].astype('int16')\n",
    "order_details['department_id'] = order_details['department_id'].astype('int16')\n",
    "order_details['reordered'] = order_details['reordered'].astype('int8')\n",
    "\n",
    "print(order_details.info())"
   ]
  },
  {
   "cell_type": "code",
   "execution_count": 15,
   "id": "8d178c78",
   "metadata": {
    "ExecuteTime": {
     "end_time": "2025-01-14T03:31:54.025518Z",
     "start_time": "2025-01-14T03:31:53.057291Z"
    }
   },
   "outputs": [],
   "source": [
    "# 고객별 구매 패턴\n",
    "user_features = order_details.groupby('user_id').agg(\n",
    "    user_total_orders=('order_number', 'max'),\n",
    "    user_total_products=('product_id', 'count'),\n",
    "    user_reorder_rate=('reordered', 'mean'),\n",
    "    user_avg_cart_size=('add_to_cart_order', 'mean')\n",
    ").reset_index()"
   ]
  },
  {
   "cell_type": "code",
   "execution_count": 12,
   "id": "4056883c",
   "metadata": {
    "ExecuteTime": {
     "end_time": "2025-01-13T06:36:25.947220Z",
     "start_time": "2025-01-13T06:36:25.936043Z"
    }
   },
   "outputs": [
    {
     "name": "stdout",
     "output_type": "stream",
     "text": [
      "<class 'pandas.core.frame.DataFrame'>\n",
      "RangeIndex: 42498 entries, 0 to 42497\n",
      "Data columns (total 5 columns):\n",
      " #   Column               Non-Null Count  Dtype  \n",
      "---  ------               --------------  -----  \n",
      " 0   user_id              42498 non-null  int64  \n",
      " 1   user_total_orders    42498 non-null  int64  \n",
      " 2   user_total_products  42498 non-null  int64  \n",
      " 3   user_reorder_rate    42498 non-null  float64\n",
      " 4   user_avg_cart_size   42498 non-null  float64\n",
      "dtypes: float64(2), int64(3)\n",
      "memory usage: 1.6 MB\n"
     ]
    }
   ],
   "source": [
    "user_features.info()"
   ]
  },
  {
   "cell_type": "code",
   "execution_count": 16,
   "id": "3821aa37",
   "metadata": {
    "ExecuteTime": {
     "end_time": "2025-01-14T03:32:05.980656Z",
     "start_time": "2025-01-14T03:32:05.969670Z"
    }
   },
   "outputs": [
    {
     "data": {
      "text/html": [
       "<div>\n",
       "<style scoped>\n",
       "    .dataframe tbody tr th:only-of-type {\n",
       "        vertical-align: middle;\n",
       "    }\n",
       "\n",
       "    .dataframe tbody tr th {\n",
       "        vertical-align: top;\n",
       "    }\n",
       "\n",
       "    .dataframe thead th {\n",
       "        text-align: right;\n",
       "    }\n",
       "</style>\n",
       "<table border=\"1\" class=\"dataframe\">\n",
       "  <thead>\n",
       "    <tr style=\"text-align: right;\">\n",
       "      <th></th>\n",
       "      <th>user_id</th>\n",
       "      <th>user_total_orders</th>\n",
       "      <th>user_total_products</th>\n",
       "      <th>user_reorder_rate</th>\n",
       "      <th>user_avg_cart_size</th>\n",
       "    </tr>\n",
       "  </thead>\n",
       "  <tbody>\n",
       "    <tr>\n",
       "      <th>0</th>\n",
       "      <td>17</td>\n",
       "      <td>40</td>\n",
       "      <td>216</td>\n",
       "      <td>0.731481</td>\n",
       "      <td>4.458333</td>\n",
       "    </tr>\n",
       "    <tr>\n",
       "      <th>1</th>\n",
       "      <td>21</td>\n",
       "      <td>33</td>\n",
       "      <td>190</td>\n",
       "      <td>0.542105</td>\n",
       "      <td>4.447368</td>\n",
       "    </tr>\n",
       "    <tr>\n",
       "      <th>2</th>\n",
       "      <td>27</td>\n",
       "      <td>81</td>\n",
       "      <td>731</td>\n",
       "      <td>0.723666</td>\n",
       "      <td>7.700410</td>\n",
       "    </tr>\n",
       "    <tr>\n",
       "      <th>3</th>\n",
       "      <td>28</td>\n",
       "      <td>24</td>\n",
       "      <td>170</td>\n",
       "      <td>0.447059</td>\n",
       "      <td>5.782353</td>\n",
       "    </tr>\n",
       "    <tr>\n",
       "      <th>4</th>\n",
       "      <td>36</td>\n",
       "      <td>37</td>\n",
       "      <td>74</td>\n",
       "      <td>0.648649</td>\n",
       "      <td>2.783784</td>\n",
       "    </tr>\n",
       "  </tbody>\n",
       "</table>\n",
       "</div>"
      ],
      "text/plain": [
       "   user_id  user_total_orders  user_total_products  user_reorder_rate  \\\n",
       "0       17                 40                  216           0.731481   \n",
       "1       21                 33                  190           0.542105   \n",
       "2       27                 81                  731           0.723666   \n",
       "3       28                 24                  170           0.447059   \n",
       "4       36                 37                   74           0.648649   \n",
       "\n",
       "   user_avg_cart_size  \n",
       "0            4.458333  \n",
       "1            4.447368  \n",
       "2            7.700410  \n",
       "3            5.782353  \n",
       "4            2.783784  "
      ]
     },
     "execution_count": 16,
     "metadata": {},
     "output_type": "execute_result"
    }
   ],
   "source": [
    "user_features.head()"
   ]
  },
  {
   "cell_type": "code",
   "execution_count": 17,
   "id": "045350e5",
   "metadata": {
    "ExecuteTime": {
     "end_time": "2025-01-14T03:37:35.269451Z",
     "start_time": "2025-01-14T03:37:34.538606Z"
    }
   },
   "outputs": [
    {
     "name": "stdout",
     "output_type": "stream",
     "text": [
      "<class 'pandas.core.frame.DataFrame'>\n",
      "RangeIndex: 9941 entries, 0 to 9940\n",
      "Data columns (total 4 columns):\n",
      " #   Column                   Non-Null Count  Dtype  \n",
      "---  ------                   --------------  -----  \n",
      " 0   product_id               9941 non-null   int64  \n",
      " 1   product_total_orders     9941 non-null   int64  \n",
      " 2   product_reorder_rate     9941 non-null   float64\n",
      " 3   product_avg_add_to_cart  9941 non-null   float64\n",
      "dtypes: float64(2), int64(2)\n",
      "memory usage: 310.8 KB\n"
     ]
    }
   ],
   "source": [
    "# 상품별 구매 패턴\n",
    "product_features = order_details.groupby('product_id').agg(\n",
    "    product_total_orders=('order_id', 'count'),\n",
    "    product_reorder_rate=('reordered', 'mean'),\n",
    "    product_avg_add_to_cart=('add_to_cart_order', 'mean')\n",
    ").reset_index()\n",
    "product_features.info()"
   ]
  },
  {
   "cell_type": "code",
   "execution_count": 18,
   "id": "e19f623b",
   "metadata": {
    "ExecuteTime": {
     "end_time": "2025-01-14T03:37:43.427933Z",
     "start_time": "2025-01-14T03:37:43.417780Z"
    }
   },
   "outputs": [
    {
     "data": {
      "text/html": [
       "<div>\n",
       "<style scoped>\n",
       "    .dataframe tbody tr th:only-of-type {\n",
       "        vertical-align: middle;\n",
       "    }\n",
       "\n",
       "    .dataframe tbody tr th {\n",
       "        vertical-align: top;\n",
       "    }\n",
       "\n",
       "    .dataframe thead th {\n",
       "        text-align: right;\n",
       "    }\n",
       "</style>\n",
       "<table border=\"1\" class=\"dataframe\">\n",
       "  <thead>\n",
       "    <tr style=\"text-align: right;\">\n",
       "      <th></th>\n",
       "      <th>product_id</th>\n",
       "      <th>product_total_orders</th>\n",
       "      <th>product_reorder_rate</th>\n",
       "      <th>product_avg_add_to_cart</th>\n",
       "    </tr>\n",
       "  </thead>\n",
       "  <tbody>\n",
       "    <tr>\n",
       "      <th>0</th>\n",
       "      <td>1</td>\n",
       "      <td>1097</td>\n",
       "      <td>0.741112</td>\n",
       "      <td>5.767548</td>\n",
       "    </tr>\n",
       "    <tr>\n",
       "      <th>1</th>\n",
       "      <td>10</td>\n",
       "      <td>1400</td>\n",
       "      <td>0.613571</td>\n",
       "      <td>8.725000</td>\n",
       "    </tr>\n",
       "    <tr>\n",
       "      <th>2</th>\n",
       "      <td>23</td>\n",
       "      <td>522</td>\n",
       "      <td>0.524904</td>\n",
       "      <td>11.241379</td>\n",
       "    </tr>\n",
       "    <tr>\n",
       "      <th>3</th>\n",
       "      <td>25</td>\n",
       "      <td>1380</td>\n",
       "      <td>0.720290</td>\n",
       "      <td>9.849275</td>\n",
       "    </tr>\n",
       "    <tr>\n",
       "      <th>4</th>\n",
       "      <td>28</td>\n",
       "      <td>278</td>\n",
       "      <td>0.683453</td>\n",
       "      <td>7.748201</td>\n",
       "    </tr>\n",
       "  </tbody>\n",
       "</table>\n",
       "</div>"
      ],
      "text/plain": [
       "   product_id  product_total_orders  product_reorder_rate  \\\n",
       "0           1                  1097              0.741112   \n",
       "1          10                  1400              0.613571   \n",
       "2          23                   522              0.524904   \n",
       "3          25                  1380              0.720290   \n",
       "4          28                   278              0.683453   \n",
       "\n",
       "   product_avg_add_to_cart  \n",
       "0                 5.767548  \n",
       "1                 8.725000  \n",
       "2                11.241379  \n",
       "3                 9.849275  \n",
       "4                 7.748201  "
      ]
     },
     "execution_count": 18,
     "metadata": {},
     "output_type": "execute_result"
    }
   ],
   "source": [
    "product_features.head()"
   ]
  },
  {
   "cell_type": "code",
   "execution_count": 19,
   "id": "d97b8839",
   "metadata": {
    "ExecuteTime": {
     "end_time": "2025-01-14T03:42:05.728358Z",
     "start_time": "2025-01-14T03:42:01.194595Z"
    }
   },
   "outputs": [
    {
     "name": "stdout",
     "output_type": "stream",
     "text": [
      "<class 'pandas.core.frame.DataFrame'>\n",
      "RangeIndex: 4788994 entries, 0 to 4788993\n",
      "Data columns (total 4 columns):\n",
      " #   Column                     Dtype  \n",
      "---  ------                     -----  \n",
      " 0   user_id                    int64  \n",
      " 1   product_id                 int64  \n",
      " 2   user_product_orders        int64  \n",
      " 3   user_product_reorder_rate  float64\n",
      "dtypes: float64(1), int64(3)\n",
      "memory usage: 146.1 MB\n"
     ]
    }
   ],
   "source": [
    "# 고객-상품 조합 정보\n",
    "user_product_features = order_details.groupby(['user_id', 'product_id']).agg(\n",
    "    user_product_orders=('order_id', 'count'),\n",
    "    user_product_reorder_rate=('reordered', 'mean')\n",
    ").reset_index()\n",
    "user_product_features.info()"
   ]
  },
  {
   "cell_type": "code",
   "execution_count": 20,
   "id": "a47af554",
   "metadata": {
    "ExecuteTime": {
     "end_time": "2025-01-14T03:43:31.787742Z",
     "start_time": "2025-01-14T03:43:31.777582Z"
    }
   },
   "outputs": [
    {
     "data": {
      "text/html": [
       "<div>\n",
       "<style scoped>\n",
       "    .dataframe tbody tr th:only-of-type {\n",
       "        vertical-align: middle;\n",
       "    }\n",
       "\n",
       "    .dataframe tbody tr th {\n",
       "        vertical-align: top;\n",
       "    }\n",
       "\n",
       "    .dataframe thead th {\n",
       "        text-align: right;\n",
       "    }\n",
       "</style>\n",
       "<table border=\"1\" class=\"dataframe\">\n",
       "  <thead>\n",
       "    <tr style=\"text-align: right;\">\n",
       "      <th></th>\n",
       "      <th>user_id</th>\n",
       "      <th>product_id</th>\n",
       "      <th>user_product_orders</th>\n",
       "      <th>user_product_reorder_rate</th>\n",
       "    </tr>\n",
       "  </thead>\n",
       "  <tbody>\n",
       "    <tr>\n",
       "      <th>0</th>\n",
       "      <td>17</td>\n",
       "      <td>812</td>\n",
       "      <td>1</td>\n",
       "      <td>0.0</td>\n",
       "    </tr>\n",
       "    <tr>\n",
       "      <th>1</th>\n",
       "      <td>17</td>\n",
       "      <td>1073</td>\n",
       "      <td>2</td>\n",
       "      <td>0.5</td>\n",
       "    </tr>\n",
       "    <tr>\n",
       "      <th>2</th>\n",
       "      <td>17</td>\n",
       "      <td>1774</td>\n",
       "      <td>5</td>\n",
       "      <td>0.8</td>\n",
       "    </tr>\n",
       "    <tr>\n",
       "      <th>3</th>\n",
       "      <td>17</td>\n",
       "      <td>4591</td>\n",
       "      <td>1</td>\n",
       "      <td>0.0</td>\n",
       "    </tr>\n",
       "    <tr>\n",
       "      <th>4</th>\n",
       "      <td>17</td>\n",
       "      <td>5077</td>\n",
       "      <td>1</td>\n",
       "      <td>0.0</td>\n",
       "    </tr>\n",
       "  </tbody>\n",
       "</table>\n",
       "</div>"
      ],
      "text/plain": [
       "   user_id  product_id  user_product_orders  user_product_reorder_rate\n",
       "0       17         812                    1                        0.0\n",
       "1       17        1073                    2                        0.5\n",
       "2       17        1774                    5                        0.8\n",
       "3       17        4591                    1                        0.0\n",
       "4       17        5077                    1                        0.0"
      ]
     },
     "execution_count": 20,
     "metadata": {},
     "output_type": "execute_result"
    }
   ],
   "source": [
    "user_product_features.head()"
   ]
  },
  {
   "cell_type": "code",
   "execution_count": 21,
   "id": "61f5ec22",
   "metadata": {
    "ExecuteTime": {
     "end_time": "2025-01-14T03:47:10.405114Z",
     "start_time": "2025-01-14T03:47:08.218703Z"
    }
   },
   "outputs": [
    {
     "name": "stdout",
     "output_type": "stream",
     "text": [
      "(4788994, 11)\n"
     ]
    }
   ],
   "source": [
    "# 고객-상품 조합에 고객 정보 병합\n",
    "final_data = pd.merge(user_product_features, user_features, on='user_id', how='left')\n",
    "\n",
    "# 고객-상품 조합에 상품 정보 병합\n",
    "final_data = pd.merge(final_data, product_features, on='product_id', how='left')\n",
    "\n",
    "print(final_data.shape)  # 데이터 크기 확인"
   ]
  },
  {
   "cell_type": "code",
   "execution_count": 20,
   "id": "6814d301",
   "metadata": {
    "ExecuteTime": {
     "end_time": "2025-01-13T06:44:06.812405Z",
     "start_time": "2025-01-13T06:44:06.801465Z"
    }
   },
   "outputs": [
    {
     "name": "stdout",
     "output_type": "stream",
     "text": [
      "<class 'pandas.core.frame.DataFrame'>\n",
      "Int64Index: 4788994 entries, 0 to 4788993\n",
      "Data columns (total 11 columns):\n",
      " #   Column                     Dtype  \n",
      "---  ------                     -----  \n",
      " 0   user_id                    int64  \n",
      " 1   product_id                 int64  \n",
      " 2   user_product_orders        int64  \n",
      " 3   user_product_reorder_rate  float64\n",
      " 4   user_total_orders          int64  \n",
      " 5   user_total_products        int64  \n",
      " 6   user_reorder_rate          float64\n",
      " 7   user_avg_cart_size         float64\n",
      " 8   product_total_orders       int64  \n",
      " 9   product_reorder_rate       float64\n",
      " 10  product_avg_add_to_cart    float64\n",
      "dtypes: float64(5), int64(6)\n",
      "memory usage: 438.4 MB\n"
     ]
    }
   ],
   "source": [
    "final_data.info()"
   ]
  },
  {
   "cell_type": "code",
   "execution_count": 22,
   "id": "aee7e657",
   "metadata": {
    "ExecuteTime": {
     "end_time": "2025-01-14T03:47:28.358886Z",
     "start_time": "2025-01-14T03:47:28.345653Z"
    }
   },
   "outputs": [
    {
     "data": {
      "text/html": [
       "<div>\n",
       "<style scoped>\n",
       "    .dataframe tbody tr th:only-of-type {\n",
       "        vertical-align: middle;\n",
       "    }\n",
       "\n",
       "    .dataframe tbody tr th {\n",
       "        vertical-align: top;\n",
       "    }\n",
       "\n",
       "    .dataframe thead th {\n",
       "        text-align: right;\n",
       "    }\n",
       "</style>\n",
       "<table border=\"1\" class=\"dataframe\">\n",
       "  <thead>\n",
       "    <tr style=\"text-align: right;\">\n",
       "      <th></th>\n",
       "      <th>user_id</th>\n",
       "      <th>product_id</th>\n",
       "      <th>user_product_orders</th>\n",
       "      <th>user_product_reorder_rate</th>\n",
       "      <th>user_total_orders</th>\n",
       "      <th>user_total_products</th>\n",
       "      <th>user_reorder_rate</th>\n",
       "      <th>user_avg_cart_size</th>\n",
       "      <th>product_total_orders</th>\n",
       "      <th>product_reorder_rate</th>\n",
       "      <th>product_avg_add_to_cart</th>\n",
       "    </tr>\n",
       "  </thead>\n",
       "  <tbody>\n",
       "    <tr>\n",
       "      <th>0</th>\n",
       "      <td>17</td>\n",
       "      <td>812</td>\n",
       "      <td>1</td>\n",
       "      <td>0.0</td>\n",
       "      <td>40</td>\n",
       "      <td>216</td>\n",
       "      <td>0.731481</td>\n",
       "      <td>4.458333</td>\n",
       "      <td>2197</td>\n",
       "      <td>0.613564</td>\n",
       "      <td>10.868457</td>\n",
       "    </tr>\n",
       "    <tr>\n",
       "      <th>1</th>\n",
       "      <td>17</td>\n",
       "      <td>1073</td>\n",
       "      <td>2</td>\n",
       "      <td>0.5</td>\n",
       "      <td>40</td>\n",
       "      <td>216</td>\n",
       "      <td>0.731481</td>\n",
       "      <td>4.458333</td>\n",
       "      <td>328</td>\n",
       "      <td>0.679878</td>\n",
       "      <td>7.064024</td>\n",
       "    </tr>\n",
       "    <tr>\n",
       "      <th>2</th>\n",
       "      <td>17</td>\n",
       "      <td>1774</td>\n",
       "      <td>5</td>\n",
       "      <td>0.8</td>\n",
       "      <td>40</td>\n",
       "      <td>216</td>\n",
       "      <td>0.731481</td>\n",
       "      <td>4.458333</td>\n",
       "      <td>675</td>\n",
       "      <td>0.628148</td>\n",
       "      <td>7.579259</td>\n",
       "    </tr>\n",
       "    <tr>\n",
       "      <th>3</th>\n",
       "      <td>17</td>\n",
       "      <td>4591</td>\n",
       "      <td>1</td>\n",
       "      <td>0.0</td>\n",
       "      <td>40</td>\n",
       "      <td>216</td>\n",
       "      <td>0.731481</td>\n",
       "      <td>4.458333</td>\n",
       "      <td>1021</td>\n",
       "      <td>0.528893</td>\n",
       "      <td>9.928501</td>\n",
       "    </tr>\n",
       "    <tr>\n",
       "      <th>4</th>\n",
       "      <td>17</td>\n",
       "      <td>5077</td>\n",
       "      <td>1</td>\n",
       "      <td>0.0</td>\n",
       "      <td>40</td>\n",
       "      <td>216</td>\n",
       "      <td>0.731481</td>\n",
       "      <td>4.458333</td>\n",
       "      <td>34572</td>\n",
       "      <td>0.848693</td>\n",
       "      <td>7.009430</td>\n",
       "    </tr>\n",
       "  </tbody>\n",
       "</table>\n",
       "</div>"
      ],
      "text/plain": [
       "   user_id  product_id  user_product_orders  user_product_reorder_rate  \\\n",
       "0       17         812                    1                        0.0   \n",
       "1       17        1073                    2                        0.5   \n",
       "2       17        1774                    5                        0.8   \n",
       "3       17        4591                    1                        0.0   \n",
       "4       17        5077                    1                        0.0   \n",
       "\n",
       "   user_total_orders  user_total_products  user_reorder_rate  \\\n",
       "0                 40                  216           0.731481   \n",
       "1                 40                  216           0.731481   \n",
       "2                 40                  216           0.731481   \n",
       "3                 40                  216           0.731481   \n",
       "4                 40                  216           0.731481   \n",
       "\n",
       "   user_avg_cart_size  product_total_orders  product_reorder_rate  \\\n",
       "0            4.458333                  2197              0.613564   \n",
       "1            4.458333                   328              0.679878   \n",
       "2            4.458333                   675              0.628148   \n",
       "3            4.458333                  1021              0.528893   \n",
       "4            4.458333                 34572              0.848693   \n",
       "\n",
       "   product_avg_add_to_cart  \n",
       "0                10.868457  \n",
       "1                 7.064024  \n",
       "2                 7.579259  \n",
       "3                 9.928501  \n",
       "4                 7.009430  "
      ]
     },
     "execution_count": 22,
     "metadata": {},
     "output_type": "execute_result"
    }
   ],
   "source": [
    "final_data.head()"
   ]
  },
  {
   "cell_type": "code",
   "execution_count": 23,
   "id": "883e165a",
   "metadata": {
    "ExecuteTime": {
     "end_time": "2025-01-14T03:51:55.494161Z",
     "start_time": "2025-01-14T03:51:55.289876Z"
    }
   },
   "outputs": [],
   "source": [
    "final_data = final_data.drop(['user_total_orders', 'product_total_orders', 'user_product_orders'], axis=1)"
   ]
  },
  {
   "cell_type": "code",
   "execution_count": 24,
   "id": "c807406c",
   "metadata": {
    "ExecuteTime": {
     "end_time": "2025-01-14T03:52:00.983534Z",
     "start_time": "2025-01-14T03:52:00.969590Z"
    }
   },
   "outputs": [
    {
     "data": {
      "text/html": [
       "<div>\n",
       "<style scoped>\n",
       "    .dataframe tbody tr th:only-of-type {\n",
       "        vertical-align: middle;\n",
       "    }\n",
       "\n",
       "    .dataframe tbody tr th {\n",
       "        vertical-align: top;\n",
       "    }\n",
       "\n",
       "    .dataframe thead th {\n",
       "        text-align: right;\n",
       "    }\n",
       "</style>\n",
       "<table border=\"1\" class=\"dataframe\">\n",
       "  <thead>\n",
       "    <tr style=\"text-align: right;\">\n",
       "      <th></th>\n",
       "      <th>user_id</th>\n",
       "      <th>product_id</th>\n",
       "      <th>user_product_reorder_rate</th>\n",
       "      <th>user_total_products</th>\n",
       "      <th>user_reorder_rate</th>\n",
       "      <th>user_avg_cart_size</th>\n",
       "      <th>product_reorder_rate</th>\n",
       "      <th>product_avg_add_to_cart</th>\n",
       "    </tr>\n",
       "  </thead>\n",
       "  <tbody>\n",
       "    <tr>\n",
       "      <th>0</th>\n",
       "      <td>17</td>\n",
       "      <td>812</td>\n",
       "      <td>0.0</td>\n",
       "      <td>216</td>\n",
       "      <td>0.731481</td>\n",
       "      <td>4.458333</td>\n",
       "      <td>0.613564</td>\n",
       "      <td>10.868457</td>\n",
       "    </tr>\n",
       "    <tr>\n",
       "      <th>1</th>\n",
       "      <td>17</td>\n",
       "      <td>1073</td>\n",
       "      <td>0.5</td>\n",
       "      <td>216</td>\n",
       "      <td>0.731481</td>\n",
       "      <td>4.458333</td>\n",
       "      <td>0.679878</td>\n",
       "      <td>7.064024</td>\n",
       "    </tr>\n",
       "    <tr>\n",
       "      <th>2</th>\n",
       "      <td>17</td>\n",
       "      <td>1774</td>\n",
       "      <td>0.8</td>\n",
       "      <td>216</td>\n",
       "      <td>0.731481</td>\n",
       "      <td>4.458333</td>\n",
       "      <td>0.628148</td>\n",
       "      <td>7.579259</td>\n",
       "    </tr>\n",
       "    <tr>\n",
       "      <th>3</th>\n",
       "      <td>17</td>\n",
       "      <td>4591</td>\n",
       "      <td>0.0</td>\n",
       "      <td>216</td>\n",
       "      <td>0.731481</td>\n",
       "      <td>4.458333</td>\n",
       "      <td>0.528893</td>\n",
       "      <td>9.928501</td>\n",
       "    </tr>\n",
       "    <tr>\n",
       "      <th>4</th>\n",
       "      <td>17</td>\n",
       "      <td>5077</td>\n",
       "      <td>0.0</td>\n",
       "      <td>216</td>\n",
       "      <td>0.731481</td>\n",
       "      <td>4.458333</td>\n",
       "      <td>0.848693</td>\n",
       "      <td>7.009430</td>\n",
       "    </tr>\n",
       "  </tbody>\n",
       "</table>\n",
       "</div>"
      ],
      "text/plain": [
       "   user_id  product_id  user_product_reorder_rate  user_total_products  \\\n",
       "0       17         812                        0.0                  216   \n",
       "1       17        1073                        0.5                  216   \n",
       "2       17        1774                        0.8                  216   \n",
       "3       17        4591                        0.0                  216   \n",
       "4       17        5077                        0.0                  216   \n",
       "\n",
       "   user_reorder_rate  user_avg_cart_size  product_reorder_rate  \\\n",
       "0           0.731481            4.458333              0.613564   \n",
       "1           0.731481            4.458333              0.679878   \n",
       "2           0.731481            4.458333              0.628148   \n",
       "3           0.731481            4.458333              0.528893   \n",
       "4           0.731481            4.458333              0.848693   \n",
       "\n",
       "   product_avg_add_to_cart  \n",
       "0                10.868457  \n",
       "1                 7.064024  \n",
       "2                 7.579259  \n",
       "3                 9.928501  \n",
       "4                 7.009430  "
      ]
     },
     "execution_count": 24,
     "metadata": {},
     "output_type": "execute_result"
    }
   ],
   "source": [
    "final_data.head()"
   ]
  },
  {
   "cell_type": "code",
   "execution_count": 24,
   "id": "afba661f",
   "metadata": {
    "ExecuteTime": {
     "end_time": "2025-01-13T06:54:59.242142Z",
     "start_time": "2025-01-13T06:54:59.232048Z"
    },
    "scrolled": true
   },
   "outputs": [
    {
     "name": "stdout",
     "output_type": "stream",
     "text": [
      "<class 'pandas.core.frame.DataFrame'>\n",
      "Int64Index: 4788994 entries, 0 to 4788993\n",
      "Data columns (total 8 columns):\n",
      " #   Column                     Dtype  \n",
      "---  ------                     -----  \n",
      " 0   user_id                    int64  \n",
      " 1   product_id                 int64  \n",
      " 2   user_product_reorder_rate  float64\n",
      " 3   user_total_products        int64  \n",
      " 4   user_reorder_rate          float64\n",
      " 5   user_avg_cart_size         float64\n",
      " 6   product_reorder_rate       float64\n",
      " 7   product_avg_add_to_cart    float64\n",
      "dtypes: float64(5), int64(3)\n",
      "memory usage: 328.8 MB\n"
     ]
    }
   ],
   "source": [
    "final_data.info()"
   ]
  },
  {
   "cell_type": "code",
   "execution_count": 84,
   "id": "ee929216",
   "metadata": {
    "ExecuteTime": {
     "end_time": "2025-01-14T08:14:37.257659Z",
     "start_time": "2025-01-14T08:14:35.185092Z"
    }
   },
   "outputs": [
    {
     "name": "stdout",
     "output_type": "stream",
     "text": [
      "<class 'pandas.core.frame.DataFrame'>\n",
      "Int64Index: 4788994 entries, 0 to 4788993\n",
      "Data columns (total 4 columns):\n",
      " #   Column                     Dtype  \n",
      "---  ------                     -----  \n",
      " 0   user_id                    int64  \n",
      " 1   product_id                 int64  \n",
      " 2   user_product_reorder_rate  float64\n",
      " 3   target                     int64  \n",
      "dtypes: float64(1), int64(3)\n",
      "memory usage: 182.7 MB\n"
     ]
    }
   ],
   "source": [
    "# 불필요한 구매를 정의하는 기준 (재구매 확률이 0.6 이하인 경우)\n",
    "threshold = 0.6\n",
    "\n",
    "# 'target' 컬럼 생성: 재구매 확률이 0.6 이하 -> 0 (불필요), 0.6 이상 -> 1 (필요)\n",
    "final_data['target'] = final_data['user_product_reorder_rate'].apply(lambda x: 1 if x >= threshold else 0)\n",
    "\n",
    "# 종속변수 확인\n",
    "final_data[['user_id', 'product_id', 'user_product_reorder_rate', 'target']].info()"
   ]
  },
  {
   "cell_type": "code",
   "execution_count": 85,
   "id": "93015818",
   "metadata": {
    "ExecuteTime": {
     "end_time": "2025-01-14T08:15:52.719991Z",
     "start_time": "2025-01-14T08:15:52.608896Z"
    }
   },
   "outputs": [
    {
     "data": {
      "text/html": [
       "<div>\n",
       "<style scoped>\n",
       "    .dataframe tbody tr th:only-of-type {\n",
       "        vertical-align: middle;\n",
       "    }\n",
       "\n",
       "    .dataframe tbody tr th {\n",
       "        vertical-align: top;\n",
       "    }\n",
       "\n",
       "    .dataframe thead th {\n",
       "        text-align: right;\n",
       "    }\n",
       "</style>\n",
       "<table border=\"1\" class=\"dataframe\">\n",
       "  <thead>\n",
       "    <tr style=\"text-align: right;\">\n",
       "      <th></th>\n",
       "      <th>user_id</th>\n",
       "      <th>product_id</th>\n",
       "      <th>user_product_reorder_rate</th>\n",
       "      <th>target</th>\n",
       "    </tr>\n",
       "  </thead>\n",
       "  <tbody>\n",
       "    <tr>\n",
       "      <th>0</th>\n",
       "      <td>17</td>\n",
       "      <td>812</td>\n",
       "      <td>0.0</td>\n",
       "      <td>0</td>\n",
       "    </tr>\n",
       "    <tr>\n",
       "      <th>1</th>\n",
       "      <td>17</td>\n",
       "      <td>1073</td>\n",
       "      <td>0.5</td>\n",
       "      <td>0</td>\n",
       "    </tr>\n",
       "    <tr>\n",
       "      <th>2</th>\n",
       "      <td>17</td>\n",
       "      <td>1774</td>\n",
       "      <td>0.8</td>\n",
       "      <td>1</td>\n",
       "    </tr>\n",
       "    <tr>\n",
       "      <th>3</th>\n",
       "      <td>17</td>\n",
       "      <td>4591</td>\n",
       "      <td>0.0</td>\n",
       "      <td>0</td>\n",
       "    </tr>\n",
       "    <tr>\n",
       "      <th>4</th>\n",
       "      <td>17</td>\n",
       "      <td>5077</td>\n",
       "      <td>0.0</td>\n",
       "      <td>0</td>\n",
       "    </tr>\n",
       "  </tbody>\n",
       "</table>\n",
       "</div>"
      ],
      "text/plain": [
       "   user_id  product_id  user_product_reorder_rate  target\n",
       "0       17         812                        0.0       0\n",
       "1       17        1073                        0.5       0\n",
       "2       17        1774                        0.8       1\n",
       "3       17        4591                        0.0       0\n",
       "4       17        5077                        0.0       0"
      ]
     },
     "execution_count": 85,
     "metadata": {},
     "output_type": "execute_result"
    }
   ],
   "source": [
    "final_data[['user_id', 'product_id', 'user_product_reorder_rate', 'target']].head()"
   ]
  },
  {
   "cell_type": "code",
   "execution_count": 87,
   "id": "298e9e97",
   "metadata": {
    "ExecuteTime": {
     "end_time": "2025-01-14T08:16:33.436167Z",
     "start_time": "2025-01-14T08:16:30.544309Z"
    }
   },
   "outputs": [
    {
     "data": {
      "image/png": "[encoded data removed]",
      "text/plain": [
       "<Figure size 1000x600 with 1 Axes>"
      ]
     },
     "metadata": {},
     "output_type": "display_data"
    }
   ],
   "source": [
    "import matplotlib.pyplot as plt\n",
    "import seaborn as sns\n",
    "\n",
    "# 고객별 평균 장바구니 크기 계산\n",
    "user_avg_cart_size = order_details.groupby('user_id')['add_to_cart_order'].mean()\n",
    "\n",
    "# 히스토그램 시각화\n",
    "plt.figure(figsize=(10, 6))\n",
    "sns.histplot(user_avg_cart_size, bins=30, kde=True, color='blue')\n",
    "plt.title('Distribution of Average Cart Size per Customer')\n",
    "plt.xlabel('Average Cart Size')\n",
    "plt.ylabel('Frequency')\n",
    "plt.show()"
   ]
  },
  {
   "cell_type": "code",
   "execution_count": 28,
   "id": "00cb1367",
   "metadata": {
    "ExecuteTime": {
     "end_time": "2025-01-13T07:03:51.478684Z",
     "start_time": "2025-01-13T07:03:50.760076Z"
    }
   },
   "outputs": [
    {
     "data": {
      "image/png": "[encoded data removed]",
      "text/plain": [
       "<Figure size 1000x600 with 1 Axes>"
      ]
     },
     "metadata": {},
     "output_type": "display_data"
    }
   ],
   "source": [
    "# 상품별 재구매율 계산\n",
    "product_reorder_rate = order_details.groupby('product_id')['reordered'].mean()\n",
    "\n",
    "# 히스토그램 시각화\n",
    "plt.figure(figsize=(10, 6))\n",
    "sns.histplot(product_reorder_rate, bins=30, kde=True, color='green')\n",
    "plt.title('Distribution of Product Reorder Rates')\n",
    "plt.xlabel('Reorder Rate')\n",
    "plt.ylabel('Frequency')\n",
    "plt.show()"
   ]
  },
  {
   "cell_type": "code",
   "execution_count": 29,
   "id": "2aaa6dea",
   "metadata": {
    "ExecuteTime": {
     "end_time": "2025-01-13T07:08:27.312230Z",
     "start_time": "2025-01-13T07:08:27.113231Z"
    }
   },
   "outputs": [
    {
     "data": {
      "image/png": "[encoded data removed]",
      "text/plain": [
       "<Figure size 800x600 with 1 Axes>"
      ]
     },
     "metadata": {},
     "output_type": "display_data"
    }
   ],
   "source": [
    "# 요일별 주문량 계산\n",
    "order_dow_counts = orders['order_dow'].value_counts().sort_index()\n",
    "\n",
    "# 막대그래프 시각화\n",
    "plt.figure(figsize=(8, 6))\n",
    "sns.barplot(x=order_dow_counts.index, y=order_dow_counts.values, palette='viridis')\n",
    "plt.title('Order Counts by Day of Week')\n",
    "plt.xlabel('Day of Week (0=Sunday, 6=Saturday)')\n",
    "plt.ylabel('Order Count')\n",
    "plt.show()"
   ]
  },
  {
   "cell_type": "code",
   "execution_count": 30,
   "id": "22383699",
   "metadata": {
    "ExecuteTime": {
     "end_time": "2025-01-13T07:08:36.834319Z",
     "start_time": "2025-01-13T07:08:36.615991Z"
    }
   },
   "outputs": [
    {
     "data": {
      "image/png": "[encoded data removed]",
      "text/plain": [
       "<Figure size 1000x600 with 1 Axes>"
      ]
     },
     "metadata": {},
     "output_type": "display_data"
    }
   ],
   "source": [
    "# 시간대별 주문량 계산\n",
    "order_hour_counts = orders['order_hour_of_day'].value_counts().sort_index()\n",
    "\n",
    "# 선 그래프 시각화\n",
    "plt.figure(figsize=(10, 6))\n",
    "sns.lineplot(x=order_hour_counts.index, y=order_hour_counts.values, marker='o', color='purple')\n",
    "plt.title('Order Counts by Hour of Day')\n",
    "plt.xlabel('Hour of Day')\n",
    "plt.ylabel('Order Count')\n",
    "plt.show()"
   ]
  },
  {
   "cell_type": "code",
   "execution_count": 33,
   "id": "c3aaaf23",
   "metadata": {
    "ExecuteTime": {
     "end_time": "2025-01-13T07:12:42.709687Z",
     "start_time": "2025-01-13T07:12:39.313140Z"
    }
   },
   "outputs": [
    {
     "data": {
      "image/png": "[encoded data removed]",
      "text/plain": [
       "<Figure size 1000x600 with 1 Axes>"
      ]
     },
     "metadata": {},
     "output_type": "display_data"
    }
   ],
   "source": [
    "# 고객-상품 조합별 재구매율 계산\n",
    "user_product_reorder_rate = user_product_features['user_product_reorder_rate']\n",
    "\n",
    "# 히스토그램 시각화\n",
    "plt.figure(figsize=(10, 6))\n",
    "sns.histplot(user_product_reorder_rate, bins=30, color='orange')\n",
    "plt.title('Distribution of User-Product Reorder Rates')\n",
    "plt.xlabel('Reorder Rate')\n",
    "plt.ylabel('Frequency')\n",
    "plt.show()"
   ]
  },
  {
   "cell_type": "code",
   "execution_count": 35,
   "id": "13df0ec0",
   "metadata": {
    "ExecuteTime": {
     "end_time": "2025-01-13T07:16:11.499284Z",
     "start_time": "2025-01-13T07:16:10.656327Z"
    }
   },
   "outputs": [
    {
     "data": {
      "image/png": "[encoded data removed]",
      "text/plain": [
       "<Figure size 1200x600 with 1 Axes>"
      ]
     },
     "metadata": {},
     "output_type": "display_data"
    }
   ],
   "source": [
    "# 부서별 주문량 계산\n",
    "department_order_counts = order_details['department'].value_counts()\n",
    "\n",
    "# 막대그래프 시각화\n",
    "plt.figure(figsize=(12, 6))\n",
    "sns.barplot(x=department_order_counts.index, y=department_order_counts.values, palette='pastel')\n",
    "plt.title('Order Counts by Department')\n",
    "plt.xticks(rotation=45)\n",
    "plt.xlabel('Department')\n",
    "plt.ylabel('Order Count')\n",
    "plt.show()"
   ]
  },
  {
   "cell_type": "code",
   "execution_count": 88,
   "id": "8a975b28",
   "metadata": {
    "ExecuteTime": {
     "end_time": "2025-01-14T08:16:40.741024Z",
     "start_time": "2025-01-14T08:16:40.184377Z"
    }
   },
   "outputs": [
    {
     "data": {
      "image/png": "[encoded data removed]",
      "text/plain": [
       "<Figure size 800x800 with 1 Axes>"
      ]
     },
     "metadata": {},
     "output_type": "display_data"
    }
   ],
   "source": [
    "# 상품별 재구매율 기준으로 불필요 구매 분류\n",
    "threshold = 0.6  # 재구매율이 60% 미만인 경우를 불필요 구매로 정의\n",
    "product_reorder_rate = order_details.groupby('product_id')['reordered'].mean()\n",
    "unnecessary_purchase_rate = (product_reorder_rate < threshold).mean()\n",
    "\n",
    "# Pie 차트로 비율 시각화\n",
    "labels = ['Necessary Purchases', 'Unnecessary Purchases']\n",
    "sizes = [1 - unnecessary_purchase_rate, unnecessary_purchase_rate]\n",
    "colors = ['skyblue', 'salmon']\n",
    "\n",
    "plt.figure(figsize=(8, 8))\n",
    "plt.pie(sizes, labels=labels, colors=colors, autopct='%1.1f%%', startangle=140)\n",
    "plt.title('Proportion of Unnecessary Purchases')\n",
    "plt.show()"
   ]
  },
  {
   "cell_type": "code",
   "execution_count": 74,
   "id": "d5109eae",
   "metadata": {
    "ExecuteTime": {
     "end_time": "2025-01-14T06:42:55.590301Z",
     "start_time": "2025-01-14T06:42:55.585313Z"
    }
   },
   "outputs": [],
   "source": [
    "import numpy as np\n",
    "from tensorflow.keras.models import Sequential  # 모델 생성\n",
    "from tensorflow.keras.layers import Dense, Input, Dropout"
   ]
  },
  {
   "cell_type": "code",
   "execution_count": 113,
   "id": "0da81442",
   "metadata": {
    "ExecuteTime": {
     "end_time": "2025-01-14T08:41:37.953143Z",
     "start_time": "2025-01-14T08:41:37.768454Z"
    }
   },
   "outputs": [
    {
     "data": {
      "text/html": [
       "<div>\n",
       "<style scoped>\n",
       "    .dataframe tbody tr th:only-of-type {\n",
       "        vertical-align: middle;\n",
       "    }\n",
       "\n",
       "    .dataframe tbody tr th {\n",
       "        vertical-align: top;\n",
       "    }\n",
       "\n",
       "    .dataframe thead th {\n",
       "        text-align: right;\n",
       "    }\n",
       "</style>\n",
       "<table border=\"1\" class=\"dataframe\">\n",
       "  <thead>\n",
       "    <tr style=\"text-align: right;\">\n",
       "      <th></th>\n",
       "      <th>user_product_reorder_rate</th>\n",
       "      <th>user_total_products</th>\n",
       "      <th>user_reorder_rate</th>\n",
       "      <th>user_avg_cart_size</th>\n",
       "      <th>product_reorder_rate</th>\n",
       "      <th>product_avg_add_to_cart</th>\n",
       "      <th>target</th>\n",
       "    </tr>\n",
       "  </thead>\n",
       "  <tbody>\n",
       "    <tr>\n",
       "      <th>0</th>\n",
       "      <td>0.0</td>\n",
       "      <td>216</td>\n",
       "      <td>0.731481</td>\n",
       "      <td>4.458333</td>\n",
       "      <td>0.613564</td>\n",
       "      <td>10.868457</td>\n",
       "      <td>0</td>\n",
       "    </tr>\n",
       "    <tr>\n",
       "      <th>1</th>\n",
       "      <td>0.5</td>\n",
       "      <td>216</td>\n",
       "      <td>0.731481</td>\n",
       "      <td>4.458333</td>\n",
       "      <td>0.679878</td>\n",
       "      <td>7.064024</td>\n",
       "      <td>0</td>\n",
       "    </tr>\n",
       "    <tr>\n",
       "      <th>2</th>\n",
       "      <td>0.8</td>\n",
       "      <td>216</td>\n",
       "      <td>0.731481</td>\n",
       "      <td>4.458333</td>\n",
       "      <td>0.628148</td>\n",
       "      <td>7.579259</td>\n",
       "      <td>1</td>\n",
       "    </tr>\n",
       "    <tr>\n",
       "      <th>3</th>\n",
       "      <td>0.0</td>\n",
       "      <td>216</td>\n",
       "      <td>0.731481</td>\n",
       "      <td>4.458333</td>\n",
       "      <td>0.528893</td>\n",
       "      <td>9.928501</td>\n",
       "      <td>0</td>\n",
       "    </tr>\n",
       "    <tr>\n",
       "      <th>4</th>\n",
       "      <td>0.0</td>\n",
       "      <td>216</td>\n",
       "      <td>0.731481</td>\n",
       "      <td>4.458333</td>\n",
       "      <td>0.848693</td>\n",
       "      <td>7.009430</td>\n",
       "      <td>0</td>\n",
       "    </tr>\n",
       "  </tbody>\n",
       "</table>\n",
       "</div>"
      ],
      "text/plain": [
       "   user_product_reorder_rate  user_total_products  user_reorder_rate  \\\n",
       "0                        0.0                  216           0.731481   \n",
       "1                        0.5                  216           0.731481   \n",
       "2                        0.8                  216           0.731481   \n",
       "3                        0.0                  216           0.731481   \n",
       "4                        0.0                  216           0.731481   \n",
       "\n",
       "   user_avg_cart_size  product_reorder_rate  product_avg_add_to_cart  target  \n",
       "0            4.458333              0.613564                10.868457       0  \n",
       "1            4.458333              0.679878                 7.064024       0  \n",
       "2            4.458333              0.628148                 7.579259       1  \n",
       "3            4.458333              0.528893                 9.928501       0  \n",
       "4            4.458333              0.848693                 7.009430       0  "
      ]
     },
     "execution_count": 113,
     "metadata": {},
     "output_type": "execute_result"
    }
   ],
   "source": [
    "# 최종 데이터 셋에서 user_id, product_id 컬럼 제거\n",
    "final_data_ind = final_data.drop(['user_id', 'product_id'], axis=1)\n",
    "final_data_ind.head()"
   ]
  },
  {
   "cell_type": "code",
   "execution_count": 98,
   "id": "6c61258d",
   "metadata": {
    "ExecuteTime": {
     "end_time": "2025-01-14T08:18:51.224390Z",
     "start_time": "2025-01-14T08:18:48.904506Z"
    }
   },
   "outputs": [
    {
     "name": "stdout",
     "output_type": "stream",
     "text": [
      "샘플링 후 데이터 크기: (478899, 7)\n"
     ]
    }
   ],
   "source": [
    "from sklearn.model_selection import train_test_split\n",
    "\n",
    "# 10% 샘플링 (층화 샘플링)\n",
    "sampled_data, _ = train_test_split(\n",
    "    final_data_ind, \n",
    "    test_size=0.9,  # 전체 데이터의 90%를 제외\n",
    "    stratify=final_data['target'],  # 종속변수 기준으로 층화\n",
    "    random_state=42\n",
    ")\n",
    "\n",
    "print(\"샘플링 후 데이터 크기:\", sampled_data.shape)"
   ]
  },
  {
   "cell_type": "code",
   "execution_count": 114,
   "id": "7f7cb9bf",
   "metadata": {
    "ExecuteTime": {
     "end_time": "2025-01-14T08:52:46.711263Z",
     "start_time": "2025-01-14T08:52:46.698180Z"
    }
   },
   "outputs": [
    {
     "data": {
      "text/html": [
       "<div>\n",
       "<style scoped>\n",
       "    .dataframe tbody tr th:only-of-type {\n",
       "        vertical-align: middle;\n",
       "    }\n",
       "\n",
       "    .dataframe tbody tr th {\n",
       "        vertical-align: top;\n",
       "    }\n",
       "\n",
       "    .dataframe thead th {\n",
       "        text-align: right;\n",
       "    }\n",
       "</style>\n",
       "<table border=\"1\" class=\"dataframe\">\n",
       "  <thead>\n",
       "    <tr style=\"text-align: right;\">\n",
       "      <th></th>\n",
       "      <th>user_product_reorder_rate</th>\n",
       "      <th>user_total_products</th>\n",
       "      <th>user_reorder_rate</th>\n",
       "      <th>user_avg_cart_size</th>\n",
       "      <th>product_reorder_rate</th>\n",
       "      <th>product_avg_add_to_cart</th>\n",
       "      <th>target</th>\n",
       "    </tr>\n",
       "  </thead>\n",
       "  <tbody>\n",
       "    <tr>\n",
       "      <th>3128988</th>\n",
       "      <td>0.0</td>\n",
       "      <td>830</td>\n",
       "      <td>0.610843</td>\n",
       "      <td>7.736145</td>\n",
       "      <td>0.213483</td>\n",
       "      <td>10.581245</td>\n",
       "      <td>0</td>\n",
       "    </tr>\n",
       "    <tr>\n",
       "      <th>3802125</th>\n",
       "      <td>0.5</td>\n",
       "      <td>547</td>\n",
       "      <td>0.705667</td>\n",
       "      <td>11.773309</td>\n",
       "      <td>0.796667</td>\n",
       "      <td>6.325000</td>\n",
       "      <td>0</td>\n",
       "    </tr>\n",
       "    <tr>\n",
       "      <th>1020097</th>\n",
       "      <td>0.0</td>\n",
       "      <td>377</td>\n",
       "      <td>0.607427</td>\n",
       "      <td>9.159151</td>\n",
       "      <td>0.921589</td>\n",
       "      <td>4.909923</td>\n",
       "      <td>0</td>\n",
       "    </tr>\n",
       "    <tr>\n",
       "      <th>2425992</th>\n",
       "      <td>0.0</td>\n",
       "      <td>253</td>\n",
       "      <td>0.707510</td>\n",
       "      <td>5.122530</td>\n",
       "      <td>0.358607</td>\n",
       "      <td>9.520492</td>\n",
       "      <td>0</td>\n",
       "    </tr>\n",
       "    <tr>\n",
       "      <th>4221926</th>\n",
       "      <td>0.5</td>\n",
       "      <td>595</td>\n",
       "      <td>0.714286</td>\n",
       "      <td>10.425210</td>\n",
       "      <td>0.376209</td>\n",
       "      <td>9.955606</td>\n",
       "      <td>0</td>\n",
       "    </tr>\n",
       "  </tbody>\n",
       "</table>\n",
       "</div>"
      ],
      "text/plain": [
       "         user_product_reorder_rate  user_total_products  user_reorder_rate  \\\n",
       "3128988                        0.0                  830           0.610843   \n",
       "3802125                        0.5                  547           0.705667   \n",
       "1020097                        0.0                  377           0.607427   \n",
       "2425992                        0.0                  253           0.707510   \n",
       "4221926                        0.5                  595           0.714286   \n",
       "\n",
       "         user_avg_cart_size  product_reorder_rate  product_avg_add_to_cart  \\\n",
       "3128988            7.736145              0.213483                10.581245   \n",
       "3802125           11.773309              0.796667                 6.325000   \n",
       "1020097            9.159151              0.921589                 4.909923   \n",
       "2425992            5.122530              0.358607                 9.520492   \n",
       "4221926           10.425210              0.376209                 9.955606   \n",
       "\n",
       "         target  \n",
       "3128988       0  \n",
       "3802125       0  \n",
       "1020097       0  \n",
       "2425992       0  \n",
       "4221926       0  "
      ]
     },
     "execution_count": 114,
     "metadata": {},
     "output_type": "execute_result"
    }
   ],
   "source": [
    "sampled_data.head()"
   ]
  },
  {
   "cell_type": "code",
   "execution_count": 103,
   "id": "6d8093ca",
   "metadata": {
    "ExecuteTime": {
     "end_time": "2025-01-14T08:20:35.736540Z",
     "start_time": "2025-01-14T08:20:35.633268Z"
    }
   },
   "outputs": [
    {
     "data": {
      "text/plain": [
       "(478899, 6)"
      ]
     },
     "execution_count": 103,
     "metadata": {},
     "output_type": "execute_result"
    }
   ],
   "source": [
    "# 독립변수 정규화 스케일링\n",
    "from sklearn.preprocessing import MinMaxScaler\n",
    "\n",
    "scaler = MinMaxScaler()\n",
    "X_scaled = scaler.fit_transform(sampled_data.iloc[:, :-1])\n",
    "\n",
    "X_scaled.shape"
   ]
  },
  {
   "cell_type": "code",
   "execution_count": 115,
   "id": "41371172",
   "metadata": {
    "ExecuteTime": {
     "end_time": "2025-01-14T08:54:14.917224Z",
     "start_time": "2025-01-14T08:54:14.912230Z"
    }
   },
   "outputs": [
    {
     "name": "stdout",
     "output_type": "stream",
     "text": [
      "[[0.         0.22474678 0.6148196  0.18550531 0.20974002 0.67593412]\n",
      " [0.50537634 0.14727621 0.71370508 0.29668396 0.86058457 0.32250453]\n",
      " [0.         0.10073912 0.61125695 0.2246932  1.         0.20499951]\n",
      " [0.         0.06679442 0.71562661 0.1135295  0.37170067 0.58785144]\n",
      " [0.50537634 0.1604161  0.72269267 0.25955894 0.39134585 0.62398242]]\n"
     ]
    }
   ],
   "source": [
    "print(X_scaled[:5])"
   ]
  },
  {
   "cell_type": "code",
   "execution_count": 104,
   "id": "0506d537",
   "metadata": {
    "ExecuteTime": {
     "end_time": "2025-01-14T08:20:39.407763Z",
     "start_time": "2025-01-14T08:20:39.376409Z"
    }
   },
   "outputs": [
    {
     "data": {
      "text/plain": [
       "(478899,)"
      ]
     },
     "execution_count": 104,
     "metadata": {},
     "output_type": "execute_result"
    }
   ],
   "source": [
    "# 종속변수 분리(target)\n",
    "y = sampled_data.iloc[:,-1]\n",
    "y.shape"
   ]
  },
  {
   "cell_type": "code",
   "execution_count": 116,
   "id": "98aa5430",
   "metadata": {
    "ExecuteTime": {
     "end_time": "2025-01-14T08:55:08.461352Z",
     "start_time": "2025-01-14T08:55:08.376097Z"
    }
   },
   "outputs": [
    {
     "data": {
      "text/plain": [
       "((383119, 6), (95780, 6), (383119,), (95780,))"
      ]
     },
     "execution_count": 116,
     "metadata": {},
     "output_type": "execute_result"
    }
   ],
   "source": [
    "# 훈련, 테스트 데이터셋 분류\n",
    "X_train, X_test, y_train, y_test = train_test_split(X_scaled, y, test_size=0.2, random_state=42)\n",
    "X_train.shape, X_test.shape, y_train.shape, y_test.shape"
   ]
  },
  {
   "cell_type": "code",
   "execution_count": 108,
   "id": "6172941c",
   "metadata": {
    "ExecuteTime": {
     "end_time": "2025-01-14T08:20:52.264780Z",
     "start_time": "2025-01-14T08:20:52.160583Z"
    }
   },
   "outputs": [],
   "source": [
    "# DNN모델 설계\n",
    "model = Sequential([\n",
    "    Dense(64, input_dim=X_train.shape[1], activation='relu'), \n",
    "    Dropout(0.3),                                             \n",
    "    Dense(32, activation='relu'),                            \n",
    "    Dropout(0.3),                                             \n",
    "    Dense(16, activation='relu'),                             \n",
    "    Dense(1, activation='sigmoid')                            \n",
    "])"
   ]
  },
  {
   "cell_type": "code",
   "execution_count": 109,
   "id": "30074beb",
   "metadata": {
    "ExecuteTime": {
     "end_time": "2025-01-14T08:20:53.365150Z",
     "start_time": "2025-01-14T08:20:53.352011Z"
    }
   },
   "outputs": [],
   "source": [
    "model.compile(optimizer='adam', loss='binary_crossentropy', metrics=['accuracy'])"
   ]
  },
  {
   "cell_type": "code",
   "execution_count": 110,
   "id": "d3868bcb",
   "metadata": {
    "ExecuteTime": {
     "end_time": "2025-01-14T08:22:55.525030Z",
     "start_time": "2025-01-14T08:20:57.087880Z"
    }
   },
   "outputs": [
    {
     "name": "stdout",
     "output_type": "stream",
     "text": [
      "Epoch 1/20\n",
      "2994/2994 [==============================] - 6s 2ms/step - loss: 0.0232 - accuracy: 0.9907 - val_loss: 9.2829e-06 - val_accuracy: 1.0000\n",
      "Epoch 2/20\n",
      "2994/2994 [==============================] - 6s 2ms/step - loss: 1.5720e-04 - accuracy: 1.0000 - val_loss: 3.4643e-07 - val_accuracy: 1.0000\n",
      "Epoch 3/20\n",
      "2994/2994 [==============================] - 6s 2ms/step - loss: 1.9483e-04 - accuracy: 0.9999 - val_loss: 4.5206e-07 - val_accuracy: 1.0000\n",
      "Epoch 4/20\n",
      "2994/2994 [==============================] - 6s 2ms/step - loss: 1.0563e-04 - accuracy: 1.0000 - val_loss: 1.9047e-07 - val_accuracy: 1.0000\n",
      "Epoch 5/20\n",
      "2994/2994 [==============================] - 6s 2ms/step - loss: 1.3166e-04 - accuracy: 1.0000 - val_loss: 2.0942e-08 - val_accuracy: 1.0000\n",
      "Epoch 6/20\n",
      "2994/2994 [==============================] - 6s 2ms/step - loss: 6.2242e-05 - accuracy: 1.0000 - val_loss: 4.7602e-09 - val_accuracy: 1.0000\n",
      "Epoch 7/20\n",
      "2994/2994 [==============================] - 6s 2ms/step - loss: 1.4678e-04 - accuracy: 1.0000 - val_loss: 1.8412e-08 - val_accuracy: 1.0000\n",
      "Epoch 8/20\n",
      "2994/2994 [==============================] - 6s 2ms/step - loss: 5.6896e-05 - accuracy: 1.0000 - val_loss: 1.3952e-09 - val_accuracy: 1.0000\n",
      "Epoch 9/20\n",
      "2994/2994 [==============================] - 6s 2ms/step - loss: 2.1150e-04 - accuracy: 1.0000 - val_loss: 9.4503e-09 - val_accuracy: 1.0000\n",
      "Epoch 10/20\n",
      "2994/2994 [==============================] - 6s 2ms/step - loss: 9.2278e-05 - accuracy: 1.0000 - val_loss: 1.1596e-08 - val_accuracy: 1.0000\n",
      "Epoch 11/20\n",
      "2994/2994 [==============================] - 6s 2ms/step - loss: 2.9536e-06 - accuracy: 1.0000 - val_loss: 9.2448e-10 - val_accuracy: 1.0000\n",
      "Epoch 12/20\n",
      "2994/2994 [==============================] - 6s 2ms/step - loss: 1.0060e-06 - accuracy: 1.0000 - val_loss: 1.4198e-10 - val_accuracy: 1.0000\n",
      "Epoch 13/20\n",
      "2994/2994 [==============================] - 6s 2ms/step - loss: 1.1336e-04 - accuracy: 1.0000 - val_loss: 8.8809e-09 - val_accuracy: 1.0000\n",
      "Epoch 14/20\n",
      "2994/2994 [==============================] - 6s 2ms/step - loss: 8.3299e-05 - accuracy: 1.0000 - val_loss: 2.4151e-08 - val_accuracy: 1.0000\n",
      "Epoch 15/20\n",
      "2994/2994 [==============================] - 6s 2ms/step - loss: 5.9695e-05 - accuracy: 1.0000 - val_loss: 6.0449e-09 - val_accuracy: 1.0000\n",
      "Epoch 16/20\n",
      "2994/2994 [==============================] - 6s 2ms/step - loss: 7.8204e-05 - accuracy: 1.0000 - val_loss: 8.8864e-09 - val_accuracy: 1.0000\n",
      "Epoch 17/20\n",
      "2994/2994 [==============================] - 6s 2ms/step - loss: 5.0279e-05 - accuracy: 1.0000 - val_loss: 6.0504e-10 - val_accuracy: 1.0000\n",
      "Epoch 18/20\n",
      "2994/2994 [==============================] - 6s 2ms/step - loss: 3.0105e-05 - accuracy: 1.0000 - val_loss: 1.3645e-10 - val_accuracy: 1.0000\n",
      "Epoch 19/20\n",
      "2994/2994 [==============================] - 6s 2ms/step - loss: 2.7030e-06 - accuracy: 1.0000 - val_loss: 5.3832e-11 - val_accuracy: 1.0000\n",
      "Epoch 20/20\n",
      "2994/2994 [==============================] - 6s 2ms/step - loss: 1.7285e-04 - accuracy: 1.0000 - val_loss: 7.0611e-10 - val_accuracy: 1.0000\n"
     ]
    }
   ],
   "source": [
    "history = model.fit(X_train, y_train, \n",
    "                    validation_data=(X_test, y_test), \n",
    "                    epochs=20, \n",
    "                    batch_size=128, \n",
    "                    verbose=1)"
   ]
  },
  {
   "cell_type": "code",
   "execution_count": 82,
   "id": "dbb60d3c",
   "metadata": {
    "ExecuteTime": {
     "end_time": "2025-01-14T07:22:18.032645Z",
     "start_time": "2025-01-14T07:22:18.016557Z"
    }
   },
   "outputs": [
    {
     "data": {
      "text/html": [
       "<div>\n",
       "<style scoped>\n",
       "    .dataframe tbody tr th:only-of-type {\n",
       "        vertical-align: middle;\n",
       "    }\n",
       "\n",
       "    .dataframe tbody tr th {\n",
       "        vertical-align: top;\n",
       "    }\n",
       "\n",
       "    .dataframe thead th {\n",
       "        text-align: right;\n",
       "    }\n",
       "</style>\n",
       "<table border=\"1\" class=\"dataframe\">\n",
       "  <thead>\n",
       "    <tr style=\"text-align: right;\">\n",
       "      <th></th>\n",
       "      <th>order_id</th>\n",
       "      <th>product_id</th>\n",
       "      <th>add_to_cart_order</th>\n",
       "      <th>reordered</th>\n",
       "      <th>user_id</th>\n",
       "      <th>order_number</th>\n",
       "      <th>order_dow</th>\n",
       "      <th>order_hour_of_day</th>\n",
       "      <th>product_name</th>\n",
       "      <th>aisle_id</th>\n",
       "      <th>department_id</th>\n",
       "      <th>aisle</th>\n",
       "      <th>department</th>\n",
       "    </tr>\n",
       "  </thead>\n",
       "  <tbody>\n",
       "    <tr>\n",
       "      <th>0</th>\n",
       "      <td>3</td>\n",
       "      <td>33754</td>\n",
       "      <td>1</td>\n",
       "      <td>1</td>\n",
       "      <td>205970</td>\n",
       "      <td>16</td>\n",
       "      <td>5</td>\n",
       "      <td>17</td>\n",
       "      <td>Total 2% with Strawberry Lowfat Greek Strained...</td>\n",
       "      <td>120</td>\n",
       "      <td>16</td>\n",
       "      <td>yogurt</td>\n",
       "      <td>dairy eggs</td>\n",
       "    </tr>\n",
       "    <tr>\n",
       "      <th>1</th>\n",
       "      <td>342</td>\n",
       "      <td>33754</td>\n",
       "      <td>11</td>\n",
       "      <td>1</td>\n",
       "      <td>183968</td>\n",
       "      <td>24</td>\n",
       "      <td>2</td>\n",
       "      <td>17</td>\n",
       "      <td>Total 2% with Strawberry Lowfat Greek Strained...</td>\n",
       "      <td>120</td>\n",
       "      <td>16</td>\n",
       "      <td>yogurt</td>\n",
       "      <td>dairy eggs</td>\n",
       "    </tr>\n",
       "    <tr>\n",
       "      <th>2</th>\n",
       "      <td>582</td>\n",
       "      <td>33754</td>\n",
       "      <td>18</td>\n",
       "      <td>0</td>\n",
       "      <td>193223</td>\n",
       "      <td>6</td>\n",
       "      <td>2</td>\n",
       "      <td>19</td>\n",
       "      <td>Total 2% with Strawberry Lowfat Greek Strained...</td>\n",
       "      <td>120</td>\n",
       "      <td>16</td>\n",
       "      <td>yogurt</td>\n",
       "      <td>dairy eggs</td>\n",
       "    </tr>\n",
       "    <tr>\n",
       "      <th>3</th>\n",
       "      <td>1171</td>\n",
       "      <td>33754</td>\n",
       "      <td>32</td>\n",
       "      <td>1</td>\n",
       "      <td>100330</td>\n",
       "      <td>20</td>\n",
       "      <td>1</td>\n",
       "      <td>13</td>\n",
       "      <td>Total 2% with Strawberry Lowfat Greek Strained...</td>\n",
       "      <td>120</td>\n",
       "      <td>16</td>\n",
       "      <td>yogurt</td>\n",
       "      <td>dairy eggs</td>\n",
       "    </tr>\n",
       "    <tr>\n",
       "      <th>4</th>\n",
       "      <td>1502</td>\n",
       "      <td>33754</td>\n",
       "      <td>1</td>\n",
       "      <td>0</td>\n",
       "      <td>175768</td>\n",
       "      <td>13</td>\n",
       "      <td>0</td>\n",
       "      <td>14</td>\n",
       "      <td>Total 2% with Strawberry Lowfat Greek Strained...</td>\n",
       "      <td>120</td>\n",
       "      <td>16</td>\n",
       "      <td>yogurt</td>\n",
       "      <td>dairy eggs</td>\n",
       "    </tr>\n",
       "  </tbody>\n",
       "</table>\n",
       "</div>"
      ],
      "text/plain": [
       "   order_id  product_id  add_to_cart_order  reordered  user_id  order_number  \\\n",
       "0         3       33754                  1          1   205970            16   \n",
       "1       342       33754                 11          1   183968            24   \n",
       "2       582       33754                 18          0   193223             6   \n",
       "3      1171       33754                 32          1   100330            20   \n",
       "4      1502       33754                  1          0   175768            13   \n",
       "\n",
       "   order_dow  order_hour_of_day  \\\n",
       "0          5                 17   \n",
       "1          2                 17   \n",
       "2          2                 19   \n",
       "3          1                 13   \n",
       "4          0                 14   \n",
       "\n",
       "                                        product_name  aisle_id  department_id  \\\n",
       "0  Total 2% with Strawberry Lowfat Greek Strained...       120             16   \n",
       "1  Total 2% with Strawberry Lowfat Greek Strained...       120             16   \n",
       "2  Total 2% with Strawberry Lowfat Greek Strained...       120             16   \n",
       "3  Total 2% with Strawberry Lowfat Greek Strained...       120             16   \n",
       "4  Total 2% with Strawberry Lowfat Greek Strained...       120             16   \n",
       "\n",
       "    aisle  department  \n",
       "0  yogurt  dairy eggs  \n",
       "1  yogurt  dairy eggs  \n",
       "2  yogurt  dairy eggs  \n",
       "3  yogurt  dairy eggs  \n",
       "4  yogurt  dairy eggs  "
      ]
     },
     "execution_count": 82,
     "metadata": {},
     "output_type": "execute_result"
    }
   ],
   "source": [
    "order_details.head()"
   ]
  },
  {
   "cell_type": "code",
   "execution_count": 83,
   "id": "6cfb21b7",
   "metadata": {
    "ExecuteTime": {
     "end_time": "2025-01-14T07:59:25.279797Z",
     "start_time": "2025-01-14T07:59:25.261668Z"
    }
   },
   "outputs": [
    {
     "data": {
      "text/html": [
       "<div>\n",
       "<style scoped>\n",
       "    .dataframe tbody tr th:only-of-type {\n",
       "        vertical-align: middle;\n",
       "    }\n",
       "\n",
       "    .dataframe tbody tr th {\n",
       "        vertical-align: top;\n",
       "    }\n",
       "\n",
       "    .dataframe thead th {\n",
       "        text-align: right;\n",
       "    }\n",
       "</style>\n",
       "<table border=\"1\" class=\"dataframe\">\n",
       "  <thead>\n",
       "    <tr style=\"text-align: right;\">\n",
       "      <th></th>\n",
       "      <th>order_id</th>\n",
       "      <th>user_id</th>\n",
       "      <th>eval_set</th>\n",
       "      <th>order_number</th>\n",
       "      <th>order_dow</th>\n",
       "      <th>order_hour_of_day</th>\n",
       "      <th>days_since_prior_order</th>\n",
       "    </tr>\n",
       "  </thead>\n",
       "  <tbody>\n",
       "    <tr>\n",
       "      <th>160</th>\n",
       "      <td>1737705</td>\n",
       "      <td>17</td>\n",
       "      <td>prior</td>\n",
       "      <td>1</td>\n",
       "      <td>2</td>\n",
       "      <td>13</td>\n",
       "      <td>NaN</td>\n",
       "    </tr>\n",
       "    <tr>\n",
       "      <th>161</th>\n",
       "      <td>1681401</td>\n",
       "      <td>17</td>\n",
       "      <td>prior</td>\n",
       "      <td>2</td>\n",
       "      <td>5</td>\n",
       "      <td>10</td>\n",
       "      <td>3.0</td>\n",
       "    </tr>\n",
       "    <tr>\n",
       "      <th>162</th>\n",
       "      <td>2680214</td>\n",
       "      <td>17</td>\n",
       "      <td>prior</td>\n",
       "      <td>3</td>\n",
       "      <td>3</td>\n",
       "      <td>10</td>\n",
       "      <td>5.0</td>\n",
       "    </tr>\n",
       "    <tr>\n",
       "      <th>163</th>\n",
       "      <td>3197376</td>\n",
       "      <td>17</td>\n",
       "      <td>prior</td>\n",
       "      <td>4</td>\n",
       "      <td>1</td>\n",
       "      <td>14</td>\n",
       "      <td>5.0</td>\n",
       "    </tr>\n",
       "    <tr>\n",
       "      <th>164</th>\n",
       "      <td>3237467</td>\n",
       "      <td>17</td>\n",
       "      <td>prior</td>\n",
       "      <td>5</td>\n",
       "      <td>6</td>\n",
       "      <td>17</td>\n",
       "      <td>5.0</td>\n",
       "    </tr>\n",
       "  </tbody>\n",
       "</table>\n",
       "</div>"
      ],
      "text/plain": [
       "     order_id  user_id eval_set  order_number  order_dow  order_hour_of_day  \\\n",
       "160   1737705       17    prior             1          2                 13   \n",
       "161   1681401       17    prior             2          5                 10   \n",
       "162   2680214       17    prior             3          3                 10   \n",
       "163   3197376       17    prior             4          1                 14   \n",
       "164   3237467       17    prior             5          6                 17   \n",
       "\n",
       "     days_since_prior_order  \n",
       "160                     NaN  \n",
       "161                     3.0  \n",
       "162                     5.0  \n",
       "163                     5.0  \n",
       "164                     5.0  "
      ]
     },
     "execution_count": 83,
     "metadata": {},
     "output_type": "execute_result"
    }
   ],
   "source": [
    "orders.head()"
   ]
  },
  {
   "cell_type": "code",
   "execution_count": 112,
   "id": "004bebe2",
   "metadata": {
    "ExecuteTime": {
     "end_time": "2025-01-14T08:39:50.710061Z",
     "start_time": "2025-01-14T08:39:50.448426Z"
    }
   },
   "outputs": [
    {
     "data": {
      "image/png": "[encoded data removed]",
      "text/plain": [
       "<Figure size 1000x500 with 2 Axes>"
      ]
     },
     "metadata": {},
     "output_type": "display_data"
    }
   ],
   "source": [
    "# 학습과정 표시하기(validation dataset 있는 경우)\n",
    "fig, loss_ax = plt.subplots(figsize=(10,5))\n",
    "loss_ax.plot(history.history['loss'], 'r', label='train loss')\n",
    "loss_ax.plot(history.history['val_loss'], 'y', label='validation loss')\n",
    "loss_ax.set_xlabel('epoch')\n",
    "loss_ax.set_ylabel('loss')\n",
    "acc_ax = loss_ax.twinx()\n",
    "acc_ax.plot(history.history['accuracy'], 'b', label='train accuracy')\n",
    "acc_ax.plot(history.history['val_accuracy'], 'g', label='validation accuracy')\n",
    "acc_ax.set_ylabel('accuracy')\n",
    "loss_ax.legend(loc='center right')\n",
    "acc_ax.legend(bbox_to_anchor=(0.999, 0.7))\n",
    "plt.show()"
   ]
  },
  {
   "cell_type": "code",
   "execution_count": null,
   "id": "c669b961",
   "metadata": {},
   "outputs": [],
   "source": []
  },
  {
   "cell_type": "code",
   "execution_count": null,
   "id": "27bcb173",
   "metadata": {},
   "outputs": [],
   "source": []
  },
  {
   "cell_type": "code",
   "execution_count": null,
   "id": "476bd59e",
   "metadata": {},
   "outputs": [],
   "source": []
  },
  {
   "cell_type": "code",
   "execution_count": null,
   "id": "93fee7a9",
   "metadata": {},
   "outputs": [],
   "source": []
  },
  {
   "cell_type": "code",
   "execution_count": null,
   "id": "97a236bc",
   "metadata": {},
   "outputs": [],
   "source": []
  },
  {
   "cell_type": "code",
   "execution_count": null,
   "id": "15120d91",
   "metadata": {},
   "outputs": [],
   "source": []
  },
  {
   "cell_type": "code",
   "execution_count": null,
   "id": "6cb43925",
   "metadata": {},
   "outputs": [],
   "source": []
  },
  {
   "cell_type": "code",
   "execution_count": null,
   "id": "b2880e59",
   "metadata": {},
   "outputs": [],
   "source": []
  },
  {
   "cell_type": "code",
   "execution_count": null,
   "id": "9d5840fc",
   "metadata": {},
   "outputs": [],
   "source": []
  },
  {
   "cell_type": "code",
   "execution_count": null,
   "id": "23a825db",
   "metadata": {},
   "outputs": [],
   "source": []
  },
  {
   "cell_type": "code",
   "execution_count": null,
   "id": "df61a791",
   "metadata": {},
   "outputs": [],
   "source": []
  },
  {
   "cell_type": "code",
   "execution_count": null,
   "id": "1ae540e6",
   "metadata": {},
   "outputs": [],
   "source": []
  },
  {
   "cell_type": "code",
   "execution_count": null,
   "id": "fcd479f6",
   "metadata": {},
   "outputs": [],
   "source": []
  },
  {
   "cell_type": "code",
   "execution_count": null,
   "id": "036b5444",
   "metadata": {},
   "outputs": [],
   "source": []
  },
  {
   "cell_type": "code",
   "execution_count": null,
   "id": "31d3ee40",
   "metadata": {},
   "outputs": [],
   "source": []
  },
  {
   "cell_type": "code",
   "execution_count": null,
   "id": "6cf4fe5d",
   "metadata": {},
   "outputs": [],
   "source": []
  },
  {
   "cell_type": "code",
   "execution_count": null,
   "id": "44e26d41",
   "metadata": {},
   "outputs": [],
   "source": []
  },
  {
   "cell_type": "code",
   "execution_count": null,
   "id": "3b72bf86",
   "metadata": {},
   "outputs": [],
   "source": []
  },
  {
   "cell_type": "code",
   "execution_count": null,
   "id": "8fe50e3a",
   "metadata": {},
   "outputs": [],
   "source": []
  },
  {
   "cell_type": "code",
   "execution_count": null,
   "id": "f4409729",
   "metadata": {},
   "outputs": [],
   "source": []
  },
  {
   "cell_type": "code",
   "execution_count": null,
   "id": "7fb7a379",
   "metadata": {},
   "outputs": [],
   "source": []
  },
  {
   "cell_type": "code",
   "execution_count": null,
   "id": "d1934f22",
   "metadata": {},
   "outputs": [],
   "source": []
  },
  {
   "cell_type": "code",
   "execution_count": null,
   "id": "6c19e586",
   "metadata": {},
   "outputs": [],
   "source": []
  },
  {
   "cell_type": "code",
   "execution_count": null,
   "id": "f2f02e55",
   "metadata": {},
   "outputs": [],
   "source": []
  },
  {
   "cell_type": "code",
   "execution_count": null,
   "id": "71803b94",
   "metadata": {},
   "outputs": [],
   "source": []
  },
  {
   "cell_type": "code",
   "execution_count": null,
   "id": "c4f9c4f7",
   "metadata": {},
   "outputs": [],
   "source": []
  },
  {
   "cell_type": "code",
   "execution_count": null,
   "id": "dbd7cdc7",
   "metadata": {},
   "outputs": [],
   "source": []
  },
  {
   "cell_type": "code",
   "execution_count": null,
   "id": "8914d88f",
   "metadata": {},
   "outputs": [],
   "source": []
  },
  {
   "cell_type": "code",
   "execution_count": null,
   "id": "5501d6e7",
   "metadata": {},
   "outputs": [],
   "source": []
  },
  {
   "cell_type": "code",
   "execution_count": null,
   "id": "c43ad7c2",
   "metadata": {},
   "outputs": [],
   "source": []
  },
  {
   "cell_type": "code",
   "execution_count": null,
   "id": "7b2de566",
   "metadata": {},
   "outputs": [],
   "source": []
  },
  {
   "cell_type": "code",
   "execution_count": null,
   "id": "bb36cba7",
   "metadata": {},
   "outputs": [],
   "source": []
  },
  {
   "cell_type": "code",
   "execution_count": null,
   "id": "6789ce0d",
   "metadata": {},
   "outputs": [],
   "source": []
  },
  {
   "cell_type": "code",
   "execution_count": null,
   "id": "06cd857e",
   "metadata": {},
   "outputs": [],
   "source": []
  },
  {
   "cell_type": "code",
   "execution_count": null,
   "id": "69810d28",
   "metadata": {},
   "outputs": [],
   "source": []
  },
  {
   "cell_type": "code",
   "execution_count": null,
   "id": "66bc66fa",
   "metadata": {},
   "outputs": [],
   "source": []
  },
  {
   "cell_type": "code",
   "execution_count": null,
   "id": "c0f585ec",
   "metadata": {},
   "outputs": [],
   "source": []
  },
  {
   "cell_type": "code",
   "execution_count": null,
   "id": "ed48f31f",
   "metadata": {},
   "outputs": [],
   "source": []
  },
  {
   "cell_type": "code",
   "execution_count": null,
   "id": "2eb7e22f",
   "metadata": {},
   "outputs": [],
   "source": []
  },
  {
   "cell_type": "code",
   "execution_count": null,
   "id": "814f2cbc",
   "metadata": {},
   "outputs": [],
   "source": []
  },
  {
   "cell_type": "code",
   "execution_count": null,
   "id": "eb8df090",
   "metadata": {},
   "outputs": [],
   "source": []
  },
  {
   "cell_type": "code",
   "execution_count": null,
   "id": "a47aa845",
   "metadata": {},
   "outputs": [],
   "source": []
  },
  {
   "cell_type": "code",
   "execution_count": null,
   "id": "ccd0863a",
   "metadata": {},
   "outputs": [],
   "source": []
  },
  {
   "cell_type": "code",
   "execution_count": null,
   "id": "c7d3c1b7",
   "metadata": {},
   "outputs": [],
   "source": []
  },
  {
   "cell_type": "code",
   "execution_count": null,
   "id": "3f6a7456",
   "metadata": {},
   "outputs": [],
   "source": []
  }
 ],
 "metadata": {
  "kernelspec": {
   "display_name": "Python 3 (ipykernel)",
   "language": "python",
   "name": "python3"
  },
  "language_info": {
   "codemirror_mode": {
    "name": "ipython",
    "version": 3
   },
   "file_extension": ".py",
   "mimetype": "text/x-python",
   "name": "python",
   "nbconvert_exporter": "python",
   "pygments_lexer": "ipython3",
   "version": "3.10.9"
  },
  "toc": {
   "base_numbering": 1,
   "nav_menu": {},
   "number_sections": true,
   "sideBar": true,
   "skip_h1_title": false,
   "title_cell": "Table of Contents",
   "title_sidebar": "Contents",
   "toc_cell": false,
   "toc_position": {
    "height": "calc(100% - 180px)",
    "left": "10px",
    "top": "150px",
    "width": "384px"
   },
   "toc_section_display": true,
   "toc_window_display": true
  }
 },
 "nbformat": 4,
 "nbformat_minor": 5
}
