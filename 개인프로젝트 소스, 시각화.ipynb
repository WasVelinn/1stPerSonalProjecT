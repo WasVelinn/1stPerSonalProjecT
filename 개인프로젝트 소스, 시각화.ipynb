{
 "cells": [
  {
   "cell_type": "code",
   "execution_count": 1,
   "id": "add5de79",
   "metadata": {
    "ExecuteTime": {
     "end_time": "2025-01-15T06:14:38.472245Z",
     "start_time": "2025-01-15T06:14:29.262586Z"
    }
   },
   "outputs": [],
   "source": [
    "import pandas as pd\n",
    "import numpy as np\n",
    "\n",
    "# 데이터 로드\n",
    "orders = pd.read_csv('data/orders.csv')\n",
    "order_products = pd.read_csv('data/order_products__prior.csv')\n",
    "products = pd.read_csv('data/products.csv')\n",
    "aisles = pd.read_csv('data/aisles.csv')\n",
    "departments = pd.read_csv('data/departments.csv')"
   ]
  },
  {
   "cell_type": "code",
   "execution_count": 2,
   "id": "bdeee2da",
   "metadata": {
    "ExecuteTime": {
     "end_time": "2025-01-15T06:14:39.878385Z",
     "start_time": "2025-01-15T06:14:39.557176Z"
    }
   },
   "outputs": [],
   "source": [
    "# 고객별 주문 횟수 계산\n",
    "user_order_counts = orders.groupby('user_id').size()\n",
    "\n",
    "# 상위 20% 고객 선택\n",
    "top_users = user_order_counts[user_order_counts >= user_order_counts.quantile(0.8)].index\n",
    "\n",
    "# 필터링 적용\n",
    "orders = orders[orders['user_id'].isin(top_users)]"
   ]
  },
  {
   "cell_type": "code",
   "execution_count": 3,
   "id": "b4ded563",
   "metadata": {
    "ExecuteTime": {
     "end_time": "2025-01-15T06:14:59.180901Z",
     "start_time": "2025-01-15T06:14:59.157408Z"
    }
   },
   "outputs": [
    {
     "data": {
      "text/html": [
       "<div>\n",
       "<style scoped>\n",
       "    .dataframe tbody tr th:only-of-type {\n",
       "        vertical-align: middle;\n",
       "    }\n",
       "\n",
       "    .dataframe tbody tr th {\n",
       "        vertical-align: top;\n",
       "    }\n",
       "\n",
       "    .dataframe thead th {\n",
       "        text-align: right;\n",
       "    }\n",
       "</style>\n",
       "<table border=\"1\" class=\"dataframe\">\n",
       "  <thead>\n",
       "    <tr style=\"text-align: right;\">\n",
       "      <th></th>\n",
       "      <th>order_id</th>\n",
       "      <th>user_id</th>\n",
       "      <th>eval_set</th>\n",
       "      <th>order_number</th>\n",
       "      <th>order_dow</th>\n",
       "      <th>order_hour_of_day</th>\n",
       "      <th>days_since_prior_order</th>\n",
       "    </tr>\n",
       "  </thead>\n",
       "  <tbody>\n",
       "    <tr>\n",
       "      <th>160</th>\n",
       "      <td>1737705</td>\n",
       "      <td>17</td>\n",
       "      <td>prior</td>\n",
       "      <td>1</td>\n",
       "      <td>2</td>\n",
       "      <td>13</td>\n",
       "      <td>NaN</td>\n",
       "    </tr>\n",
       "    <tr>\n",
       "      <th>161</th>\n",
       "      <td>1681401</td>\n",
       "      <td>17</td>\n",
       "      <td>prior</td>\n",
       "      <td>2</td>\n",
       "      <td>5</td>\n",
       "      <td>10</td>\n",
       "      <td>3.0</td>\n",
       "    </tr>\n",
       "    <tr>\n",
       "      <th>162</th>\n",
       "      <td>2680214</td>\n",
       "      <td>17</td>\n",
       "      <td>prior</td>\n",
       "      <td>3</td>\n",
       "      <td>3</td>\n",
       "      <td>10</td>\n",
       "      <td>5.0</td>\n",
       "    </tr>\n",
       "    <tr>\n",
       "      <th>163</th>\n",
       "      <td>3197376</td>\n",
       "      <td>17</td>\n",
       "      <td>prior</td>\n",
       "      <td>4</td>\n",
       "      <td>1</td>\n",
       "      <td>14</td>\n",
       "      <td>5.0</td>\n",
       "    </tr>\n",
       "    <tr>\n",
       "      <th>164</th>\n",
       "      <td>3237467</td>\n",
       "      <td>17</td>\n",
       "      <td>prior</td>\n",
       "      <td>5</td>\n",
       "      <td>6</td>\n",
       "      <td>17</td>\n",
       "      <td>5.0</td>\n",
       "    </tr>\n",
       "  </tbody>\n",
       "</table>\n",
       "</div>"
      ],
      "text/plain": [
       "     order_id  user_id eval_set  order_number  order_dow  order_hour_of_day  \\\n",
       "160   1737705       17    prior             1          2                 13   \n",
       "161   1681401       17    prior             2          5                 10   \n",
       "162   2680214       17    prior             3          3                 10   \n",
       "163   3197376       17    prior             4          1                 14   \n",
       "164   3237467       17    prior             5          6                 17   \n",
       "\n",
       "     days_since_prior_order  \n",
       "160                     NaN  \n",
       "161                     3.0  \n",
       "162                     5.0  \n",
       "163                     5.0  \n",
       "164                     5.0  "
      ]
     },
     "execution_count": 3,
     "metadata": {},
     "output_type": "execute_result"
    }
   ],
   "source": [
    "orders.head()"
   ]
  },
  {
   "cell_type": "code",
   "execution_count": 5,
   "id": "1f9b9137",
   "metadata": {
    "ExecuteTime": {
     "end_time": "2025-01-15T06:17:49.673753Z",
     "start_time": "2025-01-15T06:17:47.444545Z"
    }
   },
   "outputs": [],
   "source": [
    "# 상품별 주문 횟수 계산\n",
    "product_order_counts = order_products.groupby('product_id').size()\n",
    "\n",
    "# 상위 20% 상품 선택\n",
    "top_products = product_order_counts[product_order_counts >= product_order_counts.quantile(0.8)].index\n",
    "\n",
    "# 필터링 적용\n",
    "order_products = order_products[order_products['product_id'].isin(top_products)]"
   ]
  },
  {
   "cell_type": "code",
   "execution_count": 13,
   "id": "5d686daf",
   "metadata": {
    "ExecuteTime": {
     "end_time": "2025-01-14T01:42:12.623195Z",
     "start_time": "2025-01-14T01:42:12.610202Z"
    }
   },
   "outputs": [
    {
     "data": {
      "text/html": [
       "<div>\n",
       "<style scoped>\n",
       "    .dataframe tbody tr th:only-of-type {\n",
       "        vertical-align: middle;\n",
       "    }\n",
       "\n",
       "    .dataframe tbody tr th {\n",
       "        vertical-align: top;\n",
       "    }\n",
       "\n",
       "    .dataframe thead th {\n",
       "        text-align: right;\n",
       "    }\n",
       "</style>\n",
       "<table border=\"1\" class=\"dataframe\">\n",
       "  <thead>\n",
       "    <tr style=\"text-align: right;\">\n",
       "      <th></th>\n",
       "      <th>product_id</th>\n",
       "      <th>0</th>\n",
       "    </tr>\n",
       "  </thead>\n",
       "  <tbody>\n",
       "    <tr>\n",
       "      <th>0</th>\n",
       "      <td>1</td>\n",
       "      <td>1852</td>\n",
       "    </tr>\n",
       "    <tr>\n",
       "      <th>1</th>\n",
       "      <td>2</td>\n",
       "      <td>90</td>\n",
       "    </tr>\n",
       "    <tr>\n",
       "      <th>2</th>\n",
       "      <td>3</td>\n",
       "      <td>277</td>\n",
       "    </tr>\n",
       "    <tr>\n",
       "      <th>3</th>\n",
       "      <td>4</td>\n",
       "      <td>329</td>\n",
       "    </tr>\n",
       "    <tr>\n",
       "      <th>4</th>\n",
       "      <td>5</td>\n",
       "      <td>15</td>\n",
       "    </tr>\n",
       "    <tr>\n",
       "      <th>...</th>\n",
       "      <td>...</td>\n",
       "      <td>...</td>\n",
       "    </tr>\n",
       "    <tr>\n",
       "      <th>49672</th>\n",
       "      <td>49684</td>\n",
       "      <td>9</td>\n",
       "    </tr>\n",
       "    <tr>\n",
       "      <th>49673</th>\n",
       "      <td>49685</td>\n",
       "      <td>49</td>\n",
       "    </tr>\n",
       "    <tr>\n",
       "      <th>49674</th>\n",
       "      <td>49686</td>\n",
       "      <td>120</td>\n",
       "    </tr>\n",
       "    <tr>\n",
       "      <th>49675</th>\n",
       "      <td>49687</td>\n",
       "      <td>13</td>\n",
       "    </tr>\n",
       "    <tr>\n",
       "      <th>49676</th>\n",
       "      <td>49688</td>\n",
       "      <td>89</td>\n",
       "    </tr>\n",
       "  </tbody>\n",
       "</table>\n",
       "<p>49677 rows × 2 columns</p>\n",
       "</div>"
      ],
      "text/plain": [
       "       product_id     0\n",
       "0               1  1852\n",
       "1               2    90\n",
       "2               3   277\n",
       "3               4   329\n",
       "4               5    15\n",
       "...           ...   ...\n",
       "49672       49684     9\n",
       "49673       49685    49\n",
       "49674       49686   120\n",
       "49675       49687    13\n",
       "49676       49688    89\n",
       "\n",
       "[49677 rows x 2 columns]"
      ]
     },
     "execution_count": 13,
     "metadata": {},
     "output_type": "execute_result"
    }
   ],
   "source": [
    "product_order_counts.reset_index()"
   ]
  },
  {
   "cell_type": "code",
   "execution_count": 9,
   "id": "d38fe191",
   "metadata": {
    "ExecuteTime": {
     "end_time": "2025-01-14T01:40:30.931335Z",
     "start_time": "2025-01-14T01:40:30.922358Z"
    }
   },
   "outputs": [
    {
     "data": {
      "text/html": [
       "<div>\n",
       "<style scoped>\n",
       "    .dataframe tbody tr th:only-of-type {\n",
       "        vertical-align: middle;\n",
       "    }\n",
       "\n",
       "    .dataframe tbody tr th {\n",
       "        vertical-align: top;\n",
       "    }\n",
       "\n",
       "    .dataframe thead th {\n",
       "        text-align: right;\n",
       "    }\n",
       "</style>\n",
       "<table border=\"1\" class=\"dataframe\">\n",
       "  <thead>\n",
       "    <tr style=\"text-align: right;\">\n",
       "      <th></th>\n",
       "      <th>order_id</th>\n",
       "      <th>product_id</th>\n",
       "      <th>add_to_cart_order</th>\n",
       "      <th>reordered</th>\n",
       "    </tr>\n",
       "  </thead>\n",
       "  <tbody>\n",
       "    <tr>\n",
       "      <th>0</th>\n",
       "      <td>2</td>\n",
       "      <td>33120</td>\n",
       "      <td>1</td>\n",
       "      <td>1</td>\n",
       "    </tr>\n",
       "    <tr>\n",
       "      <th>1</th>\n",
       "      <td>2</td>\n",
       "      <td>28985</td>\n",
       "      <td>2</td>\n",
       "      <td>1</td>\n",
       "    </tr>\n",
       "    <tr>\n",
       "      <th>2</th>\n",
       "      <td>2</td>\n",
       "      <td>9327</td>\n",
       "      <td>3</td>\n",
       "      <td>0</td>\n",
       "    </tr>\n",
       "    <tr>\n",
       "      <th>3</th>\n",
       "      <td>2</td>\n",
       "      <td>45918</td>\n",
       "      <td>4</td>\n",
       "      <td>1</td>\n",
       "    </tr>\n",
       "    <tr>\n",
       "      <th>4</th>\n",
       "      <td>2</td>\n",
       "      <td>30035</td>\n",
       "      <td>5</td>\n",
       "      <td>0</td>\n",
       "    </tr>\n",
       "  </tbody>\n",
       "</table>\n",
       "</div>"
      ],
      "text/plain": [
       "   order_id  product_id  add_to_cart_order  reordered\n",
       "0         2       33120                  1          1\n",
       "1         2       28985                  2          1\n",
       "2         2        9327                  3          0\n",
       "3         2       45918                  4          1\n",
       "4         2       30035                  5          0"
      ]
     },
     "execution_count": 9,
     "metadata": {},
     "output_type": "execute_result"
    }
   ],
   "source": [
    "order_products.head()"
   ]
  },
  {
   "cell_type": "code",
   "execution_count": 6,
   "id": "15c2909f",
   "metadata": {
    "ExecuteTime": {
     "end_time": "2025-01-15T06:18:12.352123Z",
     "start_time": "2025-01-15T06:17:59.285376Z"
    }
   },
   "outputs": [
    {
     "name": "stdout",
     "output_type": "stream",
     "text": [
      "(12360734, 13)\n"
     ]
    }
   ],
   "source": [
    "# 주문 정보와 상품 주문 정보 병합\n",
    "order_details = pd.merge(order_products, orders[['order_id', 'user_id', 'order_number', 'order_dow', 'order_hour_of_day']], \n",
    "                         on='order_id', how='inner')\n",
    "\n",
    "# 상품 정보 병합\n",
    "order_details = pd.merge(order_details, products[['product_id', 'product_name', 'aisle_id', 'department_id']], \n",
    "                         on='product_id', how='inner')\n",
    "\n",
    "# 상품의 카테고리 정보 병합\n",
    "order_details = pd.merge(order_details, aisles[['aisle_id', 'aisle']], on='aisle_id', how='left')\n",
    "order_details = pd.merge(order_details, departments[['department_id', 'department']], on='department_id', how='left')\n",
    "\n",
    "print(order_details.shape)  # 데이터 크기 확인"
   ]
  },
  {
   "cell_type": "code",
   "execution_count": 8,
   "id": "cbebbc4a",
   "metadata": {
    "ExecuteTime": {
     "end_time": "2025-01-14T01:39:22.712172Z",
     "start_time": "2025-01-14T01:39:22.699207Z"
    }
   },
   "outputs": [
    {
     "data": {
      "text/html": [
       "<div>\n",
       "<style scoped>\n",
       "    .dataframe tbody tr th:only-of-type {\n",
       "        vertical-align: middle;\n",
       "    }\n",
       "\n",
       "    .dataframe tbody tr th {\n",
       "        vertical-align: top;\n",
       "    }\n",
       "\n",
       "    .dataframe thead th {\n",
       "        text-align: right;\n",
       "    }\n",
       "</style>\n",
       "<table border=\"1\" class=\"dataframe\">\n",
       "  <thead>\n",
       "    <tr style=\"text-align: right;\">\n",
       "      <th></th>\n",
       "      <th>order_id</th>\n",
       "      <th>product_id</th>\n",
       "      <th>add_to_cart_order</th>\n",
       "      <th>reordered</th>\n",
       "      <th>user_id</th>\n",
       "      <th>order_number</th>\n",
       "      <th>order_dow</th>\n",
       "      <th>order_hour_of_day</th>\n",
       "      <th>product_name</th>\n",
       "      <th>aisle_id</th>\n",
       "      <th>department_id</th>\n",
       "      <th>aisle</th>\n",
       "      <th>department</th>\n",
       "    </tr>\n",
       "  </thead>\n",
       "  <tbody>\n",
       "    <tr>\n",
       "      <th>0</th>\n",
       "      <td>3</td>\n",
       "      <td>33754</td>\n",
       "      <td>1</td>\n",
       "      <td>1</td>\n",
       "      <td>205970</td>\n",
       "      <td>16</td>\n",
       "      <td>5</td>\n",
       "      <td>17</td>\n",
       "      <td>Total 2% with Strawberry Lowfat Greek Strained...</td>\n",
       "      <td>120</td>\n",
       "      <td>16</td>\n",
       "      <td>yogurt</td>\n",
       "      <td>dairy eggs</td>\n",
       "    </tr>\n",
       "    <tr>\n",
       "      <th>1</th>\n",
       "      <td>342</td>\n",
       "      <td>33754</td>\n",
       "      <td>11</td>\n",
       "      <td>1</td>\n",
       "      <td>183968</td>\n",
       "      <td>24</td>\n",
       "      <td>2</td>\n",
       "      <td>17</td>\n",
       "      <td>Total 2% with Strawberry Lowfat Greek Strained...</td>\n",
       "      <td>120</td>\n",
       "      <td>16</td>\n",
       "      <td>yogurt</td>\n",
       "      <td>dairy eggs</td>\n",
       "    </tr>\n",
       "    <tr>\n",
       "      <th>2</th>\n",
       "      <td>582</td>\n",
       "      <td>33754</td>\n",
       "      <td>18</td>\n",
       "      <td>0</td>\n",
       "      <td>193223</td>\n",
       "      <td>6</td>\n",
       "      <td>2</td>\n",
       "      <td>19</td>\n",
       "      <td>Total 2% with Strawberry Lowfat Greek Strained...</td>\n",
       "      <td>120</td>\n",
       "      <td>16</td>\n",
       "      <td>yogurt</td>\n",
       "      <td>dairy eggs</td>\n",
       "    </tr>\n",
       "    <tr>\n",
       "      <th>3</th>\n",
       "      <td>1171</td>\n",
       "      <td>33754</td>\n",
       "      <td>32</td>\n",
       "      <td>1</td>\n",
       "      <td>100330</td>\n",
       "      <td>20</td>\n",
       "      <td>1</td>\n",
       "      <td>13</td>\n",
       "      <td>Total 2% with Strawberry Lowfat Greek Strained...</td>\n",
       "      <td>120</td>\n",
       "      <td>16</td>\n",
       "      <td>yogurt</td>\n",
       "      <td>dairy eggs</td>\n",
       "    </tr>\n",
       "    <tr>\n",
       "      <th>4</th>\n",
       "      <td>1502</td>\n",
       "      <td>33754</td>\n",
       "      <td>1</td>\n",
       "      <td>0</td>\n",
       "      <td>175768</td>\n",
       "      <td>13</td>\n",
       "      <td>0</td>\n",
       "      <td>14</td>\n",
       "      <td>Total 2% with Strawberry Lowfat Greek Strained...</td>\n",
       "      <td>120</td>\n",
       "      <td>16</td>\n",
       "      <td>yogurt</td>\n",
       "      <td>dairy eggs</td>\n",
       "    </tr>\n",
       "  </tbody>\n",
       "</table>\n",
       "</div>"
      ],
      "text/plain": [
       "   order_id  product_id  add_to_cart_order  reordered  user_id  order_number  \\\n",
       "0         3       33754                  1          1   205970            16   \n",
       "1       342       33754                 11          1   183968            24   \n",
       "2       582       33754                 18          0   193223             6   \n",
       "3      1171       33754                 32          1   100330            20   \n",
       "4      1502       33754                  1          0   175768            13   \n",
       "\n",
       "   order_dow  order_hour_of_day  \\\n",
       "0          5                 17   \n",
       "1          2                 17   \n",
       "2          2                 19   \n",
       "3          1                 13   \n",
       "4          0                 14   \n",
       "\n",
       "                                        product_name  aisle_id  department_id  \\\n",
       "0  Total 2% with Strawberry Lowfat Greek Strained...       120             16   \n",
       "1  Total 2% with Strawberry Lowfat Greek Strained...       120             16   \n",
       "2  Total 2% with Strawberry Lowfat Greek Strained...       120             16   \n",
       "3  Total 2% with Strawberry Lowfat Greek Strained...       120             16   \n",
       "4  Total 2% with Strawberry Lowfat Greek Strained...       120             16   \n",
       "\n",
       "    aisle  department  \n",
       "0  yogurt  dairy eggs  \n",
       "1  yogurt  dairy eggs  \n",
       "2  yogurt  dairy eggs  \n",
       "3  yogurt  dairy eggs  \n",
       "4  yogurt  dairy eggs  "
      ]
     },
     "execution_count": 8,
     "metadata": {},
     "output_type": "execute_result"
    }
   ],
   "source": [
    "order_details.head()"
   ]
  },
  {
   "cell_type": "code",
   "execution_count": 7,
   "id": "74612840",
   "metadata": {
    "ExecuteTime": {
     "end_time": "2025-01-15T06:18:32.195480Z",
     "start_time": "2025-01-15T06:18:31.277060Z"
    }
   },
   "outputs": [
    {
     "name": "stdout",
     "output_type": "stream",
     "text": [
      "<class 'pandas.core.frame.DataFrame'>\n",
      "Int64Index: 12360734 entries, 0 to 12360733\n",
      "Data columns (total 13 columns):\n",
      " #   Column             Dtype \n",
      "---  ------             ----- \n",
      " 0   order_id           int32 \n",
      " 1   product_id         int32 \n",
      " 2   add_to_cart_order  int64 \n",
      " 3   reordered          int8  \n",
      " 4   user_id            int32 \n",
      " 5   order_number       int64 \n",
      " 6   order_dow          int64 \n",
      " 7   order_hour_of_day  int64 \n",
      " 8   product_name       object\n",
      " 9   aisle_id           int16 \n",
      " 10  department_id      int16 \n",
      " 11  aisle              object\n",
      " 12  department         object\n",
      "dtypes: int16(2), int32(3), int64(4), int8(1), object(3)\n",
      "memory usage: 954.8+ MB\n",
      "None\n"
     ]
    }
   ],
   "source": [
    "# 데이터 타입 최적화\n",
    "order_details['order_id'] = order_details['order_id'].astype('int32')\n",
    "order_details['product_id'] = order_details['product_id'].astype('int32')\n",
    "order_details['user_id'] = order_details['user_id'].astype('int32')\n",
    "order_details['aisle_id'] = order_details['aisle_id'].astype('int16')\n",
    "order_details['department_id'] = order_details['department_id'].astype('int16')\n",
    "order_details['reordered'] = order_details['reordered'].astype('int8')\n",
    "\n",
    "print(order_details.info())"
   ]
  },
  {
   "cell_type": "code",
   "execution_count": 8,
   "id": "8d178c78",
   "metadata": {
    "ExecuteTime": {
     "end_time": "2025-01-15T06:18:39.110154Z",
     "start_time": "2025-01-15T06:18:38.381233Z"
    }
   },
   "outputs": [],
   "source": [
    "# 고객별 구매 패턴\n",
    "user_features = order_details.groupby('user_id').agg(\n",
    "    user_total_orders=('order_number', 'max'),\n",
    "    user_total_products=('product_id', 'count'),\n",
    "    user_reorder_rate=('reordered', 'mean'),\n",
    "    user_avg_cart_size=('add_to_cart_order', 'mean')\n",
    ").reset_index()"
   ]
  },
  {
   "cell_type": "code",
   "execution_count": 12,
   "id": "4056883c",
   "metadata": {
    "ExecuteTime": {
     "end_time": "2025-01-13T06:36:25.947220Z",
     "start_time": "2025-01-13T06:36:25.936043Z"
    }
   },
   "outputs": [
    {
     "name": "stdout",
     "output_type": "stream",
     "text": [
      "<class 'pandas.core.frame.DataFrame'>\n",
      "RangeIndex: 42498 entries, 0 to 42497\n",
      "Data columns (total 5 columns):\n",
      " #   Column               Non-Null Count  Dtype  \n",
      "---  ------               --------------  -----  \n",
      " 0   user_id              42498 non-null  int64  \n",
      " 1   user_total_orders    42498 non-null  int64  \n",
      " 2   user_total_products  42498 non-null  int64  \n",
      " 3   user_reorder_rate    42498 non-null  float64\n",
      " 4   user_avg_cart_size   42498 non-null  float64\n",
      "dtypes: float64(2), int64(3)\n",
      "memory usage: 1.6 MB\n"
     ]
    }
   ],
   "source": [
    "user_features.info()"
   ]
  },
  {
   "cell_type": "code",
   "execution_count": 9,
   "id": "3821aa37",
   "metadata": {
    "ExecuteTime": {
     "end_time": "2025-01-15T06:18:44.039369Z",
     "start_time": "2025-01-15T06:18:44.029062Z"
    }
   },
   "outputs": [
    {
     "data": {
      "text/html": [
       "<div>\n",
       "<style scoped>\n",
       "    .dataframe tbody tr th:only-of-type {\n",
       "        vertical-align: middle;\n",
       "    }\n",
       "\n",
       "    .dataframe tbody tr th {\n",
       "        vertical-align: top;\n",
       "    }\n",
       "\n",
       "    .dataframe thead th {\n",
       "        text-align: right;\n",
       "    }\n",
       "</style>\n",
       "<table border=\"1\" class=\"dataframe\">\n",
       "  <thead>\n",
       "    <tr style=\"text-align: right;\">\n",
       "      <th></th>\n",
       "      <th>user_id</th>\n",
       "      <th>user_total_orders</th>\n",
       "      <th>user_total_products</th>\n",
       "      <th>user_reorder_rate</th>\n",
       "      <th>user_avg_cart_size</th>\n",
       "    </tr>\n",
       "  </thead>\n",
       "  <tbody>\n",
       "    <tr>\n",
       "      <th>0</th>\n",
       "      <td>17</td>\n",
       "      <td>40</td>\n",
       "      <td>108</td>\n",
       "      <td>0.861111</td>\n",
       "      <td>2.814815</td>\n",
       "    </tr>\n",
       "    <tr>\n",
       "      <th>1</th>\n",
       "      <td>21</td>\n",
       "      <td>33</td>\n",
       "      <td>127</td>\n",
       "      <td>0.543307</td>\n",
       "      <td>4.708661</td>\n",
       "    </tr>\n",
       "    <tr>\n",
       "      <th>2</th>\n",
       "      <td>27</td>\n",
       "      <td>81</td>\n",
       "      <td>500</td>\n",
       "      <td>0.782000</td>\n",
       "      <td>7.478000</td>\n",
       "    </tr>\n",
       "    <tr>\n",
       "      <th>3</th>\n",
       "      <td>28</td>\n",
       "      <td>24</td>\n",
       "      <td>154</td>\n",
       "      <td>0.480519</td>\n",
       "      <td>5.870130</td>\n",
       "    </tr>\n",
       "    <tr>\n",
       "      <th>4</th>\n",
       "      <td>36</td>\n",
       "      <td>34</td>\n",
       "      <td>44</td>\n",
       "      <td>0.636364</td>\n",
       "      <td>3.181818</td>\n",
       "    </tr>\n",
       "  </tbody>\n",
       "</table>\n",
       "</div>"
      ],
      "text/plain": [
       "   user_id  user_total_orders  user_total_products  user_reorder_rate  \\\n",
       "0       17                 40                  108           0.861111   \n",
       "1       21                 33                  127           0.543307   \n",
       "2       27                 81                  500           0.782000   \n",
       "3       28                 24                  154           0.480519   \n",
       "4       36                 34                   44           0.636364   \n",
       "\n",
       "   user_avg_cart_size  \n",
       "0            2.814815  \n",
       "1            4.708661  \n",
       "2            7.478000  \n",
       "3            5.870130  \n",
       "4            3.181818  "
      ]
     },
     "execution_count": 9,
     "metadata": {},
     "output_type": "execute_result"
    }
   ],
   "source": [
    "user_features.head()"
   ]
  },
  {
   "cell_type": "code",
   "execution_count": 10,
   "id": "045350e5",
   "metadata": {
    "ExecuteTime": {
     "end_time": "2025-01-15T06:18:46.783680Z",
     "start_time": "2025-01-15T06:18:46.252910Z"
    }
   },
   "outputs": [
    {
     "name": "stdout",
     "output_type": "stream",
     "text": [
      "<class 'pandas.core.frame.DataFrame'>\n",
      "RangeIndex: 1989 entries, 0 to 1988\n",
      "Data columns (total 4 columns):\n",
      " #   Column                   Non-Null Count  Dtype  \n",
      "---  ------                   --------------  -----  \n",
      " 0   product_id               1989 non-null   int64  \n",
      " 1   product_total_orders     1989 non-null   int64  \n",
      " 2   product_reorder_rate     1989 non-null   float64\n",
      " 3   product_avg_add_to_cart  1989 non-null   float64\n",
      "dtypes: float64(2), int64(2)\n",
      "memory usage: 62.3 KB\n"
     ]
    }
   ],
   "source": [
    "# 상품별 구매 패턴\n",
    "product_features = order_details.groupby('product_id').agg(\n",
    "    product_total_orders=('order_id', 'count'),\n",
    "    product_reorder_rate=('reordered', 'mean'),\n",
    "    product_avg_add_to_cart=('add_to_cart_order', 'mean')\n",
    ").reset_index()\n",
    "product_features.info()"
   ]
  },
  {
   "cell_type": "code",
   "execution_count": 11,
   "id": "e19f623b",
   "metadata": {
    "ExecuteTime": {
     "end_time": "2025-01-15T06:18:51.407058Z",
     "start_time": "2025-01-15T06:18:51.397077Z"
    }
   },
   "outputs": [
    {
     "data": {
      "text/html": [
       "<div>\n",
       "<style scoped>\n",
       "    .dataframe tbody tr th:only-of-type {\n",
       "        vertical-align: middle;\n",
       "    }\n",
       "\n",
       "    .dataframe tbody tr th {\n",
       "        vertical-align: top;\n",
       "    }\n",
       "\n",
       "    .dataframe thead th {\n",
       "        text-align: right;\n",
       "    }\n",
       "</style>\n",
       "<table border=\"1\" class=\"dataframe\">\n",
       "  <thead>\n",
       "    <tr style=\"text-align: right;\">\n",
       "      <th></th>\n",
       "      <th>product_id</th>\n",
       "      <th>product_total_orders</th>\n",
       "      <th>product_reorder_rate</th>\n",
       "      <th>product_avg_add_to_cart</th>\n",
       "    </tr>\n",
       "  </thead>\n",
       "  <tbody>\n",
       "    <tr>\n",
       "      <th>0</th>\n",
       "      <td>34</td>\n",
       "      <td>3466</td>\n",
       "      <td>0.702827</td>\n",
       "      <td>9.365840</td>\n",
       "    </tr>\n",
       "    <tr>\n",
       "      <th>1</th>\n",
       "      <td>45</td>\n",
       "      <td>10759</td>\n",
       "      <td>0.755089</td>\n",
       "      <td>8.162376</td>\n",
       "    </tr>\n",
       "    <tr>\n",
       "      <th>2</th>\n",
       "      <td>79</td>\n",
       "      <td>2065</td>\n",
       "      <td>0.625182</td>\n",
       "      <td>10.785956</td>\n",
       "    </tr>\n",
       "    <tr>\n",
       "      <th>3</th>\n",
       "      <td>116</td>\n",
       "      <td>2693</td>\n",
       "      <td>0.797623</td>\n",
       "      <td>5.831415</td>\n",
       "    </tr>\n",
       "    <tr>\n",
       "      <th>4</th>\n",
       "      <td>117</td>\n",
       "      <td>2410</td>\n",
       "      <td>0.880913</td>\n",
       "      <td>6.830290</td>\n",
       "    </tr>\n",
       "  </tbody>\n",
       "</table>\n",
       "</div>"
      ],
      "text/plain": [
       "   product_id  product_total_orders  product_reorder_rate  \\\n",
       "0          34                  3466              0.702827   \n",
       "1          45                 10759              0.755089   \n",
       "2          79                  2065              0.625182   \n",
       "3         116                  2693              0.797623   \n",
       "4         117                  2410              0.880913   \n",
       "\n",
       "   product_avg_add_to_cart  \n",
       "0                 9.365840  \n",
       "1                 8.162376  \n",
       "2                10.785956  \n",
       "3                 5.831415  \n",
       "4                 6.830290  "
      ]
     },
     "execution_count": 11,
     "metadata": {},
     "output_type": "execute_result"
    }
   ],
   "source": [
    "product_features.head()"
   ]
  },
  {
   "cell_type": "code",
   "execution_count": 12,
   "id": "d97b8839",
   "metadata": {
    "ExecuteTime": {
     "end_time": "2025-01-15T06:19:04.486119Z",
     "start_time": "2025-01-15T06:19:01.492959Z"
    }
   },
   "outputs": [
    {
     "name": "stdout",
     "output_type": "stream",
     "text": [
      "<class 'pandas.core.frame.DataFrame'>\n",
      "RangeIndex: 3144502 entries, 0 to 3144501\n",
      "Data columns (total 4 columns):\n",
      " #   Column                     Dtype  \n",
      "---  ------                     -----  \n",
      " 0   user_id                    int64  \n",
      " 1   product_id                 int64  \n",
      " 2   user_product_orders        int64  \n",
      " 3   user_product_reorder_rate  float64\n",
      "dtypes: float64(1), int64(3)\n",
      "memory usage: 96.0 MB\n"
     ]
    }
   ],
   "source": [
    "# 고객-상품 조합 정보\n",
    "user_product_features = order_details.groupby(['user_id', 'product_id']).agg(\n",
    "    user_product_orders=('order_id', 'count'),\n",
    "    user_product_reorder_rate=('reordered', 'mean')\n",
    ").reset_index()\n",
    "user_product_features.info()"
   ]
  },
  {
   "cell_type": "code",
   "execution_count": 20,
   "id": "a47af554",
   "metadata": {
    "ExecuteTime": {
     "end_time": "2025-01-14T03:43:31.787742Z",
     "start_time": "2025-01-14T03:43:31.777582Z"
    }
   },
   "outputs": [
    {
     "data": {
      "text/html": [
       "<div>\n",
       "<style scoped>\n",
       "    .dataframe tbody tr th:only-of-type {\n",
       "        vertical-align: middle;\n",
       "    }\n",
       "\n",
       "    .dataframe tbody tr th {\n",
       "        vertical-align: top;\n",
       "    }\n",
       "\n",
       "    .dataframe thead th {\n",
       "        text-align: right;\n",
       "    }\n",
       "</style>\n",
       "<table border=\"1\" class=\"dataframe\">\n",
       "  <thead>\n",
       "    <tr style=\"text-align: right;\">\n",
       "      <th></th>\n",
       "      <th>user_id</th>\n",
       "      <th>product_id</th>\n",
       "      <th>user_product_orders</th>\n",
       "      <th>user_product_reorder_rate</th>\n",
       "    </tr>\n",
       "  </thead>\n",
       "  <tbody>\n",
       "    <tr>\n",
       "      <th>0</th>\n",
       "      <td>17</td>\n",
       "      <td>812</td>\n",
       "      <td>1</td>\n",
       "      <td>0.0</td>\n",
       "    </tr>\n",
       "    <tr>\n",
       "      <th>1</th>\n",
       "      <td>17</td>\n",
       "      <td>1073</td>\n",
       "      <td>2</td>\n",
       "      <td>0.5</td>\n",
       "    </tr>\n",
       "    <tr>\n",
       "      <th>2</th>\n",
       "      <td>17</td>\n",
       "      <td>1774</td>\n",
       "      <td>5</td>\n",
       "      <td>0.8</td>\n",
       "    </tr>\n",
       "    <tr>\n",
       "      <th>3</th>\n",
       "      <td>17</td>\n",
       "      <td>4591</td>\n",
       "      <td>1</td>\n",
       "      <td>0.0</td>\n",
       "    </tr>\n",
       "    <tr>\n",
       "      <th>4</th>\n",
       "      <td>17</td>\n",
       "      <td>5077</td>\n",
       "      <td>1</td>\n",
       "      <td>0.0</td>\n",
       "    </tr>\n",
       "  </tbody>\n",
       "</table>\n",
       "</div>"
      ],
      "text/plain": [
       "   user_id  product_id  user_product_orders  user_product_reorder_rate\n",
       "0       17         812                    1                        0.0\n",
       "1       17        1073                    2                        0.5\n",
       "2       17        1774                    5                        0.8\n",
       "3       17        4591                    1                        0.0\n",
       "4       17        5077                    1                        0.0"
      ]
     },
     "execution_count": 20,
     "metadata": {},
     "output_type": "execute_result"
    }
   ],
   "source": [
    "user_product_features.head()"
   ]
  },
  {
   "cell_type": "code",
   "execution_count": 13,
   "id": "61f5ec22",
   "metadata": {
    "ExecuteTime": {
     "end_time": "2025-01-15T06:19:29.715283Z",
     "start_time": "2025-01-15T06:19:28.309279Z"
    }
   },
   "outputs": [
    {
     "name": "stdout",
     "output_type": "stream",
     "text": [
      "(3144502, 11)\n"
     ]
    }
   ],
   "source": [
    "# 고객-상품 조합에 고객 정보 병합\n",
    "final_data = pd.merge(user_product_features, user_features, on='user_id', how='left')\n",
    "\n",
    "# 고객-상품 조합에 상품 정보 병합\n",
    "final_data = pd.merge(final_data, product_features, on='product_id', how='left')\n",
    "\n",
    "print(final_data.shape)  # 데이터 크기 확인"
   ]
  },
  {
   "cell_type": "code",
   "execution_count": 14,
   "id": "6814d301",
   "metadata": {
    "ExecuteTime": {
     "end_time": "2025-01-15T06:19:31.349880Z",
     "start_time": "2025-01-15T06:19:31.340872Z"
    }
   },
   "outputs": [
    {
     "name": "stdout",
     "output_type": "stream",
     "text": [
      "<class 'pandas.core.frame.DataFrame'>\n",
      "Int64Index: 3144502 entries, 0 to 3144501\n",
      "Data columns (total 11 columns):\n",
      " #   Column                     Dtype  \n",
      "---  ------                     -----  \n",
      " 0   user_id                    int64  \n",
      " 1   product_id                 int64  \n",
      " 2   user_product_orders        int64  \n",
      " 3   user_product_reorder_rate  float64\n",
      " 4   user_total_orders          int64  \n",
      " 5   user_total_products        int64  \n",
      " 6   user_reorder_rate          float64\n",
      " 7   user_avg_cart_size         float64\n",
      " 8   product_total_orders       int64  \n",
      " 9   product_reorder_rate       float64\n",
      " 10  product_avg_add_to_cart    float64\n",
      "dtypes: float64(5), int64(6)\n",
      "memory usage: 287.9 MB\n"
     ]
    }
   ],
   "source": [
    "final_data.info()"
   ]
  },
  {
   "cell_type": "code",
   "execution_count": 15,
   "id": "aee7e657",
   "metadata": {
    "ExecuteTime": {
     "end_time": "2025-01-15T06:19:33.747313Z",
     "start_time": "2025-01-15T06:19:33.732910Z"
    }
   },
   "outputs": [
    {
     "data": {
      "text/html": [
       "<div>\n",
       "<style scoped>\n",
       "    .dataframe tbody tr th:only-of-type {\n",
       "        vertical-align: middle;\n",
       "    }\n",
       "\n",
       "    .dataframe tbody tr th {\n",
       "        vertical-align: top;\n",
       "    }\n",
       "\n",
       "    .dataframe thead th {\n",
       "        text-align: right;\n",
       "    }\n",
       "</style>\n",
       "<table border=\"1\" class=\"dataframe\">\n",
       "  <thead>\n",
       "    <tr style=\"text-align: right;\">\n",
       "      <th></th>\n",
       "      <th>user_id</th>\n",
       "      <th>product_id</th>\n",
       "      <th>user_product_orders</th>\n",
       "      <th>user_product_reorder_rate</th>\n",
       "      <th>user_total_orders</th>\n",
       "      <th>user_total_products</th>\n",
       "      <th>user_reorder_rate</th>\n",
       "      <th>user_avg_cart_size</th>\n",
       "      <th>product_total_orders</th>\n",
       "      <th>product_reorder_rate</th>\n",
       "      <th>product_avg_add_to_cart</th>\n",
       "    </tr>\n",
       "  </thead>\n",
       "  <tbody>\n",
       "    <tr>\n",
       "      <th>0</th>\n",
       "      <td>17</td>\n",
       "      <td>812</td>\n",
       "      <td>1</td>\n",
       "      <td>0.000000</td>\n",
       "      <td>40</td>\n",
       "      <td>108</td>\n",
       "      <td>0.861111</td>\n",
       "      <td>2.814815</td>\n",
       "      <td>2197</td>\n",
       "      <td>0.613564</td>\n",
       "      <td>10.868457</td>\n",
       "    </tr>\n",
       "    <tr>\n",
       "      <th>1</th>\n",
       "      <td>17</td>\n",
       "      <td>5077</td>\n",
       "      <td>1</td>\n",
       "      <td>0.000000</td>\n",
       "      <td>40</td>\n",
       "      <td>108</td>\n",
       "      <td>0.861111</td>\n",
       "      <td>2.814815</td>\n",
       "      <td>34572</td>\n",
       "      <td>0.848693</td>\n",
       "      <td>7.009430</td>\n",
       "    </tr>\n",
       "    <tr>\n",
       "      <th>2</th>\n",
       "      <td>17</td>\n",
       "      <td>7350</td>\n",
       "      <td>33</td>\n",
       "      <td>0.969697</td>\n",
       "      <td>40</td>\n",
       "      <td>108</td>\n",
       "      <td>0.861111</td>\n",
       "      <td>2.814815</td>\n",
       "      <td>2093</td>\n",
       "      <td>0.833254</td>\n",
       "      <td>6.275681</td>\n",
       "    </tr>\n",
       "    <tr>\n",
       "      <th>3</th>\n",
       "      <td>17</td>\n",
       "      <td>9387</td>\n",
       "      <td>4</td>\n",
       "      <td>0.750000</td>\n",
       "      <td>40</td>\n",
       "      <td>108</td>\n",
       "      <td>0.861111</td>\n",
       "      <td>2.814815</td>\n",
       "      <td>20471</td>\n",
       "      <td>0.766890</td>\n",
       "      <td>7.381711</td>\n",
       "    </tr>\n",
       "    <tr>\n",
       "      <th>4</th>\n",
       "      <td>17</td>\n",
       "      <td>16797</td>\n",
       "      <td>10</td>\n",
       "      <td>0.900000</td>\n",
       "      <td>40</td>\n",
       "      <td>108</td>\n",
       "      <td>0.861111</td>\n",
       "      <td>2.814815</td>\n",
       "      <td>77908</td>\n",
       "      <td>0.807748</td>\n",
       "      <td>7.220568</td>\n",
       "    </tr>\n",
       "  </tbody>\n",
       "</table>\n",
       "</div>"
      ],
      "text/plain": [
       "   user_id  product_id  user_product_orders  user_product_reorder_rate  \\\n",
       "0       17         812                    1                   0.000000   \n",
       "1       17        5077                    1                   0.000000   \n",
       "2       17        7350                   33                   0.969697   \n",
       "3       17        9387                    4                   0.750000   \n",
       "4       17       16797                   10                   0.900000   \n",
       "\n",
       "   user_total_orders  user_total_products  user_reorder_rate  \\\n",
       "0                 40                  108           0.861111   \n",
       "1                 40                  108           0.861111   \n",
       "2                 40                  108           0.861111   \n",
       "3                 40                  108           0.861111   \n",
       "4                 40                  108           0.861111   \n",
       "\n",
       "   user_avg_cart_size  product_total_orders  product_reorder_rate  \\\n",
       "0            2.814815                  2197              0.613564   \n",
       "1            2.814815                 34572              0.848693   \n",
       "2            2.814815                  2093              0.833254   \n",
       "3            2.814815                 20471              0.766890   \n",
       "4            2.814815                 77908              0.807748   \n",
       "\n",
       "   product_avg_add_to_cart  \n",
       "0                10.868457  \n",
       "1                 7.009430  \n",
       "2                 6.275681  \n",
       "3                 7.381711  \n",
       "4                 7.220568  "
      ]
     },
     "execution_count": 15,
     "metadata": {},
     "output_type": "execute_result"
    }
   ],
   "source": [
    "final_data.head()"
   ]
  },
  {
   "cell_type": "code",
   "execution_count": 16,
   "id": "883e165a",
   "metadata": {
    "ExecuteTime": {
     "end_time": "2025-01-15T06:19:37.021639Z",
     "start_time": "2025-01-15T06:19:36.876984Z"
    }
   },
   "outputs": [],
   "source": [
    "final_data = final_data.drop(['user_total_orders', 'product_total_orders', 'user_product_orders'], axis=1)"
   ]
  },
  {
   "cell_type": "code",
   "execution_count": 17,
   "id": "c807406c",
   "metadata": {
    "ExecuteTime": {
     "end_time": "2025-01-15T06:19:38.842111Z",
     "start_time": "2025-01-15T06:19:38.829012Z"
    }
   },
   "outputs": [
    {
     "data": {
      "text/html": [
       "<div>\n",
       "<style scoped>\n",
       "    .dataframe tbody tr th:only-of-type {\n",
       "        vertical-align: middle;\n",
       "    }\n",
       "\n",
       "    .dataframe tbody tr th {\n",
       "        vertical-align: top;\n",
       "    }\n",
       "\n",
       "    .dataframe thead th {\n",
       "        text-align: right;\n",
       "    }\n",
       "</style>\n",
       "<table border=\"1\" class=\"dataframe\">\n",
       "  <thead>\n",
       "    <tr style=\"text-align: right;\">\n",
       "      <th></th>\n",
       "      <th>user_id</th>\n",
       "      <th>product_id</th>\n",
       "      <th>user_product_reorder_rate</th>\n",
       "      <th>user_total_products</th>\n",
       "      <th>user_reorder_rate</th>\n",
       "      <th>user_avg_cart_size</th>\n",
       "      <th>product_reorder_rate</th>\n",
       "      <th>product_avg_add_to_cart</th>\n",
       "    </tr>\n",
       "  </thead>\n",
       "  <tbody>\n",
       "    <tr>\n",
       "      <th>0</th>\n",
       "      <td>17</td>\n",
       "      <td>812</td>\n",
       "      <td>0.000000</td>\n",
       "      <td>108</td>\n",
       "      <td>0.861111</td>\n",
       "      <td>2.814815</td>\n",
       "      <td>0.613564</td>\n",
       "      <td>10.868457</td>\n",
       "    </tr>\n",
       "    <tr>\n",
       "      <th>1</th>\n",
       "      <td>17</td>\n",
       "      <td>5077</td>\n",
       "      <td>0.000000</td>\n",
       "      <td>108</td>\n",
       "      <td>0.861111</td>\n",
       "      <td>2.814815</td>\n",
       "      <td>0.848693</td>\n",
       "      <td>7.009430</td>\n",
       "    </tr>\n",
       "    <tr>\n",
       "      <th>2</th>\n",
       "      <td>17</td>\n",
       "      <td>7350</td>\n",
       "      <td>0.969697</td>\n",
       "      <td>108</td>\n",
       "      <td>0.861111</td>\n",
       "      <td>2.814815</td>\n",
       "      <td>0.833254</td>\n",
       "      <td>6.275681</td>\n",
       "    </tr>\n",
       "    <tr>\n",
       "      <th>3</th>\n",
       "      <td>17</td>\n",
       "      <td>9387</td>\n",
       "      <td>0.750000</td>\n",
       "      <td>108</td>\n",
       "      <td>0.861111</td>\n",
       "      <td>2.814815</td>\n",
       "      <td>0.766890</td>\n",
       "      <td>7.381711</td>\n",
       "    </tr>\n",
       "    <tr>\n",
       "      <th>4</th>\n",
       "      <td>17</td>\n",
       "      <td>16797</td>\n",
       "      <td>0.900000</td>\n",
       "      <td>108</td>\n",
       "      <td>0.861111</td>\n",
       "      <td>2.814815</td>\n",
       "      <td>0.807748</td>\n",
       "      <td>7.220568</td>\n",
       "    </tr>\n",
       "  </tbody>\n",
       "</table>\n",
       "</div>"
      ],
      "text/plain": [
       "   user_id  product_id  user_product_reorder_rate  user_total_products  \\\n",
       "0       17         812                   0.000000                  108   \n",
       "1       17        5077                   0.000000                  108   \n",
       "2       17        7350                   0.969697                  108   \n",
       "3       17        9387                   0.750000                  108   \n",
       "4       17       16797                   0.900000                  108   \n",
       "\n",
       "   user_reorder_rate  user_avg_cart_size  product_reorder_rate  \\\n",
       "0           0.861111            2.814815              0.613564   \n",
       "1           0.861111            2.814815              0.848693   \n",
       "2           0.861111            2.814815              0.833254   \n",
       "3           0.861111            2.814815              0.766890   \n",
       "4           0.861111            2.814815              0.807748   \n",
       "\n",
       "   product_avg_add_to_cart  \n",
       "0                10.868457  \n",
       "1                 7.009430  \n",
       "2                 6.275681  \n",
       "3                 7.381711  \n",
       "4                 7.220568  "
      ]
     },
     "execution_count": 17,
     "metadata": {},
     "output_type": "execute_result"
    }
   ],
   "source": [
    "final_data.head()"
   ]
  },
  {
   "cell_type": "code",
   "execution_count": 24,
   "id": "afba661f",
   "metadata": {
    "ExecuteTime": {
     "end_time": "2025-01-13T06:54:59.242142Z",
     "start_time": "2025-01-13T06:54:59.232048Z"
    },
    "scrolled": true
   },
   "outputs": [
    {
     "name": "stdout",
     "output_type": "stream",
     "text": [
      "<class 'pandas.core.frame.DataFrame'>\n",
      "Int64Index: 4788994 entries, 0 to 4788993\n",
      "Data columns (total 8 columns):\n",
      " #   Column                     Dtype  \n",
      "---  ------                     -----  \n",
      " 0   user_id                    int64  \n",
      " 1   product_id                 int64  \n",
      " 2   user_product_reorder_rate  float64\n",
      " 3   user_total_products        int64  \n",
      " 4   user_reorder_rate          float64\n",
      " 5   user_avg_cart_size         float64\n",
      " 6   product_reorder_rate       float64\n",
      " 7   product_avg_add_to_cart    float64\n",
      "dtypes: float64(5), int64(3)\n",
      "memory usage: 328.8 MB\n"
     ]
    }
   ],
   "source": [
    "final_data.info()"
   ]
  },
  {
   "cell_type": "code",
   "execution_count": 19,
   "id": "ee929216",
   "metadata": {
    "ExecuteTime": {
     "end_time": "2025-01-15T06:19:51.549667Z",
     "start_time": "2025-01-15T06:19:50.196838Z"
    }
   },
   "outputs": [
    {
     "name": "stdout",
     "output_type": "stream",
     "text": [
      "<class 'pandas.core.frame.DataFrame'>\n",
      "Int64Index: 3144502 entries, 0 to 3144501\n",
      "Data columns (total 4 columns):\n",
      " #   Column                     Dtype  \n",
      "---  ------                     -----  \n",
      " 0   user_id                    int64  \n",
      " 1   product_id                 int64  \n",
      " 2   user_product_reorder_rate  float64\n",
      " 3   target                     int64  \n",
      "dtypes: float64(1), int64(3)\n",
      "memory usage: 120.0 MB\n"
     ]
    }
   ],
   "source": [
    "# 불필요한 구매를 정의하는 기준 (재구매 확률이 0.6 이하인 경우)\n",
    "threshold = 0.6\n",
    "\n",
    "# 'target' 컬럼 생성: 재구매 확률이 0.6 이하 -> 0 (불필요), 0.6 이상 -> 1 (필요)\n",
    "final_data['target'] = final_data['user_product_reorder_rate'].apply(lambda x: 1 if x >= threshold else 0)\n",
    "\n",
    "# 종속변수 확인\n",
    "final_data[['user_id', 'product_id', 'user_product_reorder_rate', 'target']].info()"
   ]
  },
  {
   "cell_type": "code",
   "execution_count": 85,
   "id": "93015818",
   "metadata": {
    "ExecuteTime": {
     "end_time": "2025-01-14T08:15:52.719991Z",
     "start_time": "2025-01-14T08:15:52.608896Z"
    }
   },
   "outputs": [
    {
     "data": {
      "text/html": [
       "<div>\n",
       "<style scoped>\n",
       "    .dataframe tbody tr th:only-of-type {\n",
       "        vertical-align: middle;\n",
       "    }\n",
       "\n",
       "    .dataframe tbody tr th {\n",
       "        vertical-align: top;\n",
       "    }\n",
       "\n",
       "    .dataframe thead th {\n",
       "        text-align: right;\n",
       "    }\n",
       "</style>\n",
       "<table border=\"1\" class=\"dataframe\">\n",
       "  <thead>\n",
       "    <tr style=\"text-align: right;\">\n",
       "      <th></th>\n",
       "      <th>user_id</th>\n",
       "      <th>product_id</th>\n",
       "      <th>user_product_reorder_rate</th>\n",
       "      <th>target</th>\n",
       "    </tr>\n",
       "  </thead>\n",
       "  <tbody>\n",
       "    <tr>\n",
       "      <th>0</th>\n",
       "      <td>17</td>\n",
       "      <td>812</td>\n",
       "      <td>0.0</td>\n",
       "      <td>0</td>\n",
       "    </tr>\n",
       "    <tr>\n",
       "      <th>1</th>\n",
       "      <td>17</td>\n",
       "      <td>1073</td>\n",
       "      <td>0.5</td>\n",
       "      <td>0</td>\n",
       "    </tr>\n",
       "    <tr>\n",
       "      <th>2</th>\n",
       "      <td>17</td>\n",
       "      <td>1774</td>\n",
       "      <td>0.8</td>\n",
       "      <td>1</td>\n",
       "    </tr>\n",
       "    <tr>\n",
       "      <th>3</th>\n",
       "      <td>17</td>\n",
       "      <td>4591</td>\n",
       "      <td>0.0</td>\n",
       "      <td>0</td>\n",
       "    </tr>\n",
       "    <tr>\n",
       "      <th>4</th>\n",
       "      <td>17</td>\n",
       "      <td>5077</td>\n",
       "      <td>0.0</td>\n",
       "      <td>0</td>\n",
       "    </tr>\n",
       "  </tbody>\n",
       "</table>\n",
       "</div>"
      ],
      "text/plain": [
       "   user_id  product_id  user_product_reorder_rate  target\n",
       "0       17         812                        0.0       0\n",
       "1       17        1073                        0.5       0\n",
       "2       17        1774                        0.8       1\n",
       "3       17        4591                        0.0       0\n",
       "4       17        5077                        0.0       0"
      ]
     },
     "execution_count": 85,
     "metadata": {},
     "output_type": "execute_result"
    }
   ],
   "source": [
    "final_data[['user_id', 'product_id', 'user_product_reorder_rate', 'target']].head()"
   ]
  },
  {
   "cell_type": "code",
   "execution_count": 87,
   "id": "298e9e97",
   "metadata": {
    "ExecuteTime": {
     "end_time": "2025-01-14T08:16:33.436167Z",
     "start_time": "2025-01-14T08:16:30.544309Z"
    },
    "scrolled": true
   },
   "outputs": [
    {
     "data": {
      "image/png": "[encoded data removed]",
      "text/plain": [
       "<Figure size 1000x600 with 1 Axes>"
      ]
     },
     "metadata": {},
     "output_type": "display_data"
    }
   ],
   "source": [
    "import matplotlib.pyplot as plt\n",
    "import seaborn as sns\n",
    "\n",
    "# 고객별 평균 장바구니 크기 계산\n",
    "user_avg_cart_size = order_details.groupby('user_id')['add_to_cart_order'].mean()\n",
    "\n",
    "# 히스토그램 시각화\n",
    "plt.figure(figsize=(10, 6))\n",
    "sns.histplot(user_avg_cart_size, bins=30, kde=True, color='blue')\n",
    "plt.title('Distribution of Average Cart Size per Customer')\n",
    "plt.xlabel('Average Cart Size')\n",
    "plt.ylabel('Frequency')\n",
    "plt.show()"
   ]
  },
  {
   "cell_type": "code",
   "execution_count": 28,
   "id": "00cb1367",
   "metadata": {
    "ExecuteTime": {
     "end_time": "2025-01-13T07:03:51.478684Z",
     "start_time": "2025-01-13T07:03:50.760076Z"
    }
   },
   "outputs": [
    {
     "data": {
      "image/png": "[encoded data removed]",
      "text/plain": [
       "<Figure size 1000x600 with 1 Axes>"
      ]
     },
     "metadata": {},
     "output_type": "display_data"
    }
   ],
   "source": [
    "# 상품별 재구매율 계산\n",
    "product_reorder_rate = order_details.groupby('product_id')['reordered'].mean()\n",
    "\n",
    "# 히스토그램 시각화\n",
    "plt.figure(figsize=(10, 6))\n",
    "sns.histplot(product_reorder_rate, bins=30, kde=True, color='green')\n",
    "plt.title('Distribution of Product Reorder Rates')\n",
    "plt.xlabel('Reorder Rate')\n",
    "plt.ylabel('Frequency')\n",
    "plt.show()"
   ]
  },
  {
   "cell_type": "code",
   "execution_count": 29,
   "id": "2aaa6dea",
   "metadata": {
    "ExecuteTime": {
     "end_time": "2025-01-13T07:08:27.312230Z",
     "start_time": "2025-01-13T07:08:27.113231Z"
    }
   },
   "outputs": [
    {
     "data": {
      "image/png": "[encoded data removed]",
      "text/plain": [
       "<Figure size 800x600 with 1 Axes>"
      ]
     },
     "metadata": {},
     "output_type": "display_data"
    }
   ],
   "source": [
    "# 요일별 주문량 계산\n",
    "order_dow_counts = orders['order_dow'].value_counts().sort_index()\n",
    "\n",
    "# 막대그래프 시각화\n",
    "plt.figure(figsize=(8, 6))\n",
    "sns.barplot(x=order_dow_counts.index, y=order_dow_counts.values, palette='viridis')\n",
    "plt.title('Order Counts by Day of Week')\n",
    "plt.xlabel('Day of Week (0=Sunday, 6=Saturday)')\n",
    "plt.ylabel('Order Count')\n",
    "plt.show()"
   ]
  },
  {
   "cell_type": "code",
   "execution_count": 30,
   "id": "22383699",
   "metadata": {
    "ExecuteTime": {
     "end_time": "2025-01-13T07:08:36.834319Z",
     "start_time": "2025-01-13T07:08:36.615991Z"
    }
   },
   "outputs": [
    {
     "data": {
      "image/png": "[encoded data removed]",
      "text/plain": [
       "<Figure size 1000x600 with 1 Axes>"
      ]
     },
     "metadata": {},
     "output_type": "display_data"
    }
   ],
   "source": [
    "# 시간대별 주문량 계산\n",
    "order_hour_counts = orders['order_hour_of_day'].value_counts().sort_index()\n",
    "\n",
    "# 선 그래프 시각화\n",
    "plt.figure(figsize=(10, 6))\n",
    "sns.lineplot(x=order_hour_counts.index, y=order_hour_counts.values, marker='o', color='purple')\n",
    "plt.title('Order Counts by Hour of Day')\n",
    "plt.xlabel('Hour of Day')\n",
    "plt.ylabel('Order Count')\n",
    "plt.show()"
   ]
  },
  {
   "cell_type": "code",
   "execution_count": 33,
   "id": "c3aaaf23",
   "metadata": {
    "ExecuteTime": {
     "end_time": "2025-01-13T07:12:42.709687Z",
     "start_time": "2025-01-13T07:12:39.313140Z"
    }
   },
   "outputs": [
    {
     "data": {
      "image/png": "[encoded data removed]",
      "text/plain": [
       "<Figure size 1000x600 with 1 Axes>"
      ]
     },
     "metadata": {},
     "output_type": "display_data"
    }
   ],
   "source": [
    "# 고객-상품 조합별 재구매율 계산\n",
    "user_product_reorder_rate = user_product_features['user_product_reorder_rate']\n",
    "\n",
    "# 히스토그램 시각화\n",
    "plt.figure(figsize=(10, 6))\n",
    "sns.histplot(user_product_reorder_rate, bins=30, color='orange')\n",
    "plt.title('Distribution of User-Product Reorder Rates')\n",
    "plt.xlabel('Reorder Rate')\n",
    "plt.ylabel('Frequency')\n",
    "plt.show()"
   ]
  },
  {
   "cell_type": "code",
   "execution_count": 35,
   "id": "13df0ec0",
   "metadata": {
    "ExecuteTime": {
     "end_time": "2025-01-13T07:16:11.499284Z",
     "start_time": "2025-01-13T07:16:10.656327Z"
    }
   },
   "outputs": [
    {
     "data": {
      "image/png": "[encoded data removed]",
      "text/plain": [
       "<Figure size 1200x600 with 1 Axes>"
      ]
     },
     "metadata": {},
     "output_type": "display_data"
    }
   ],
   "source": [
    "# 부서별 주문량 계산\n",
    "department_order_counts = order_details['department'].value_counts()\n",
    "\n",
    "# 막대그래프 시각화\n",
    "plt.figure(figsize=(12, 6))\n",
    "sns.barplot(x=department_order_counts.index, y=department_order_counts.values, palette='pastel')\n",
    "plt.title('Order Counts by Department')\n",
    "plt.xticks(rotation=45)\n",
    "plt.xlabel('Department')\n",
    "plt.ylabel('Order Count')\n",
    "plt.show()"
   ]
  },
  {
   "cell_type": "code",
   "execution_count": 88,
   "id": "8a975b28",
   "metadata": {
    "ExecuteTime": {
     "end_time": "2025-01-14T08:16:40.741024Z",
     "start_time": "2025-01-14T08:16:40.184377Z"
    }
   },
   "outputs": [
    {
     "data": {
      "image/png": "[encoded data removed]",
      "text/plain": [
       "<Figure size 800x800 with 1 Axes>"
      ]
     },
     "metadata": {},
     "output_type": "display_data"
    }
   ],
   "source": [
    "# 상품별 재구매율 기준으로 불필요 구매 분류\n",
    "threshold = 0.6  # 재구매율이 60% 미만인 경우를 불필요 구매로 정의\n",
    "product_reorder_rate = order_details.groupby('product_id')['reordered'].mean()\n",
    "unnecessary_purchase_rate = (product_reorder_rate < threshold).mean()\n",
    "\n",
    "# Pie 차트로 비율 시각화\n",
    "labels = ['Necessary Purchases', 'Unnecessary Purchases']\n",
    "sizes = [1 - unnecessary_purchase_rate, unnecessary_purchase_rate]\n",
    "colors = ['skyblue', 'salmon']\n",
    "\n",
    "plt.figure(figsize=(8, 8))\n",
    "plt.pie(sizes, labels=labels, colors=colors, autopct='%1.1f%%', startangle=140)\n",
    "plt.title('Proportion of Unnecessary Purchases')\n",
    "plt.show()"
   ]
  },
  {
   "cell_type": "code",
   "execution_count": 22,
   "id": "d5109eae",
   "metadata": {
    "ExecuteTime": {
     "end_time": "2025-01-15T06:38:39.156526Z",
     "start_time": "2025-01-15T06:38:25.366508Z"
    }
   },
   "outputs": [],
   "source": [
    "import numpy as np\n",
    "from tensorflow.keras.models import Sequential  # 모델 생성\n",
    "from tensorflow.keras.layers import Dense, Input, Dropout"
   ]
  },
  {
   "cell_type": "code",
   "execution_count": 23,
   "id": "0da81442",
   "metadata": {
    "ExecuteTime": {
     "end_time": "2025-01-15T06:38:44.137253Z",
     "start_time": "2025-01-15T06:38:44.012956Z"
    }
   },
   "outputs": [
    {
     "data": {
      "text/html": [
       "<div>\n",
       "<style scoped>\n",
       "    .dataframe tbody tr th:only-of-type {\n",
       "        vertical-align: middle;\n",
       "    }\n",
       "\n",
       "    .dataframe tbody tr th {\n",
       "        vertical-align: top;\n",
       "    }\n",
       "\n",
       "    .dataframe thead th {\n",
       "        text-align: right;\n",
       "    }\n",
       "</style>\n",
       "<table border=\"1\" class=\"dataframe\">\n",
       "  <thead>\n",
       "    <tr style=\"text-align: right;\">\n",
       "      <th></th>\n",
       "      <th>user_product_reorder_rate</th>\n",
       "      <th>user_total_products</th>\n",
       "      <th>user_reorder_rate</th>\n",
       "      <th>user_avg_cart_size</th>\n",
       "      <th>product_reorder_rate</th>\n",
       "      <th>product_avg_add_to_cart</th>\n",
       "      <th>target</th>\n",
       "    </tr>\n",
       "  </thead>\n",
       "  <tbody>\n",
       "    <tr>\n",
       "      <th>0</th>\n",
       "      <td>0.000000</td>\n",
       "      <td>108</td>\n",
       "      <td>0.861111</td>\n",
       "      <td>2.814815</td>\n",
       "      <td>0.613564</td>\n",
       "      <td>10.868457</td>\n",
       "      <td>0</td>\n",
       "    </tr>\n",
       "    <tr>\n",
       "      <th>1</th>\n",
       "      <td>0.000000</td>\n",
       "      <td>108</td>\n",
       "      <td>0.861111</td>\n",
       "      <td>2.814815</td>\n",
       "      <td>0.848693</td>\n",
       "      <td>7.009430</td>\n",
       "      <td>0</td>\n",
       "    </tr>\n",
       "    <tr>\n",
       "      <th>2</th>\n",
       "      <td>0.969697</td>\n",
       "      <td>108</td>\n",
       "      <td>0.861111</td>\n",
       "      <td>2.814815</td>\n",
       "      <td>0.833254</td>\n",
       "      <td>6.275681</td>\n",
       "      <td>1</td>\n",
       "    </tr>\n",
       "    <tr>\n",
       "      <th>3</th>\n",
       "      <td>0.750000</td>\n",
       "      <td>108</td>\n",
       "      <td>0.861111</td>\n",
       "      <td>2.814815</td>\n",
       "      <td>0.766890</td>\n",
       "      <td>7.381711</td>\n",
       "      <td>1</td>\n",
       "    </tr>\n",
       "    <tr>\n",
       "      <th>4</th>\n",
       "      <td>0.900000</td>\n",
       "      <td>108</td>\n",
       "      <td>0.861111</td>\n",
       "      <td>2.814815</td>\n",
       "      <td>0.807748</td>\n",
       "      <td>7.220568</td>\n",
       "      <td>1</td>\n",
       "    </tr>\n",
       "  </tbody>\n",
       "</table>\n",
       "</div>"
      ],
      "text/plain": [
       "   user_product_reorder_rate  user_total_products  user_reorder_rate  \\\n",
       "0                   0.000000                  108           0.861111   \n",
       "1                   0.000000                  108           0.861111   \n",
       "2                   0.969697                  108           0.861111   \n",
       "3                   0.750000                  108           0.861111   \n",
       "4                   0.900000                  108           0.861111   \n",
       "\n",
       "   user_avg_cart_size  product_reorder_rate  product_avg_add_to_cart  target  \n",
       "0            2.814815              0.613564                10.868457       0  \n",
       "1            2.814815              0.848693                 7.009430       0  \n",
       "2            2.814815              0.833254                 6.275681       1  \n",
       "3            2.814815              0.766890                 7.381711       1  \n",
       "4            2.814815              0.807748                 7.220568       1  "
      ]
     },
     "execution_count": 23,
     "metadata": {},
     "output_type": "execute_result"
    }
   ],
   "source": [
    "# 최종 데이터 셋에서 user_id, product_id 컬럼 제거\n",
    "final_data_ind = final_data.drop(['user_id', 'product_id'], axis=1)\n",
    "final_data_ind.head()"
   ]
  },
  {
   "cell_type": "code",
   "execution_count": 24,
   "id": "6c61258d",
   "metadata": {
    "ExecuteTime": {
     "end_time": "2025-01-15T06:38:59.223180Z",
     "start_time": "2025-01-15T06:38:55.469185Z"
    }
   },
   "outputs": [
    {
     "name": "stdout",
     "output_type": "stream",
     "text": [
      "샘플링 후 데이터 크기: (314450, 7)\n"
     ]
    }
   ],
   "source": [
    "from sklearn.model_selection import train_test_split\n",
    "\n",
    "# 10% 샘플링 (층화 샘플링)\n",
    "sampled_data, _ = train_test_split(\n",
    "    final_data_ind, \n",
    "    test_size=0.9,  # 전체 데이터의 90%를 제외\n",
    "    stratify=final_data['target'],  # 종속변수 기준으로 층화\n",
    "    random_state=42\n",
    ")\n",
    "\n",
    "print(\"샘플링 후 데이터 크기:\", sampled_data.shape)"
   ]
  },
  {
   "cell_type": "code",
   "execution_count": 25,
   "id": "7f7cb9bf",
   "metadata": {
    "ExecuteTime": {
     "end_time": "2025-01-15T06:39:28.319631Z",
     "start_time": "2025-01-15T06:39:25.797466Z"
    }
   },
   "outputs": [],
   "source": [
    "sampled_data.to_csv('data/sampled_data.csv')"
   ]
  },
  {
   "cell_type": "code",
   "execution_count": 27,
   "id": "6d8093ca",
   "metadata": {
    "ExecuteTime": {
     "end_time": "2025-01-15T06:53:26.873031Z",
     "start_time": "2025-01-15T06:53:26.813019Z"
    }
   },
   "outputs": [
    {
     "data": {
      "text/plain": [
       "(314450, 6)"
      ]
     },
     "execution_count": 27,
     "metadata": {},
     "output_type": "execute_result"
    }
   ],
   "source": [
    "# 독립변수 정규화 스케일링\n",
    "from sklearn.preprocessing import MinMaxScaler\n",
    "\n",
    "scaler = MinMaxScaler()\n",
    "X_scaled = scaler.fit_transform(sampled_data.iloc[:, :-1])\n",
    "\n",
    "X_scaled.shape"
   ]
  },
  {
   "cell_type": "code",
   "execution_count": 28,
   "id": "41371172",
   "metadata": {
    "ExecuteTime": {
     "end_time": "2025-01-15T06:53:28.857825Z",
     "start_time": "2025-01-15T06:53:28.852825Z"
    }
   },
   "outputs": [
    {
     "name": "stdout",
     "output_type": "stream",
     "text": [
      "[[0.         0.20871143 0.8329443  0.10554463 0.85673883 0.48087034]\n",
      " [0.7578125  0.24936479 0.82069836 0.17358574 0.67569577 0.78592506]\n",
      " [0.84201389 0.02395644 0.63700414 0.05995906 0.94077525 0.07016417]\n",
      " [0.909375   0.18656987 0.8778399  0.14695437 0.76028027 0.61129398]\n",
      " [0.         0.17313975 0.79005179 0.20706153 0.69610594 0.7981973 ]]\n"
     ]
    }
   ],
   "source": [
    "print(X_scaled[:5])"
   ]
  },
  {
   "cell_type": "code",
   "execution_count": 29,
   "id": "0506d537",
   "metadata": {
    "ExecuteTime": {
     "end_time": "2025-01-15T06:53:29.810825Z",
     "start_time": "2025-01-15T06:53:29.804840Z"
    }
   },
   "outputs": [
    {
     "data": {
      "text/plain": [
       "(314450,)"
      ]
     },
     "execution_count": 29,
     "metadata": {},
     "output_type": "execute_result"
    }
   ],
   "source": [
    "# 종속변수 분리(target)\n",
    "y = sampled_data.iloc[:,-1]\n",
    "y.shape"
   ]
  },
  {
   "cell_type": "code",
   "execution_count": 30,
   "id": "98aa5430",
   "metadata": {
    "ExecuteTime": {
     "end_time": "2025-01-15T06:53:31.239841Z",
     "start_time": "2025-01-15T06:53:31.180682Z"
    }
   },
   "outputs": [
    {
     "data": {
      "text/plain": [
       "((251560, 6), (62890, 6), (251560,), (62890,))"
      ]
     },
     "execution_count": 30,
     "metadata": {},
     "output_type": "execute_result"
    }
   ],
   "source": [
    "# 훈련, 테스트 데이터셋 분류\n",
    "X_train, X_test, y_train, y_test = train_test_split(X_scaled, y, test_size=0.2, random_state=42)\n",
    "X_train.shape, X_test.shape, y_train.shape, y_test.shape"
   ]
  },
  {
   "cell_type": "code",
   "execution_count": 31,
   "id": "6172941c",
   "metadata": {
    "ExecuteTime": {
     "end_time": "2025-01-15T06:53:33.773765Z",
     "start_time": "2025-01-15T06:53:33.428910Z"
    }
   },
   "outputs": [
    {
     "name": "stdout",
     "output_type": "stream",
     "text": [
      "Model: \"sequential\"\n",
      "_________________________________________________________________\n",
      " Layer (type)                Output Shape              Param #   \n",
      "=================================================================\n",
      " dense (Dense)               (None, 64)                448       \n",
      "                                                                 \n",
      " dropout (Dropout)           (None, 64)                0         \n",
      "                                                                 \n",
      " dense_1 (Dense)             (None, 32)                2080      \n",
      "                                                                 \n",
      " dropout_1 (Dropout)         (None, 32)                0         \n",
      "                                                                 \n",
      " dense_2 (Dense)             (None, 16)                528       \n",
      "                                                                 \n",
      " dense_3 (Dense)             (None, 1)                 17        \n",
      "                                                                 \n",
      "=================================================================\n",
      "Total params: 3,073\n",
      "Trainable params: 3,073\n",
      "Non-trainable params: 0\n",
      "_________________________________________________________________\n"
     ]
    }
   ],
   "source": [
    "# DNN모델 설계\n",
    "model = Sequential([\n",
    "    Dense(64, input_dim=X_train.shape[1], activation='relu'), \n",
    "    Dropout(0.3),                                             \n",
    "    Dense(32, activation='relu'),                            \n",
    "    Dropout(0.3),                                             \n",
    "    Dense(16, activation='relu'),                             \n",
    "    Dense(1, activation='sigmoid')                            \n",
    "])\n",
    "model.summary()"
   ]
  },
  {
   "cell_type": "code",
   "execution_count": 32,
   "id": "30074beb",
   "metadata": {
    "ExecuteTime": {
     "end_time": "2025-01-15T06:58:01.406093Z",
     "start_time": "2025-01-15T06:58:01.388909Z"
    }
   },
   "outputs": [],
   "source": [
    "model.compile(optimizer='adam', loss='binary_crossentropy', metrics=['accuracy'])"
   ]
  },
  {
   "cell_type": "code",
   "execution_count": 33,
   "id": "d3868bcb",
   "metadata": {
    "ExecuteTime": {
     "end_time": "2025-01-15T06:59:22.293790Z",
     "start_time": "2025-01-15T06:58:02.868646Z"
    }
   },
   "outputs": [
    {
     "name": "stdout",
     "output_type": "stream",
     "text": [
      "Epoch 1/20\n",
      "1966/1966 [==============================] - 5s 2ms/step - loss: 0.0329 - accuracy: 0.9890 - val_loss: 3.9056e-05 - val_accuracy: 1.0000\n",
      "Epoch 2/20\n",
      "1966/1966 [==============================] - 4s 2ms/step - loss: 3.3007e-04 - accuracy: 0.9999 - val_loss: 2.0582e-06 - val_accuracy: 1.0000\n",
      "Epoch 3/20\n",
      "1966/1966 [==============================] - 4s 2ms/step - loss: 2.2268e-04 - accuracy: 0.9999 - val_loss: 2.9989e-07 - val_accuracy: 1.0000\n",
      "Epoch 4/20\n",
      "1966/1966 [==============================] - 4s 2ms/step - loss: 1.0973e-04 - accuracy: 1.0000 - val_loss: 2.9307e-07 - val_accuracy: 1.0000\n",
      "Epoch 5/20\n",
      "1966/1966 [==============================] - 4s 2ms/step - loss: 1.4595e-05 - accuracy: 1.0000 - val_loss: 1.2548e-08 - val_accuracy: 1.0000\n",
      "Epoch 6/20\n",
      "1966/1966 [==============================] - 4s 2ms/step - loss: 2.0422e-04 - accuracy: 0.9999 - val_loss: 1.4220e-07 - val_accuracy: 1.0000\n",
      "Epoch 7/20\n",
      "1966/1966 [==============================] - 4s 2ms/step - loss: 1.7523e-05 - accuracy: 1.0000 - val_loss: 4.6928e-08 - val_accuracy: 1.0000\n",
      "Epoch 8/20\n",
      "1966/1966 [==============================] - 4s 2ms/step - loss: 1.1684e-04 - accuracy: 1.0000 - val_loss: 1.9063e-07 - val_accuracy: 1.0000\n",
      "Epoch 9/20\n",
      "1966/1966 [==============================] - 4s 2ms/step - loss: 6.6698e-05 - accuracy: 1.0000 - val_loss: 2.1177e-08 - val_accuracy: 1.0000\n",
      "Epoch 10/20\n",
      "1966/1966 [==============================] - 4s 2ms/step - loss: 7.9833e-06 - accuracy: 1.0000 - val_loss: 3.2410e-09 - val_accuracy: 1.0000\n",
      "Epoch 11/20\n",
      "1966/1966 [==============================] - 4s 2ms/step - loss: 2.2442e-04 - accuracy: 0.9999 - val_loss: 1.5535e-08 - val_accuracy: 1.0000\n",
      "Epoch 12/20\n",
      "1966/1966 [==============================] - 4s 2ms/step - loss: 7.6443e-06 - accuracy: 1.0000 - val_loss: 3.4781e-09 - val_accuracy: 1.0000\n",
      "Epoch 13/20\n",
      "1966/1966 [==============================] - 4s 2ms/step - loss: 1.1504e-04 - accuracy: 1.0000 - val_loss: 6.3951e-09 - val_accuracy: 1.0000\n",
      "Epoch 14/20\n",
      "1966/1966 [==============================] - 4s 2ms/step - loss: 9.2140e-06 - accuracy: 1.0000 - val_loss: 4.7585e-10 - val_accuracy: 1.0000\n",
      "Epoch 15/20\n",
      "1966/1966 [==============================] - 4s 2ms/step - loss: 2.0209e-04 - accuracy: 0.9999 - val_loss: 1.2528e-08 - val_accuracy: 1.0000\n",
      "Epoch 16/20\n",
      "1966/1966 [==============================] - 4s 2ms/step - loss: 2.0695e-05 - accuracy: 1.0000 - val_loss: 2.0625e-09 - val_accuracy: 1.0000\n",
      "Epoch 17/20\n",
      "1966/1966 [==============================] - 4s 2ms/step - loss: 1.4281e-06 - accuracy: 1.0000 - val_loss: 2.0734e-10 - val_accuracy: 1.0000\n",
      "Epoch 18/20\n",
      "1966/1966 [==============================] - 4s 2ms/step - loss: 2.3170e-04 - accuracy: 0.9999 - val_loss: 1.9599e-08 - val_accuracy: 1.0000\n",
      "Epoch 19/20\n",
      "1966/1966 [==============================] - 4s 2ms/step - loss: 1.5898e-06 - accuracy: 1.0000 - val_loss: 2.6604e-09 - val_accuracy: 1.0000\n",
      "Epoch 20/20\n",
      "1966/1966 [==============================] - 4s 2ms/step - loss: 1.3610e-04 - accuracy: 1.0000 - val_loss: 1.7474e-08 - val_accuracy: 1.0000\n"
     ]
    }
   ],
   "source": [
    "history = model.fit(X_train, y_train, \n",
    "                    validation_data=(X_test, y_test), \n",
    "                    epochs=20, \n",
    "                    batch_size=128, \n",
    "                    verbose=1)"
   ]
  },
  {
   "cell_type": "code",
   "execution_count": 82,
   "id": "dbb60d3c",
   "metadata": {
    "ExecuteTime": {
     "end_time": "2025-01-14T07:22:18.032645Z",
     "start_time": "2025-01-14T07:22:18.016557Z"
    }
   },
   "outputs": [
    {
     "data": {
      "text/html": [
       "<div>\n",
       "<style scoped>\n",
       "    .dataframe tbody tr th:only-of-type {\n",
       "        vertical-align: middle;\n",
       "    }\n",
       "\n",
       "    .dataframe tbody tr th {\n",
       "        vertical-align: top;\n",
       "    }\n",
       "\n",
       "    .dataframe thead th {\n",
       "        text-align: right;\n",
       "    }\n",
       "</style>\n",
       "<table border=\"1\" class=\"dataframe\">\n",
       "  <thead>\n",
       "    <tr style=\"text-align: right;\">\n",
       "      <th></th>\n",
       "      <th>order_id</th>\n",
       "      <th>product_id</th>\n",
       "      <th>add_to_cart_order</th>\n",
       "      <th>reordered</th>\n",
       "      <th>user_id</th>\n",
       "      <th>order_number</th>\n",
       "      <th>order_dow</th>\n",
       "      <th>order_hour_of_day</th>\n",
       "      <th>product_name</th>\n",
       "      <th>aisle_id</th>\n",
       "      <th>department_id</th>\n",
       "      <th>aisle</th>\n",
       "      <th>department</th>\n",
       "    </tr>\n",
       "  </thead>\n",
       "  <tbody>\n",
       "    <tr>\n",
       "      <th>0</th>\n",
       "      <td>3</td>\n",
       "      <td>33754</td>\n",
       "      <td>1</td>\n",
       "      <td>1</td>\n",
       "      <td>205970</td>\n",
       "      <td>16</td>\n",
       "      <td>5</td>\n",
       "      <td>17</td>\n",
       "      <td>Total 2% with Strawberry Lowfat Greek Strained...</td>\n",
       "      <td>120</td>\n",
       "      <td>16</td>\n",
       "      <td>yogurt</td>\n",
       "      <td>dairy eggs</td>\n",
       "    </tr>\n",
       "    <tr>\n",
       "      <th>1</th>\n",
       "      <td>342</td>\n",
       "      <td>33754</td>\n",
       "      <td>11</td>\n",
       "      <td>1</td>\n",
       "      <td>183968</td>\n",
       "      <td>24</td>\n",
       "      <td>2</td>\n",
       "      <td>17</td>\n",
       "      <td>Total 2% with Strawberry Lowfat Greek Strained...</td>\n",
       "      <td>120</td>\n",
       "      <td>16</td>\n",
       "      <td>yogurt</td>\n",
       "      <td>dairy eggs</td>\n",
       "    </tr>\n",
       "    <tr>\n",
       "      <th>2</th>\n",
       "      <td>582</td>\n",
       "      <td>33754</td>\n",
       "      <td>18</td>\n",
       "      <td>0</td>\n",
       "      <td>193223</td>\n",
       "      <td>6</td>\n",
       "      <td>2</td>\n",
       "      <td>19</td>\n",
       "      <td>Total 2% with Strawberry Lowfat Greek Strained...</td>\n",
       "      <td>120</td>\n",
       "      <td>16</td>\n",
       "      <td>yogurt</td>\n",
       "      <td>dairy eggs</td>\n",
       "    </tr>\n",
       "    <tr>\n",
       "      <th>3</th>\n",
       "      <td>1171</td>\n",
       "      <td>33754</td>\n",
       "      <td>32</td>\n",
       "      <td>1</td>\n",
       "      <td>100330</td>\n",
       "      <td>20</td>\n",
       "      <td>1</td>\n",
       "      <td>13</td>\n",
       "      <td>Total 2% with Strawberry Lowfat Greek Strained...</td>\n",
       "      <td>120</td>\n",
       "      <td>16</td>\n",
       "      <td>yogurt</td>\n",
       "      <td>dairy eggs</td>\n",
       "    </tr>\n",
       "    <tr>\n",
       "      <th>4</th>\n",
       "      <td>1502</td>\n",
       "      <td>33754</td>\n",
       "      <td>1</td>\n",
       "      <td>0</td>\n",
       "      <td>175768</td>\n",
       "      <td>13</td>\n",
       "      <td>0</td>\n",
       "      <td>14</td>\n",
       "      <td>Total 2% with Strawberry Lowfat Greek Strained...</td>\n",
       "      <td>120</td>\n",
       "      <td>16</td>\n",
       "      <td>yogurt</td>\n",
       "      <td>dairy eggs</td>\n",
       "    </tr>\n",
       "  </tbody>\n",
       "</table>\n",
       "</div>"
      ],
      "text/plain": [
       "   order_id  product_id  add_to_cart_order  reordered  user_id  order_number  \\\n",
       "0         3       33754                  1          1   205970            16   \n",
       "1       342       33754                 11          1   183968            24   \n",
       "2       582       33754                 18          0   193223             6   \n",
       "3      1171       33754                 32          1   100330            20   \n",
       "4      1502       33754                  1          0   175768            13   \n",
       "\n",
       "   order_dow  order_hour_of_day  \\\n",
       "0          5                 17   \n",
       "1          2                 17   \n",
       "2          2                 19   \n",
       "3          1                 13   \n",
       "4          0                 14   \n",
       "\n",
       "                                        product_name  aisle_id  department_id  \\\n",
       "0  Total 2% with Strawberry Lowfat Greek Strained...       120             16   \n",
       "1  Total 2% with Strawberry Lowfat Greek Strained...       120             16   \n",
       "2  Total 2% with Strawberry Lowfat Greek Strained...       120             16   \n",
       "3  Total 2% with Strawberry Lowfat Greek Strained...       120             16   \n",
       "4  Total 2% with Strawberry Lowfat Greek Strained...       120             16   \n",
       "\n",
       "    aisle  department  \n",
       "0  yogurt  dairy eggs  \n",
       "1  yogurt  dairy eggs  \n",
       "2  yogurt  dairy eggs  \n",
       "3  yogurt  dairy eggs  \n",
       "4  yogurt  dairy eggs  "
      ]
     },
     "execution_count": 82,
     "metadata": {},
     "output_type": "execute_result"
    }
   ],
   "source": [
    "order_details.head()"
   ]
  },
  {
   "cell_type": "code",
   "execution_count": 83,
   "id": "6cfb21b7",
   "metadata": {
    "ExecuteTime": {
     "end_time": "2025-01-14T07:59:25.279797Z",
     "start_time": "2025-01-14T07:59:25.261668Z"
    }
   },
   "outputs": [
    {
     "data": {
      "text/html": [
       "<div>\n",
       "<style scoped>\n",
       "    .dataframe tbody tr th:only-of-type {\n",
       "        vertical-align: middle;\n",
       "    }\n",
       "\n",
       "    .dataframe tbody tr th {\n",
       "        vertical-align: top;\n",
       "    }\n",
       "\n",
       "    .dataframe thead th {\n",
       "        text-align: right;\n",
       "    }\n",
       "</style>\n",
       "<table border=\"1\" class=\"dataframe\">\n",
       "  <thead>\n",
       "    <tr style=\"text-align: right;\">\n",
       "      <th></th>\n",
       "      <th>order_id</th>\n",
       "      <th>user_id</th>\n",
       "      <th>eval_set</th>\n",
       "      <th>order_number</th>\n",
       "      <th>order_dow</th>\n",
       "      <th>order_hour_of_day</th>\n",
       "      <th>days_since_prior_order</th>\n",
       "    </tr>\n",
       "  </thead>\n",
       "  <tbody>\n",
       "    <tr>\n",
       "      <th>160</th>\n",
       "      <td>1737705</td>\n",
       "      <td>17</td>\n",
       "      <td>prior</td>\n",
       "      <td>1</td>\n",
       "      <td>2</td>\n",
       "      <td>13</td>\n",
       "      <td>NaN</td>\n",
       "    </tr>\n",
       "    <tr>\n",
       "      <th>161</th>\n",
       "      <td>1681401</td>\n",
       "      <td>17</td>\n",
       "      <td>prior</td>\n",
       "      <td>2</td>\n",
       "      <td>5</td>\n",
       "      <td>10</td>\n",
       "      <td>3.0</td>\n",
       "    </tr>\n",
       "    <tr>\n",
       "      <th>162</th>\n",
       "      <td>2680214</td>\n",
       "      <td>17</td>\n",
       "      <td>prior</td>\n",
       "      <td>3</td>\n",
       "      <td>3</td>\n",
       "      <td>10</td>\n",
       "      <td>5.0</td>\n",
       "    </tr>\n",
       "    <tr>\n",
       "      <th>163</th>\n",
       "      <td>3197376</td>\n",
       "      <td>17</td>\n",
       "      <td>prior</td>\n",
       "      <td>4</td>\n",
       "      <td>1</td>\n",
       "      <td>14</td>\n",
       "      <td>5.0</td>\n",
       "    </tr>\n",
       "    <tr>\n",
       "      <th>164</th>\n",
       "      <td>3237467</td>\n",
       "      <td>17</td>\n",
       "      <td>prior</td>\n",
       "      <td>5</td>\n",
       "      <td>6</td>\n",
       "      <td>17</td>\n",
       "      <td>5.0</td>\n",
       "    </tr>\n",
       "  </tbody>\n",
       "</table>\n",
       "</div>"
      ],
      "text/plain": [
       "     order_id  user_id eval_set  order_number  order_dow  order_hour_of_day  \\\n",
       "160   1737705       17    prior             1          2                 13   \n",
       "161   1681401       17    prior             2          5                 10   \n",
       "162   2680214       17    prior             3          3                 10   \n",
       "163   3197376       17    prior             4          1                 14   \n",
       "164   3237467       17    prior             5          6                 17   \n",
       "\n",
       "     days_since_prior_order  \n",
       "160                     NaN  \n",
       "161                     3.0  \n",
       "162                     5.0  \n",
       "163                     5.0  \n",
       "164                     5.0  "
      ]
     },
     "execution_count": 83,
     "metadata": {},
     "output_type": "execute_result"
    }
   ],
   "source": [
    "orders.head()"
   ]
  },
  {
   "cell_type": "code",
   "execution_count": 35,
   "id": "004bebe2",
   "metadata": {
    "ExecuteTime": {
     "end_time": "2025-01-15T06:59:53.900217Z",
     "start_time": "2025-01-15T06:59:52.597141Z"
    },
    "scrolled": false
   },
   "outputs": [
    {
     "data": {
      "image/png": "[encoded data removed]",
      "text/plain": [
       "<Figure size 1000x500 with 2 Axes>"
      ]
     },
     "metadata": {},
     "output_type": "display_data"
    }
   ],
   "source": [
    "import matplotlib.pyplot as plt\n",
    "\n",
    "# 학습과정 표시하기(validation dataset 있는 경우)\n",
    "fig, loss_ax = plt.subplots(figsize=(10,5))\n",
    "loss_ax.plot(history.history['loss'], 'r', label='train loss')\n",
    "loss_ax.plot(history.history['val_loss'], 'y', label='validation loss')\n",
    "loss_ax.set_xlabel('epoch')\n",
    "loss_ax.set_ylabel('loss')\n",
    "acc_ax = loss_ax.twinx()\n",
    "acc_ax.plot(history.history['accuracy'], 'b', label='train accuracy')\n",
    "acc_ax.plot(history.history['val_accuracy'], 'g', label='validation accuracy')\n",
    "acc_ax.set_ylabel('accuracy')\n",
    "loss_ax.legend(loc='center right')\n",
    "acc_ax.legend(bbox_to_anchor=(0.999, 0.7))\n",
    "plt.show()"
   ]
  },
  {
   "cell_type": "code",
   "execution_count": 36,
   "id": "75f6c72f",
   "metadata": {
    "ExecuteTime": {
     "end_time": "2025-01-15T08:16:28.775647Z",
     "start_time": "2025-01-15T08:16:26.645759Z"
    }
   },
   "outputs": [
    {
     "name": "stdout",
     "output_type": "stream",
     "text": [
      "1966/1966 [==============================] - 2s 1ms/step - loss: 1.7474e-08 - accuracy: 1.0000\n"
     ]
    },
    {
     "data": {
      "text/plain": [
       "[1.747397071483192e-08, 1.0]"
      ]
     },
     "execution_count": 36,
     "metadata": {},
     "output_type": "execute_result"
    }
   ],
   "source": [
    "# 모델 평가\n",
    "model.evaluate(X_test, y_test)"
   ]
  },
  {
   "cell_type": "code",
   "execution_count": 21,
   "id": "c669b961",
   "metadata": {
    "ExecuteTime": {
     "end_time": "2025-01-15T06:33:18.208642Z",
     "start_time": "2025-01-15T06:33:17.898972Z"
    },
    "scrolled": false
   },
   "outputs": [
    {
     "name": "stdout",
     "output_type": "stream",
     "text": [
      "NS홈쇼핑, 한상차림 간편하게 '설 <b>식품</b> 집중편성' https://n.news.naver.com/mnews/article/014/0005296096?sid=101\n",
      "강진 믿음영농, 건강과 맛을 담은 ‘누룽지칩&amp;버섯스낵’ 출시 https://www.viva100.com/article/20250115501037\n",
      "[기획] 급식업계, 줄어드는 학생보다 늘어나는 시니어 공략 http://www.m-i.kr/news/articleView.html?idxno=1199452\n",
      "골든벨통상, <b>유기농</b> NFC 레몬즙 스틱형 출시 https://www.dailysecu.com/news/articleView.html?idxno=163012\n",
      "[오늘의 제약리뷰] 유유제약‧JW중외제약‧동아제약‧동국제약 http://www.financialreview.co.kr/news/articleView.html?idxno=32631\n",
      "강진 믿음영농, 건강과 맛 담은 '누룽지칩&amp;버섯스낵' 출시 http://www.welfarenews.net/news/articleView.html?idxno=107269\n",
      "NS홈쇼핑, 설 연휴 대비 <b>식품</b> 특별 편성 https://www.healthinnews.co.kr/view.php?ud=202501151206073607204ead0791_48\n",
      "[단독] &quot;맥주처럼 마시자&quot;…이마트, G7 캔와인 '세계 최초' 출시 https://n.news.naver.com/mnews/article/015/0005082521?sid=101\n",
      "[이BIO] 동국제약·한미사이언스·차병원 외 http://www.newsprime.co.kr/news/article.html?no=671134\n",
      "산엔청쇼핑몰, 설 명절 맞이 기획전 마련 https://www.newsgn.com/news/articleView.html?idxno=461018\n",
      "NS홈쇼핑, '긴 연휴' 대비 명절 먹거리 방송 집중 편성 https://www.ziksir.com/news/articleView.html?idxno=79788\n",
      "[라이센스 제약·헬스 PICK] 동국제약·JW중외제약·대상웰라이프 https://www.lcnews.co.kr/news/articleView.html?idxno=92668\n",
      "NS홈쇼핑, ‘설 <b>식품</b> 집중편성’한다 http://www.lawissue.co.kr/view.php?ud=202501151206073607204ead0791_12\n",
      "강진군 건강과 맛을 담은 ‘누룽지칩·버섯스낵’ 출시 https://www.vegannews.co.kr/news/article.html?no=29181\n",
      "산청군, 산엔청쇼핑몰 설 특별할인 https://www.joongdo.co.kr/web/view.php?key=20250115010004142\n",
      "[제약+] 젬백스 &quot;GV1001, 항암제 부작용 억제 효과 입증&quot; 外 https://dealsite.co.kr/articles/135057\n",
      "산엔청쇼핑몰, 설 명절 기획전…딸기·사과 등 60% 할인 https://n.news.naver.com/mnews/article/003/0013016720?sid=102\n",
      "NS홈쇼핑, 설 전까지 간편식과 명절 <b>식품</b> 집중 편성 https://n.news.naver.com/mnews/article/117/0003904364?sid=103\n",
      "내년부터 美·유럽 우유 관세 빠진다…韓유업계 대응은? http://www.iminju.net/news/articleView.html?idxno=116529\n",
      "[플맨픽-유통] 삼양사, 제로 슈거 숙취해소제 '상쾌환 스틱 제로' 2종 출... https://www.pressman.kr/news/articleView.html?idxno=86990\n",
      "NS홈쇼핑, 설 연휴 간편식 방송...명절 준비 지원 https://www.thefairnews.co.kr/news/articleView.html?idxno=39651\n",
      "NS홈쇼핑, 설 연휴 앞두고 '명절 관련 <b>식품</b>방송' 집중 편성 https://www.cstimes.com/news/articleView.html?idxno=629128\n",
      "NS홈쇼핑, 긴 연휴 대비 명절 먹거리 상품 집중 편성 https://www.mhns.co.kr/news/articleView.html?idxno=706929\n",
      "NS홈쇼핑, 간편한 한상차림 ‘설 <b>식품</b>’ 집중 편성 https://hobbyen-news.com/news/view/1065574872515500\n",
      "뉴트리코어 '<b>유기농</b> 비타민D' 건강기능<b>식품</b>, 누적판매량 52만개 돌파 http://www.nongup.net/news/articleView.html?idxno=30775\n",
      "뉴트리코어, '<b>유기농</b> 비타민D' 건강기능<b>식품</b> 누적 판매 52만개 돌파 http://www.hortitimes.com/news/articleView.html?idxno=32441\n",
      "설 명절 특수 잡아라…NS홈쇼핑 ‘설 <b>식품</b> 집중편성’·홈플러스 ‘설날... https://www.news2day.co.kr/article/20250115500045\n",
      "산엔청쇼핑몰, 설 명절 맞이 기획전∙∙∙특별할인 이벤트로 성원 보답 https://www.newsfreezone.co.kr/news/articleView.html?idxno=604893\n",
      "NS홈쇼핑, 설 관련 <b>식품</b> 집중 편성 http://www.finomy.com/news/articleView.html?idxno=221530\n",
      "[설 선물특집] 이커머스, 설 명절 할인행사 진행 https://www.smartfn.co.kr/article/view/sfn202501150011\n",
      "산엔청쇼핑몰, 설 명절 맞이 기획전 마련 https://www.gukjenews.com/news/articleView.html?idxno=3182086\n",
      "NS홈쇼핑, 긴 설 명절에 한상차림 간편한 '설 <b>식품</b> 집중편성' http://www.popcornnews.net/news/articleView.html?idxno=71617\n",
      "[유통가 레이더] &quot;아로마홉 100%&quot;... 롯데칠성음료, '클라우드' 리뉴얼로... https://www.greened.kr/news/articleView.html?idxno=322270\n",
      "백화점서 품격있게… “장인의 정성을 드려요” https://n.news.naver.com/mnews/article/021/0002684143?sid=101\n",
      "NS홈쇼핑, 한상차림 간편하게 '설 <b>식품</b> 집중편성' http://www.newsdream.kr/news/articleView.html?idxno=75191\n",
      "경남산엔청쇼핑몰, 설 명절 맞이 기획전 마련 https://www.kfenews.co.kr/news/articleView.html?idxno=628741\n",
      "산청군 산엔청쇼핑몰, 설 명절 특별할인 기획전 진행 https://www.polinews.co.kr/news/articleView.html?idxno=677920\n",
      "캐시닥 용돈퀴즈 정답 1월 15일 [단독] https://www.bntnews.co.kr/article/view/bnt202501150006\n",
      "NS홈쇼핑, 한상차림 간편하게 '설 <b>식품</b> 집중편성' https://www.nextdaily.co.kr/news/articleView.html?idxno=234671\n",
      "NS홈쇼핑, 한상차림 간편하게 ‘설 <b>식품</b> 집중편성’ https://n.news.naver.com/mnews/article/119/0002913958?sid=101\n",
      "<b>식품</b>업계, 2025 설 선물세트로 가성비·가심비 ‘조준’ https://www.inthenews.co.kr/news/article.html?no=68411\n",
      "“한상차림 간편하게” NS홈쇼핑, 설 <b>식품</b> 집중편성 http://kpenews.com/View.aspx?No=3512136\n",
      "내년부터 美·유럽 '무관세 우유' 몰려온다…생존책 마련 분주한 乳업계 https://n.news.naver.com/mnews/article/003/0013016006?sid=101\n",
      "‘극과 극’ 설 선물…소포장 눈에 띄네 https://n.news.naver.com/mnews/article/028/0002726631?sid=101\n",
      "천정부지 시카고 계란값 ‘12개 9달러’ https://news.koreadaily.com/2025/01/14/economy/lifeeconomy/20250114122547025.html\n",
      "동물복지 한우 눈길… 소포장 세트 풍성 https://n.news.naver.com/mnews/article/081/0003511025?sid=101\n",
      "신안 1004몰, 설 맞이 할인 기획전 http://www.jnilbo.com/75915839064\n",
      "[2025 설특집] 유통업계 트렌드 http://www.aflnews.co.kr/news/articleView.html?idxno=287997\n",
      "<b>식품</b>업계, 각양각색 설 선물 세트 출시로 '분주' http://www.bizwnews.com/news/articleView.html?idxno=95116\n",
      "<b>식품</b>업계, 을사년 설 선물세트 콘셉트는?...'헬시플레저·가성비' 지속 https://daily.hankooki.com/news/articleView.html?idxno=1169783\n",
      "[오늘의 장바구니] 롯데마트·LG생활건강·레고랜드 호텔 외 http://www.newsprime.co.kr/news/article.html?no=671009\n",
      "[심층분석] ‘간장 명가’ 샘표, 중국서 통하지 않나…현지법인 부실 장... https://www.tfmedia.co.kr/news/article.html?no=176649\n",
      "&quot;올 설에도 '고기'로 든든함 선물해볼까&quot; http://www.mkhealth.co.kr/news/articleView.html?idxno=71374\n",
      "[마켓+]'싸거나 혹은 비싸거나'…유통업계 설 선물도 양극화 https://www.businessplus.kr/news/articleView.html?idxno=78816\n",
      "전남도, 여성농어업인 행복바우처 지원 80세로 상향 https://www.thereport.co.kr/news/articleView.html?idxno=58330\n",
      "2025년 시작과 함께 뷰티 업계 따뜻한 온정 나누기 '눈길' https://www.meconomynews.com/news/articleView.html?idxno=107259\n",
      "[인사이드 스토리]민간에 넘긴 '<b>유기농</b> 화장품 인증' 안전할까 https://n.news.naver.com/mnews/article/648/0000032417?sid=101\n",
      "[2025 한국소비자만족지수 1위] 헬시테라피 전문 프리미엄 건강<b>식품</b> 브... https://n.news.naver.com/mnews/article/050/0000085046?sid=101\n",
      "11번가, '설 명절 한가득' 프로모션 진행…최대 반값 할인 http://www.econonews.co.kr/news/articleView.html?idxno=370925\n",
      "11번가, 명절 인기템 530만여개 특가 판매 https://n.news.naver.com/mnews/article/092/0002359695?sid=105\n",
      "제약업계, 설 명절 특수 잡기 ‘총력전’ https://www.dnews.co.kr/uhtml/view.jsp?idxno=202501131108407140848\n",
      "&quot;명품과일도 하루 만에 집 앞으로&quot;…쿠팡, '프리미엄 신선<b>식품</b>' 승부수 https://www.asiatoday.co.kr/view.php?key=20250113010006383\n",
      "[오늘의 유통리뷰] BBQ‧다이닝브랜즈그룹‧CJ제일제당‧LG생활건강‧하... http://www.financialreview.co.kr/news/articleView.html?idxno=32590\n",
      "11번가, 본격 설맞이 할인 행사…명절 인기템 530만여개 특가 https://www.ziksir.com/news/articleView.html?idxno=79582\n",
      "[브리프]롯데백화점 신세계백화점 현대백화점 홈플러스 쿠팡 이랜드 컬... http://www.biztribune.co.kr/news/articleView.html?idxno=328251\n",
      "11번가, '설 명절 한가득' 프로모션 진행 http://www.thefirstmedia.net/news/articleView.html?idxno=162151\n",
      "[오늘의 장바구니] 라네즈·이랜드월드·깨끗한나라·워커힐 외 http://www.newsprime.co.kr/news/article.html?no=670824\n",
      "오하루 자연가득, '레몬진저샷&amp;쌍화진액' 출시 https://www.slist.kr/news/articleView.html?idxno=611246\n",
      "[생활경제 이슈] 오하루 자연가득, ‘레몬진저샷&amp;쌍화진액’ 출시 外 http://www.lawissue.co.kr/view.php?ud=202501131359013389204ead0791_12\n",
      "백화점, 설 명절 선물 키워드는 '프리미엄&amp;한정판' http://www.asiaa.co.kr/news/articleView.html?idxno=200186\n",
      "11번가, '설 명절 한가득' 프로모션 진행…최대 50%↓ http://www.newsdream.kr/news/articleView.html?idxno=75050\n",
      "신안군, 설 명절 '신안1004몰' 할인 기획전 개최 https://www.onews.tv/news/articleView.html?idxno=230930\n",
      "11번가, '설 명절 한가득' 프로모션…530만여개 제품 최대 반값 판매 https://www.cnet.co.kr/view/?no=20250113115903\n",
      "11번가, 설맞이 할인 행사...명절 인기템 530만여개 특가 판매 https://www.techm.kr/news/articleView.html?idxno=134450\n",
      "신세계는 '발효곳간' 현대백화점은 '한우'...올해 설은 전통과 품격 담... https://www.techm.kr/news/articleView.html?idxno=134439\n",
      "에스아이빌리지·11번가·샘표, ‘설맞이’ 먹거리·선물세트 기획전 펼... https://www.news2day.co.kr/article/20250113500107\n",
      "SPC 파리바게뜨 동원F&amp;B 11번가 外(유통﻿家 이모저모) https://www.newsclaim.co.kr/news/articleView.html?idxno=3039606\n",
      "[신상NEWS] 대상 미트프로젝트·동원F&amp;B·풀무원 올가, 최신 트렌드 반영... https://www.news2day.co.kr/article/20250113500097\n",
      "오하루 자연가득, 신제품 2종 '레몬진저샷&amp;쌍화진액' 출시 https://www.businesskorea.co.kr/news/articleView.html?idxno=233478\n",
      "11번가, 설맞이 할인 행사 '명절 인기템' 특가 판매 https://www.fetv.co.kr/news/article.html?no=184659\n",
      "11번가, 설맞이 행사...명절 인기템 530만여 개 특가 판매 http://www.4th.kr/news/articleView.html?idxno=2077151\n",
      "11번가, '설 명절 한가득' 프로모션…인기템 530만여개 특가 https://n.news.naver.com/mnews/article/119/0002913037?sid=101\n",
      "11번가, 설 맞아 530만개 상품 최대 50% 할인판매 https://www.businessplus.kr/news/articleView.html?idxno=78676\n",
      "11번가, 명절 인기템 530만개 특가 판매 https://www.newsquest.co.kr/news/articleView.html?idxno=237790\n",
      "오하루 자연가득, 신제품 2종 ‘레몬진저샷&amp;쌍화진액’ 선보여 http://www.livesnews.com/news/article.html?no=46816\n",
      "오하루 자연가득, 신제품 2종 '레몬진저샷&amp;쌍화진액' 출시 프로모션 https://www.newsquest.co.kr/news/articleView.html?idxno=237784\n",
      "<b>식품</b>업계, '차별화' 전략 담은 설 명절 선물세트 출시 https://biz.newdaily.co.kr/site/data/html/2025/01/13/2025011300023.html\n",
      "오하루 자연가득, 신제품 2종 ‘레몬진저샷&amp;쌍화진액’ 선봬 https://www.vegannews.co.kr/news/article.html?no=28414\n",
      "11번가, 본격 설맞이 할인…530만여개 제품 최대 반값 https://n.news.naver.com/mnews/article/003/0013011398?sid=101\n",
      "11번가, 설맞이 할인 행사 시동…530만 명절 인기템 특가 판매 http://theviewers.co.kr/View.aspx?No=3509627\n",
      "장 건강과 혈당 관리를 한 번에…'당케어 앤 유산균' 출시 https://jhealthmedia.joins.com/news/articleView.html?idxno=29469\n",
      "오하루 자연가득, 신제품 2종 '레몬진저샷&amp;쌍화진액' 출시 기념 프로모... https://www.enetnews.co.kr/news/articleView.html?idxno=33629\n",
      "참든건강과학, 설맞이 고객 감사 이벤트 진행 https://www.gokorea.kr/news/articleView.html?idxno=816155\n",
      "11번가, '설 명절 한가득' 행사 진행…최대 50% 할인 http://www.hansbiz.co.kr/news/articleView.html?idxno=729797\n",
      "11번가, 설 명절 인기템 530만여개 최대 50% 할인 https://n.news.naver.com/mnews/article/421/0008017595?sid=101\n",
      "11번가, 설 명절 상품 최대 50% 할인 프로모션 http://www.smedaily.co.kr/news/articleView.html?idxno=314451\n",
      "11번가, 설맞이 할인행사...명절 인기템 530만여개 특판 https://www.slist.kr/news/articleView.html?idxno=611109\n",
      "[건강 클리닉] 암 치료는 총력전이다. http://www.veritas-a.com/news/articleView.html?idxno=538998\n",
      "'신안1004몰' 설맞이 농수특산물 할인 기획전 http://www.hansbiz.co.kr/news/articleView.html?idxno=729638\n",
      "[포토] 현대백화점 &quot;올해 설 명절엔 한우 선물 어떠세요&quot; https://biz.newdaily.co.kr/site/data/html/2025/01/12/2025011200068.html\n"
     ]
    }
   ],
   "source": [
    "import requests\n",
    "\n",
    "client_id = \"T3xJlimKqJrEwhcK6VTd\"\n",
    "client_secret = \"uqGAxFqUDv\"\n",
    "headers = {\n",
    "    \"X-Naver-Client-Id\": client_id,\n",
    "    \"X-Naver-Client-Secret\": client_secret\n",
    "}\n",
    "\n",
    "query = \"유기농 식품\"\n",
    "url = f\"https://openapi.naver.com/v1/search/news.json?query={query}&display=100&sort=date\"\n",
    "response = requests.get(url, headers=headers)\n",
    "data = response.json()\n",
    "\n",
    "# 데이터 확인\n",
    "for item in data['items']:\n",
    "    print(item['title'], item['link'])"
   ]
  },
  {
   "cell_type": "code",
   "execution_count": 42,
   "id": "27bcb173",
   "metadata": {
    "ExecuteTime": {
     "end_time": "2025-01-15T08:46:06.870993Z",
     "start_time": "2025-01-15T08:46:06.148592Z"
    },
    "scrolled": false
   },
   "outputs": [],
   "source": [
    "reordered_products = order_products.groupby('product_id')['reordered'].mean()"
   ]
  },
  {
   "cell_type": "code",
   "execution_count": 44,
   "id": "476bd59e",
   "metadata": {
    "ExecuteTime": {
     "end_time": "2025-01-15T08:46:30.477998Z",
     "start_time": "2025-01-15T08:46:30.460849Z"
    }
   },
   "outputs": [],
   "source": [
    "products_real = pd.merge(reordered_products, products, on='product_id', how='left')"
   ]
  },
  {
   "cell_type": "code",
   "execution_count": 56,
   "id": "93fee7a9",
   "metadata": {
    "ExecuteTime": {
     "end_time": "2025-01-15T08:58:00.289895Z",
     "start_time": "2025-01-15T08:58:00.284831Z"
    }
   },
   "outputs": [],
   "source": [
    "products_real_real = products_real[products_real['reordered'] > 0.6]"
   ]
  },
  {
   "cell_type": "code",
   "execution_count": 57,
   "id": "97a236bc",
   "metadata": {
    "ExecuteTime": {
     "end_time": "2025-01-15T08:58:01.693330Z",
     "start_time": "2025-01-15T08:58:01.676140Z"
    }
   },
   "outputs": [
    {
     "data": {
      "text/html": [
       "<div>\n",
       "<style scoped>\n",
       "    .dataframe tbody tr th:only-of-type {\n",
       "        vertical-align: middle;\n",
       "    }\n",
       "\n",
       "    .dataframe tbody tr th {\n",
       "        vertical-align: top;\n",
       "    }\n",
       "\n",
       "    .dataframe thead th {\n",
       "        text-align: right;\n",
       "    }\n",
       "</style>\n",
       "<table border=\"1\" class=\"dataframe\">\n",
       "  <thead>\n",
       "    <tr style=\"text-align: right;\">\n",
       "      <th></th>\n",
       "      <th>department_id</th>\n",
       "      <th>department</th>\n",
       "      <th>product_id</th>\n",
       "      <th>reordered</th>\n",
       "      <th>product_name</th>\n",
       "      <th>aisle_id</th>\n",
       "    </tr>\n",
       "  </thead>\n",
       "  <tbody>\n",
       "    <tr>\n",
       "      <th>0</th>\n",
       "      <td>1</td>\n",
       "      <td>frozen</td>\n",
       "      <td>130.0</td>\n",
       "      <td>0.620083</td>\n",
       "      <td>Vanilla Milk Chocolate Almond Ice Cream Bars M...</td>\n",
       "      <td>37.0</td>\n",
       "    </tr>\n",
       "    <tr>\n",
       "      <th>1</th>\n",
       "      <td>1</td>\n",
       "      <td>frozen</td>\n",
       "      <td>162.0</td>\n",
       "      <td>0.691807</td>\n",
       "      <td>Organic Mini Homestyle Waffles</td>\n",
       "      <td>52.0</td>\n",
       "    </tr>\n",
       "    <tr>\n",
       "      <th>2</th>\n",
       "      <td>1</td>\n",
       "      <td>frozen</td>\n",
       "      <td>1398.0</td>\n",
       "      <td>0.708058</td>\n",
       "      <td>Ice Bag</td>\n",
       "      <td>37.0</td>\n",
       "    </tr>\n",
       "    <tr>\n",
       "      <th>3</th>\n",
       "      <td>1</td>\n",
       "      <td>frozen</td>\n",
       "      <td>2326.0</td>\n",
       "      <td>0.668617</td>\n",
       "      <td>Organic Blueberry Waffles</td>\n",
       "      <td>52.0</td>\n",
       "    </tr>\n",
       "    <tr>\n",
       "      <th>4</th>\n",
       "      <td>1</td>\n",
       "      <td>frozen</td>\n",
       "      <td>2452.0</td>\n",
       "      <td>0.634391</td>\n",
       "      <td>Naturals Chicken Nuggets</td>\n",
       "      <td>129.0</td>\n",
       "    </tr>\n",
       "    <tr>\n",
       "      <th>...</th>\n",
       "      <td>...</td>\n",
       "      <td>...</td>\n",
       "      <td>...</td>\n",
       "      <td>...</td>\n",
       "      <td>...</td>\n",
       "      <td>...</td>\n",
       "    </tr>\n",
       "    <tr>\n",
       "      <th>1031</th>\n",
       "      <td>20</td>\n",
       "      <td>deli</td>\n",
       "      <td>40396.0</td>\n",
       "      <td>0.660356</td>\n",
       "      <td>Guacamole</td>\n",
       "      <td>67.0</td>\n",
       "    </tr>\n",
       "    <tr>\n",
       "      <th>1032</th>\n",
       "      <td>20</td>\n",
       "      <td>deli</td>\n",
       "      <td>41588.0</td>\n",
       "      <td>0.616879</td>\n",
       "      <td>Firm Tofu</td>\n",
       "      <td>14.0</td>\n",
       "    </tr>\n",
       "    <tr>\n",
       "      <th>1033</th>\n",
       "      <td>20</td>\n",
       "      <td>deli</td>\n",
       "      <td>42585.0</td>\n",
       "      <td>0.663611</td>\n",
       "      <td>Organic Extra Firm Tofu</td>\n",
       "      <td>14.0</td>\n",
       "    </tr>\n",
       "    <tr>\n",
       "      <th>1034</th>\n",
       "      <td>20</td>\n",
       "      <td>deli</td>\n",
       "      <td>45788.0</td>\n",
       "      <td>0.618570</td>\n",
       "      <td>Garlic Lovers Hommus</td>\n",
       "      <td>67.0</td>\n",
       "    </tr>\n",
       "    <tr>\n",
       "      <th>1035</th>\n",
       "      <td>21</td>\n",
       "      <td>missing</td>\n",
       "      <td>NaN</td>\n",
       "      <td>NaN</td>\n",
       "      <td>NaN</td>\n",
       "      <td>NaN</td>\n",
       "    </tr>\n",
       "  </tbody>\n",
       "</table>\n",
       "<p>1036 rows × 6 columns</p>\n",
       "</div>"
      ],
      "text/plain": [
       "      department_id department  product_id  reordered  \\\n",
       "0                 1     frozen       130.0   0.620083   \n",
       "1                 1     frozen       162.0   0.691807   \n",
       "2                 1     frozen      1398.0   0.708058   \n",
       "3                 1     frozen      2326.0   0.668617   \n",
       "4                 1     frozen      2452.0   0.634391   \n",
       "...             ...        ...         ...        ...   \n",
       "1031             20       deli     40396.0   0.660356   \n",
       "1032             20       deli     41588.0   0.616879   \n",
       "1033             20       deli     42585.0   0.663611   \n",
       "1034             20       deli     45788.0   0.618570   \n",
       "1035             21    missing         NaN        NaN   \n",
       "\n",
       "                                           product_name  aisle_id  \n",
       "0     Vanilla Milk Chocolate Almond Ice Cream Bars M...      37.0  \n",
       "1                        Organic Mini Homestyle Waffles      52.0  \n",
       "2                                               Ice Bag      37.0  \n",
       "3                             Organic Blueberry Waffles      52.0  \n",
       "4                              Naturals Chicken Nuggets     129.0  \n",
       "...                                                 ...       ...  \n",
       "1031                                          Guacamole      67.0  \n",
       "1032                                          Firm Tofu      14.0  \n",
       "1033                            Organic Extra Firm Tofu      14.0  \n",
       "1034                               Garlic Lovers Hommus      67.0  \n",
       "1035                                                NaN       NaN  \n",
       "\n",
       "[1036 rows x 6 columns]"
      ]
     },
     "execution_count": 57,
     "metadata": {},
     "output_type": "execute_result"
    }
   ],
   "source": [
    "pd.merge(departments, products_real_real, on='department_id', how='left')"
   ]
  },
  {
   "cell_type": "code",
   "execution_count": 52,
   "id": "15120d91",
   "metadata": {
    "ExecuteTime": {
     "end_time": "2025-01-15T08:55:43.149878Z",
     "start_time": "2025-01-15T08:55:43.140733Z"
    }
   },
   "outputs": [
    {
     "data": {
      "text/html": [
       "<div>\n",
       "<style scoped>\n",
       "    .dataframe tbody tr th:only-of-type {\n",
       "        vertical-align: middle;\n",
       "    }\n",
       "\n",
       "    .dataframe tbody tr th {\n",
       "        vertical-align: top;\n",
       "    }\n",
       "\n",
       "    .dataframe thead th {\n",
       "        text-align: right;\n",
       "    }\n",
       "</style>\n",
       "<table border=\"1\" class=\"dataframe\">\n",
       "  <thead>\n",
       "    <tr style=\"text-align: right;\">\n",
       "      <th></th>\n",
       "      <th>department_id</th>\n",
       "      <th>department</th>\n",
       "    </tr>\n",
       "  </thead>\n",
       "  <tbody>\n",
       "    <tr>\n",
       "      <th>0</th>\n",
       "      <td>1</td>\n",
       "      <td>frozen</td>\n",
       "    </tr>\n",
       "    <tr>\n",
       "      <th>1</th>\n",
       "      <td>2</td>\n",
       "      <td>other</td>\n",
       "    </tr>\n",
       "    <tr>\n",
       "      <th>2</th>\n",
       "      <td>3</td>\n",
       "      <td>bakery</td>\n",
       "    </tr>\n",
       "    <tr>\n",
       "      <th>3</th>\n",
       "      <td>4</td>\n",
       "      <td>produce</td>\n",
       "    </tr>\n",
       "    <tr>\n",
       "      <th>4</th>\n",
       "      <td>5</td>\n",
       "      <td>alcohol</td>\n",
       "    </tr>\n",
       "    <tr>\n",
       "      <th>5</th>\n",
       "      <td>6</td>\n",
       "      <td>international</td>\n",
       "    </tr>\n",
       "    <tr>\n",
       "      <th>6</th>\n",
       "      <td>7</td>\n",
       "      <td>beverages</td>\n",
       "    </tr>\n",
       "    <tr>\n",
       "      <th>7</th>\n",
       "      <td>8</td>\n",
       "      <td>pets</td>\n",
       "    </tr>\n",
       "    <tr>\n",
       "      <th>8</th>\n",
       "      <td>9</td>\n",
       "      <td>dry goods pasta</td>\n",
       "    </tr>\n",
       "    <tr>\n",
       "      <th>9</th>\n",
       "      <td>10</td>\n",
       "      <td>bulk</td>\n",
       "    </tr>\n",
       "    <tr>\n",
       "      <th>10</th>\n",
       "      <td>11</td>\n",
       "      <td>personal care</td>\n",
       "    </tr>\n",
       "    <tr>\n",
       "      <th>11</th>\n",
       "      <td>12</td>\n",
       "      <td>meat seafood</td>\n",
       "    </tr>\n",
       "    <tr>\n",
       "      <th>12</th>\n",
       "      <td>13</td>\n",
       "      <td>pantry</td>\n",
       "    </tr>\n",
       "    <tr>\n",
       "      <th>13</th>\n",
       "      <td>14</td>\n",
       "      <td>breakfast</td>\n",
       "    </tr>\n",
       "    <tr>\n",
       "      <th>14</th>\n",
       "      <td>15</td>\n",
       "      <td>canned goods</td>\n",
       "    </tr>\n",
       "    <tr>\n",
       "      <th>15</th>\n",
       "      <td>16</td>\n",
       "      <td>dairy eggs</td>\n",
       "    </tr>\n",
       "    <tr>\n",
       "      <th>16</th>\n",
       "      <td>17</td>\n",
       "      <td>household</td>\n",
       "    </tr>\n",
       "    <tr>\n",
       "      <th>17</th>\n",
       "      <td>18</td>\n",
       "      <td>babies</td>\n",
       "    </tr>\n",
       "    <tr>\n",
       "      <th>18</th>\n",
       "      <td>19</td>\n",
       "      <td>snacks</td>\n",
       "    </tr>\n",
       "    <tr>\n",
       "      <th>19</th>\n",
       "      <td>20</td>\n",
       "      <td>deli</td>\n",
       "    </tr>\n",
       "    <tr>\n",
       "      <th>20</th>\n",
       "      <td>21</td>\n",
       "      <td>missing</td>\n",
       "    </tr>\n",
       "  </tbody>\n",
       "</table>\n",
       "</div>"
      ],
      "text/plain": [
       "    department_id       department\n",
       "0               1           frozen\n",
       "1               2            other\n",
       "2               3           bakery\n",
       "3               4          produce\n",
       "4               5          alcohol\n",
       "5               6    international\n",
       "6               7        beverages\n",
       "7               8             pets\n",
       "8               9  dry goods pasta\n",
       "9              10             bulk\n",
       "10             11    personal care\n",
       "11             12     meat seafood\n",
       "12             13           pantry\n",
       "13             14        breakfast\n",
       "14             15     canned goods\n",
       "15             16       dairy eggs\n",
       "16             17        household\n",
       "17             18           babies\n",
       "18             19           snacks\n",
       "19             20             deli\n",
       "20             21          missing"
      ]
     },
     "execution_count": 52,
     "metadata": {},
     "output_type": "execute_result"
    }
   ],
   "source": [
    "departments"
   ]
  },
  {
   "cell_type": "code",
   "execution_count": null,
   "id": "6cb43925",
   "metadata": {},
   "outputs": [],
   "source": []
  },
  {
   "cell_type": "code",
   "execution_count": null,
   "id": "b2880e59",
   "metadata": {},
   "outputs": [],
   "source": []
  },
  {
   "cell_type": "code",
   "execution_count": null,
   "id": "9d5840fc",
   "metadata": {},
   "outputs": [],
   "source": []
  },
  {
   "cell_type": "code",
   "execution_count": null,
   "id": "23a825db",
   "metadata": {},
   "outputs": [],
   "source": []
  },
  {
   "cell_type": "code",
   "execution_count": null,
   "id": "df61a791",
   "metadata": {},
   "outputs": [],
   "source": []
  },
  {
   "cell_type": "code",
   "execution_count": null,
   "id": "1ae540e6",
   "metadata": {},
   "outputs": [],
   "source": []
  },
  {
   "cell_type": "code",
   "execution_count": null,
   "id": "fcd479f6",
   "metadata": {},
   "outputs": [],
   "source": []
  },
  {
   "cell_type": "code",
   "execution_count": null,
   "id": "036b5444",
   "metadata": {},
   "outputs": [],
   "source": []
  },
  {
   "cell_type": "code",
   "execution_count": null,
   "id": "31d3ee40",
   "metadata": {},
   "outputs": [],
   "source": []
  },
  {
   "cell_type": "code",
   "execution_count": null,
   "id": "6cf4fe5d",
   "metadata": {},
   "outputs": [],
   "source": []
  },
  {
   "cell_type": "code",
   "execution_count": null,
   "id": "44e26d41",
   "metadata": {},
   "outputs": [],
   "source": []
  },
  {
   "cell_type": "code",
   "execution_count": null,
   "id": "3b72bf86",
   "metadata": {},
   "outputs": [],
   "source": []
  },
  {
   "cell_type": "code",
   "execution_count": null,
   "id": "8fe50e3a",
   "metadata": {},
   "outputs": [],
   "source": []
  },
  {
   "cell_type": "code",
   "execution_count": null,
   "id": "f4409729",
   "metadata": {},
   "outputs": [],
   "source": []
  },
  {
   "cell_type": "code",
   "execution_count": null,
   "id": "7fb7a379",
   "metadata": {},
   "outputs": [],
   "source": []
  },
  {
   "cell_type": "code",
   "execution_count": null,
   "id": "d1934f22",
   "metadata": {},
   "outputs": [],
   "source": []
  },
  {
   "cell_type": "code",
   "execution_count": null,
   "id": "6c19e586",
   "metadata": {},
   "outputs": [],
   "source": []
  },
  {
   "cell_type": "code",
   "execution_count": null,
   "id": "f2f02e55",
   "metadata": {},
   "outputs": [],
   "source": []
  },
  {
   "cell_type": "code",
   "execution_count": null,
   "id": "71803b94",
   "metadata": {},
   "outputs": [],
   "source": []
  },
  {
   "cell_type": "code",
   "execution_count": null,
   "id": "c4f9c4f7",
   "metadata": {},
   "outputs": [],
   "source": []
  },
  {
   "cell_type": "code",
   "execution_count": null,
   "id": "dbd7cdc7",
   "metadata": {},
   "outputs": [],
   "source": []
  },
  {
   "cell_type": "code",
   "execution_count": null,
   "id": "8914d88f",
   "metadata": {},
   "outputs": [],
   "source": []
  },
  {
   "cell_type": "code",
   "execution_count": null,
   "id": "5501d6e7",
   "metadata": {},
   "outputs": [],
   "source": []
  },
  {
   "cell_type": "code",
   "execution_count": null,
   "id": "c43ad7c2",
   "metadata": {},
   "outputs": [],
   "source": []
  },
  {
   "cell_type": "code",
   "execution_count": null,
   "id": "7b2de566",
   "metadata": {},
   "outputs": [],
   "source": []
  },
  {
   "cell_type": "code",
   "execution_count": null,
   "id": "bb36cba7",
   "metadata": {},
   "outputs": [],
   "source": []
  },
  {
   "cell_type": "code",
   "execution_count": null,
   "id": "6789ce0d",
   "metadata": {},
   "outputs": [],
   "source": []
  },
  {
   "cell_type": "code",
   "execution_count": null,
   "id": "06cd857e",
   "metadata": {},
   "outputs": [],
   "source": []
  },
  {
   "cell_type": "code",
   "execution_count": null,
   "id": "69810d28",
   "metadata": {},
   "outputs": [],
   "source": []
  },
  {
   "cell_type": "code",
   "execution_count": null,
   "id": "66bc66fa",
   "metadata": {},
   "outputs": [],
   "source": []
  },
  {
   "cell_type": "code",
   "execution_count": null,
   "id": "c0f585ec",
   "metadata": {},
   "outputs": [],
   "source": []
  },
  {
   "cell_type": "code",
   "execution_count": null,
   "id": "ed48f31f",
   "metadata": {},
   "outputs": [],
   "source": []
  },
  {
   "cell_type": "code",
   "execution_count": null,
   "id": "2eb7e22f",
   "metadata": {},
   "outputs": [],
   "source": []
  },
  {
   "cell_type": "code",
   "execution_count": null,
   "id": "814f2cbc",
   "metadata": {},
   "outputs": [],
   "source": []
  },
  {
   "cell_type": "code",
   "execution_count": null,
   "id": "eb8df090",
   "metadata": {},
   "outputs": [],
   "source": []
  },
  {
   "cell_type": "code",
   "execution_count": null,
   "id": "a47aa845",
   "metadata": {},
   "outputs": [],
   "source": []
  },
  {
   "cell_type": "code",
   "execution_count": null,
   "id": "ccd0863a",
   "metadata": {},
   "outputs": [],
   "source": []
  },
  {
   "cell_type": "code",
   "execution_count": null,
   "id": "c7d3c1b7",
   "metadata": {},
   "outputs": [],
   "source": []
  },
  {
   "cell_type": "code",
   "execution_count": null,
   "id": "3f6a7456",
   "metadata": {},
   "outputs": [],
   "source": []
  }
 ],
 "metadata": {
  "kernelspec": {
   "display_name": "Python 3 (ipykernel)",
   "language": "python",
   "name": "python3"
  },
  "language_info": {
   "codemirror_mode": {
    "name": "ipython",
    "version": 3
   },
   "file_extension": ".py",
   "mimetype": "text/x-python",
   "name": "python",
   "nbconvert_exporter": "python",
   "pygments_lexer": "ipython3",
   "version": "3.10.9"
  },
  "toc": {
   "base_numbering": 1,
   "nav_menu": {},
   "number_sections": true,
   "sideBar": true,
   "skip_h1_title": false,
   "title_cell": "Table of Contents",
   "title_sidebar": "Contents",
   "toc_cell": false,
   "toc_position": {
    "height": "calc(100% - 180px)",
    "left": "10px",
    "top": "150px",
    "width": "384px"
   },
   "toc_section_display": true,
   "toc_window_display": true
  }
 },
 "nbformat": 4,
 "nbformat_minor": 5
}
